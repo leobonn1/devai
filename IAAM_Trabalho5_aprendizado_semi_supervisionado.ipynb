{
  "nbformat": 4,
  "nbformat_minor": 0,
  "metadata": {
    "colab": {
      "provenance": [],
      "include_colab_link": true
    },
    "kernelspec": {
      "name": "python3",
      "display_name": "Python 3"
    },
    "language_info": {
      "name": "python"
    }
  },
  "cells": [
    {
      "cell_type": "markdown",
      "metadata": {
        "id": "view-in-github",
        "colab_type": "text"
      },
      "source": [
        "<a href=\"https://colab.research.google.com/github/leobonn1/devai/blob/main/IAAM_Trabalho5_aprendizado_semi_supervisionado.ipynb\" target=\"_parent\"><img src=\"https://colab.research.google.com/assets/colab-badge.svg\" alt=\"Open In Colab\"/></a>"
      ]
    },
    {
      "cell_type": "code",
      "execution_count": 1,
      "metadata": {
        "id": "SS3bwyxXxEPh"
      },
      "outputs": [],
      "source": [
        "from sklearn.datasets import load_digits\n",
        "\n",
        "X_digits, y_digits = load_digits(return_X_y=True)\n",
        "X_train, y_train = X_digits[:1400], y_digits[:1400]\n",
        "X_test, y_test = X_digits[1400:], y_digits[1400:]"
      ]
    },
    {
      "cell_type": "markdown",
      "source": [
        "# Resultado da Regressão Logística com dataset completo: score 0,91\n",
        "\n",
        "---\n",
        "\n"
      ],
      "metadata": {
        "id": "Z3NjdqknAMaI"
      }
    },
    {
      "cell_type": "code",
      "source": [
        "from sklearn.linear_model import LogisticRegression\n",
        "\n",
        "log_reg_completo = LogisticRegression(max_iter=10_000)\n",
        "log_reg_completo.fit(X_train, y_train)\n",
        "log_reg_completo.score(X_test, y_test)"
      ],
      "metadata": {
        "colab": {
          "base_uri": "https://localhost:8080/"
        },
        "id": "gkTLpCVO_b8Q",
        "outputId": "a5a91709-af79-48de-cde1-5c9c707a9ee4"
      },
      "execution_count": 42,
      "outputs": [
        {
          "output_type": "execute_result",
          "data": {
            "text/plain": [
              "0.906801007556675"
            ]
          },
          "metadata": {},
          "execution_count": 42
        }
      ]
    },
    {
      "cell_type": "markdown",
      "source": [
        "# Resultado com 50 amostras aleatórias: score 0,78"
      ],
      "metadata": {
        "id": "t64C3-LuASpu"
      }
    },
    {
      "cell_type": "code",
      "source": [
        "import random\n",
        "log_reg_50_aleatorios = LogisticRegression(max_iter=10_000)\n",
        "random_indexes = random.sample(range(0, len(X_train) -1), 50)\n",
        "X_train_aleatorios = X_train[random_indexes]\n",
        "y_train_aleatorios = y_train[random_indexes]\n",
        "log_reg_50_aleatorios.fit(X_train_aleatorios, y_train_aleatorios)\n",
        "log_reg_50_aleatorios.score(X_test, y_test)"
      ],
      "metadata": {
        "colab": {
          "base_uri": "https://localhost:8080/"
        },
        "id": "CZAXk-jIAiku",
        "outputId": "86ae62f4-c9bb-4370-a91f-a2f485db7444"
      },
      "execution_count": 165,
      "outputs": [
        {
          "output_type": "execute_result",
          "data": {
            "text/plain": [
              "0.7279596977329975"
            ]
          },
          "metadata": {},
          "execution_count": 165
        }
      ]
    },
    {
      "cell_type": "markdown",
      "source": [
        "# Usando algoritmo de clusterização GaussianMixture"
      ],
      "metadata": {
        "id": "23MyUP6LBIqn"
      }
    },
    {
      "cell_type": "code",
      "source": [
        "from sklearn.cluster import KMeans\n",
        "\n",
        "k = 50\n",
        "kmeans = KMeans(n_clusters=k, n_init=\"auto\", random_state=42)\n",
        "X_digits_dist = kmeans.fit_transform(X_train)\n",
        "representative_digits_idx = X_digits_dist.argmin(axis=0)\n",
        "X_representative_digits = X_train[representative_digits_idx]"
      ],
      "metadata": {
        "id": "poBt6zOb3WVy"
      },
      "execution_count": 44,
      "outputs": []
    },
    {
      "cell_type": "code",
      "source": [
        "from sklearn.mixture import GaussianMixture\n",
        "from numpy import unique\n",
        "\n",
        "k = 50\n",
        "gaussian_model = GaussianMixture(n_components=k, n_init = 10, verbose =0, random_state = 42)\n",
        "gaussian_model.fit(X_train)\n",
        "\n",
        "scores = gaussian_model.score_samples(X_train)\n",
        "gaussian_result = gaussian_model.predict(X_train)\n",
        "\n",
        "representative_digits_idx = []\n",
        "for i in range(k):\n",
        "  idx = [index for index,value in enumerate(gaussian_result) if value == i]\n",
        "  i_rep = idx[scores[idx].argmax()]\n",
        "  representative_digits_idx.append(i_rep)\n",
        "\n",
        "X_representative_digits = X_train[representative_digits_idx]\n",
        "\n"
      ],
      "metadata": {
        "id": "CDgs8A_sWGVh"
      },
      "execution_count": 146,
      "outputs": []
    },
    {
      "cell_type": "code",
      "source": [
        "plt.figure(figsize=(8,2))\n",
        "for index, X_representative_digit in enumerate(X_representative_digits):\n",
        "  plt.subplot(k//10, 10, index+1)\n",
        "  plt.imshow(X_representative_digit.reshape(8,8), cmap='binary', interpolation=\"bilinear\")\n",
        "  plt.axis(\"off\")\n",
        "plt.show()"
      ],
      "metadata": {
        "colab": {
          "base_uri": "https://localhost:8080/",
          "height": 191
        },
        "id": "P_7m5Zh14zO5",
        "outputId": "4c5c92e9-32a6-433b-c24a-96825800b873"
      },
      "execution_count": 147,
      "outputs": [
        {
          "output_type": "display_data",
          "data": {
            "text/plain": [
              "<Figure size 800x200 with 50 Axes>"
            ],
            "image/png": "[encoded data removed]"
          },
          "metadata": {}
        }
      ]
    },
    {
      "cell_type": "code",
      "source": [
        "import numpy as np\n",
        "\n",
        "y_representative_digits = np.array([\n",
        "    2, 0, 4, 9, 3, 1, 1, 3, 6, 7,\n",
        "    6, 9, 5, 9, 7, 7, 7, 8, 8, 1,\n",
        "    0, 5, 0, 2, 4, 9, 5, 2, 2, 7,\n",
        "    0, 2, 4, 3, 1, 3, 8, 1, 4, 6,\n",
        "    7, 5, 9, 6, 8, 3, 5, 2, 9, 8\n",
        "])\n",
        "\n"
      ],
      "metadata": {
        "id": "5L5J87GS5zuO"
      },
      "execution_count": 152,
      "outputs": []
    },
    {
      "cell_type": "markdown",
      "source": [
        "# Usando y_representative_digits: score 0,866"
      ],
      "metadata": {
        "id": "r3Wy3_4tPEQg"
      }
    },
    {
      "cell_type": "code",
      "source": [
        "log_reg = LogisticRegression(max_iter=10_000)\n",
        "log_reg.fit(X_representative_digits, y_representative_digits)\n",
        "log_reg.score(X_test, y_test)"
      ],
      "metadata": {
        "colab": {
          "base_uri": "https://localhost:8080/"
        },
        "id": "uxtMWp6F6sc7",
        "outputId": "2723c2af-6e15-41e6-d2e2-f52d02d1472f"
      },
      "execution_count": 153,
      "outputs": [
        {
          "output_type": "execute_result",
          "data": {
            "text/plain": [
              "0.8664987405541562"
            ]
          },
          "metadata": {},
          "execution_count": 153
        }
      ]
    },
    {
      "cell_type": "markdown",
      "source": [
        "# Usando y_train_propagated: score 0,889"
      ],
      "metadata": {
        "id": "hs8hAZd1PRBq"
      }
    },
    {
      "cell_type": "code",
      "source": [
        "y_train_propagated = np.empty(len(X_train), dtype=np.int64)\n",
        "for i in range(k):\n",
        "  y_train_propagated[gaussian_result == i] = y_representative_digits[i]"
      ],
      "metadata": {
        "id": "oH307OZ57ImO"
      },
      "execution_count": 156,
      "outputs": []
    },
    {
      "cell_type": "code",
      "source": [
        "log_reg = LogisticRegression(max_iter=10_000)\n",
        "log_reg.fit(X_train, y_train_propagated)\n",
        "log_reg.score(X_test, y_test)"
      ],
      "metadata": {
        "colab": {
          "base_uri": "https://localhost:8080/"
        },
        "id": "TyCzIpx-78eo",
        "outputId": "44e6ae8c-93e3-49c5-a37c-a0673879596d"
      },
      "execution_count": 155,
      "outputs": [
        {
          "output_type": "execute_result",
          "data": {
            "text/plain": [
              "0.889168765743073"
            ]
          },
          "metadata": {},
          "execution_count": 155
        }
      ]
    },
    {
      "cell_type": "markdown",
      "source": [
        "# Usando y_train_partially_propagated:score 0,884"
      ],
      "metadata": {
        "id": "MeU3L4lWWCK8"
      }
    },
    {
      "cell_type": "code",
      "source": [
        "percentile_closest = 95\n",
        "\n",
        "X_cluster_dist = X_digits_dist[np.arange(len(X_train)), kmeans.labels_]\n",
        "for i in range(k):\n",
        "  in_cluster = (kmeans.labels_ == i)\n",
        "  cluster_dist = X_cluster_dist[in_cluster]\n",
        "  cutoff_distance = np.percentile(cluster_dist, percentile_closest)\n",
        "  above_cutoff = (X_cluster_dist > cutoff_distance)\n",
        "  X_cluster_dist[in_cluster & above_cutoff] = -1\n",
        "\n",
        "partially_propagated = (X_cluster_dist != -1)\n",
        "X_train_partially_propagated = X_train[partially_propagated]\n",
        "y_train_partially_propagated = y_train_propagated[partially_propagated]\n",
        "print(len(y_train_partially_propagated))"
      ],
      "metadata": {
        "colab": {
          "base_uri": "https://localhost:8080/"
        },
        "id": "mvakVuKJ8MBf",
        "outputId": "6fd76b8f-e81a-4aab-89c3-56e6d9e97664"
      },
      "execution_count": 157,
      "outputs": [
        {
          "output_type": "stream",
          "name": "stdout",
          "text": [
            "1309\n"
          ]
        }
      ]
    },
    {
      "cell_type": "code",
      "source": [
        "log_reg = LogisticRegression(max_iter=10_000)\n",
        "log_reg.fit(X_train_partially_propagated, y_train_partially_propagated)\n",
        "log_reg.score(X_test, y_test)"
      ],
      "metadata": {
        "colab": {
          "base_uri": "https://localhost:8080/"
        },
        "id": "FDp1NEEG-pNR",
        "outputId": "e8a2a755-c0bb-4e5b-c1a7-ffbec9e76580"
      },
      "execution_count": 160,
      "outputs": [
        {
          "output_type": "execute_result",
          "data": {
            "text/plain": [
              "0.8841309823677582"
            ]
          },
          "metadata": {},
          "execution_count": 160
        }
      ]
    },
    {
      "cell_type": "code",
      "source": [
        "(y_train_partially_propagated == y_train[partially_propagated]).mean()"
      ],
      "metadata": {
        "colab": {
          "base_uri": "https://localhost:8080/"
        },
        "id": "EDaqf7Zv-9mS",
        "outputId": "2c43e776-d998-4434-a752-a52731e6d40d"
      },
      "execution_count": 159,
      "outputs": [
        {
          "output_type": "execute_result",
          "data": {
            "text/plain": [
              "0.9679144385026738"
            ]
          },
          "metadata": {},
          "execution_count": 159
        }
      ]
    }
  ]
}