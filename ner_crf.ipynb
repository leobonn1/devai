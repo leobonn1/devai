{
  "nbformat": 4,
  "nbformat_minor": 0,
  "metadata": {
    "colab": {
      "provenance": [],
      "machine_shape": "hm",
      "include_colab_link": true
    },
    "kernelspec": {
      "name": "python3",
      "display_name": "Python 3"
    },
    "language_info": {
      "name": "python"
    }
  },
  "cells": [
    {
      "cell_type": "markdown",
      "metadata": {
        "id": "view-in-github",
        "colab_type": "text"
      },
      "source": [
        "<a href=\"https://colab.research.google.com/github/leobonn1/devai/blob/main/ner_crf.ipynb\" target=\"_parent\"><img src=\"https://colab.research.google.com/assets/colab-badge.svg\" alt=\"Open In Colab\"/></a>"
      ]
    },
    {
      "cell_type": "code",
      "execution_count": 1,
      "metadata": {
        "id": "nKhTfZUM7i21",
        "colab": {
          "base_uri": "https://localhost:8080/"
        },
        "outputId": "9e81fd9c-57d9-4fd5-9f24-ddd5efb067ec"
      },
      "outputs": [
        {
          "output_type": "stream",
          "name": "stdout",
          "text": [
            "Requirement already satisfied: pip in /usr/local/lib/python3.10/dist-packages (23.1.2)\n",
            "Collecting pip\n",
            "  Downloading pip-23.3.1-py3-none-any.whl (2.1 MB)\n",
            "\u001b[2K     \u001b[90m━━━━━━━━━━━━━━━━━━━━━━━━━━━━━━━━━━━━━━━━\u001b[0m \u001b[32m2.1/2.1 MB\u001b[0m \u001b[31m20.4 MB/s\u001b[0m eta \u001b[36m0:00:00\u001b[0m\n",
            "\u001b[?25hInstalling collected packages: pip\n",
            "  Attempting uninstall: pip\n",
            "    Found existing installation: pip 23.1.2\n",
            "    Uninstalling pip-23.1.2:\n",
            "      Successfully uninstalled pip-23.1.2\n",
            "Successfully installed pip-23.3.1\n",
            "Collecting seqeval\n",
            "  Downloading seqeval-1.2.2.tar.gz (43 kB)\n",
            "\u001b[2K     \u001b[90m━━━━━━━━━━━━━━━━━━━━━━━━━━━━━━━━━━━━━━━━\u001b[0m \u001b[32m43.6/43.6 kB\u001b[0m \u001b[31m1.0 MB/s\u001b[0m eta \u001b[36m0:00:00\u001b[0m\n",
            "\u001b[?25h  Preparing metadata (setup.py) ... \u001b[?25l\u001b[?25hdone\n",
            "Requirement already satisfied: numpy>=1.14.0 in /usr/local/lib/python3.10/dist-packages (from seqeval) (1.23.5)\n",
            "Requirement already satisfied: scikit-learn>=0.21.3 in /usr/local/lib/python3.10/dist-packages (from seqeval) (1.2.2)\n",
            "Requirement already satisfied: scipy>=1.3.2 in /usr/local/lib/python3.10/dist-packages (from scikit-learn>=0.21.3->seqeval) (1.11.4)\n",
            "Requirement already satisfied: joblib>=1.1.1 in /usr/local/lib/python3.10/dist-packages (from scikit-learn>=0.21.3->seqeval) (1.3.2)\n",
            "Requirement already satisfied: threadpoolctl>=2.0.0 in /usr/local/lib/python3.10/dist-packages (from scikit-learn>=0.21.3->seqeval) (3.2.0)\n",
            "Building wheels for collected packages: seqeval\n",
            "  Building wheel for seqeval (setup.py) ... \u001b[?25l\u001b[?25hdone\n",
            "  Created wheel for seqeval: filename=seqeval-1.2.2-py3-none-any.whl size=16162 sha256=6c36591f2011a587be8db6000784ee465b6288771dd0743ff80338b9e03eb58e\n",
            "  Stored in directory: /root/.cache/pip/wheels/1a/67/4a/ad4082dd7dfc30f2abfe4d80a2ed5926a506eb8a972b4767fa\n",
            "Successfully built seqeval\n",
            "Installing collected packages: seqeval\n",
            "Successfully installed seqeval-1.2.2\n",
            "\u001b[33mWARNING: Running pip as the 'root' user can result in broken permissions and conflicting behaviour with the system package manager. It is recommended to use a virtual environment instead: https://pip.pypa.io/warnings/venv\u001b[0m\u001b[33m\n",
            "\u001b[0mCollecting sklearn_crfsuite\n",
            "  Downloading sklearn_crfsuite-0.3.6-py2.py3-none-any.whl (12 kB)\n",
            "Collecting python-crfsuite>=0.8.3 (from sklearn_crfsuite)\n",
            "  Downloading python_crfsuite-0.9.9-cp310-cp310-manylinux_2_17_x86_64.manylinux2014_x86_64.whl (993 kB)\n",
            "\u001b[2K     \u001b[90m━━━━━━━━━━━━━━━━━━━━━━━━━━━━━━━━━━━━━━━━\u001b[0m \u001b[32m993.5/993.5 kB\u001b[0m \u001b[31m6.6 MB/s\u001b[0m eta \u001b[36m0:00:00\u001b[0m\n",
            "\u001b[?25hRequirement already satisfied: six in /usr/local/lib/python3.10/dist-packages (from sklearn_crfsuite) (1.16.0)\n",
            "Requirement already satisfied: tabulate in /usr/local/lib/python3.10/dist-packages (from sklearn_crfsuite) (0.9.0)\n",
            "Requirement already satisfied: tqdm>=2.0 in /usr/local/lib/python3.10/dist-packages (from sklearn_crfsuite) (4.66.1)\n",
            "Installing collected packages: python-crfsuite, sklearn_crfsuite\n",
            "Successfully installed python-crfsuite-0.9.9 sklearn_crfsuite-0.3.6\n",
            "\u001b[33mWARNING: Running pip as the 'root' user can result in broken permissions and conflicting behaviour with the system package manager. It is recommended to use a virtual environment instead: https://pip.pypa.io/warnings/venv\u001b[0m\u001b[33m\n",
            "\u001b[0mCollecting scikit-learn==1.3.2\n",
            "  Downloading scikit_learn-1.3.2-cp310-cp310-manylinux_2_17_x86_64.manylinux2014_x86_64.whl.metadata (11 kB)\n",
            "Requirement already satisfied: numpy<2.0,>=1.17.3 in /usr/local/lib/python3.10/dist-packages (from scikit-learn==1.3.2) (1.23.5)\n",
            "Requirement already satisfied: scipy>=1.5.0 in /usr/local/lib/python3.10/dist-packages (from scikit-learn==1.3.2) (1.11.4)\n",
            "Requirement already satisfied: joblib>=1.1.1 in /usr/local/lib/python3.10/dist-packages (from scikit-learn==1.3.2) (1.3.2)\n",
            "Requirement already satisfied: threadpoolctl>=2.0.0 in /usr/local/lib/python3.10/dist-packages (from scikit-learn==1.3.2) (3.2.0)\n",
            "Downloading scikit_learn-1.3.2-cp310-cp310-manylinux_2_17_x86_64.manylinux2014_x86_64.whl (10.8 MB)\n",
            "\u001b[2K   \u001b[90m━━━━━━━━━━━━━━━━━━━━━━━━━━━━━━━━━━━━━━━━\u001b[0m \u001b[32m10.8/10.8 MB\u001b[0m \u001b[31m22.8 MB/s\u001b[0m eta \u001b[36m0:00:00\u001b[0m\n",
            "\u001b[?25hInstalling collected packages: scikit-learn\n",
            "  Attempting uninstall: scikit-learn\n",
            "    Found existing installation: scikit-learn 1.2.2\n",
            "    Uninstalling scikit-learn-1.2.2:\n",
            "      Successfully uninstalled scikit-learn-1.2.2\n",
            "Successfully installed scikit-learn-1.3.2\n",
            "\u001b[33mWARNING: Running pip as the 'root' user can result in broken permissions and conflicting behaviour with the system package manager. It is recommended to use a virtual environment instead: https://pip.pypa.io/warnings/venv\u001b[0m\u001b[33m\n",
            "\u001b[0m2023-12-06 22:42:54.943137: E tensorflow/compiler/xla/stream_executor/cuda/cuda_dnn.cc:9342] Unable to register cuDNN factory: Attempting to register factory for plugin cuDNN when one has already been registered\n",
            "2023-12-06 22:42:54.943237: E tensorflow/compiler/xla/stream_executor/cuda/cuda_fft.cc:609] Unable to register cuFFT factory: Attempting to register factory for plugin cuFFT when one has already been registered\n",
            "2023-12-06 22:42:54.943282: E tensorflow/compiler/xla/stream_executor/cuda/cuda_blas.cc:1518] Unable to register cuBLAS factory: Attempting to register factory for plugin cuBLAS when one has already been registered\n",
            "2023-12-06 22:42:54.955553: I tensorflow/core/platform/cpu_feature_guard.cc:182] This TensorFlow binary is optimized to use available CPU instructions in performance-critical operations.\n",
            "To enable the following instructions: AVX2 FMA, in other operations, rebuild TensorFlow with the appropriate compiler flags.\n",
            "2023-12-06 22:42:56.487437: W tensorflow/compiler/tf2tensorrt/utils/py_utils.cc:38] TF-TRT Warning: Could not find TensorRT\n",
            "Collecting pt-core-news-sm==3.6.0\n",
            "  Downloading https://github.com/explosion/spacy-models/releases/download/pt_core_news_sm-3.6.0/pt_core_news_sm-3.6.0-py3-none-any.whl (13.0 MB)\n",
            "\u001b[2K     \u001b[90m━━━━━━━━━━━━━━━━━━━━━━━━━━━━━━━━━━━━━━━━\u001b[0m \u001b[32m13.0/13.0 MB\u001b[0m \u001b[31m24.3 MB/s\u001b[0m eta \u001b[36m0:00:00\u001b[0m\n",
            "\u001b[?25hRequirement already satisfied: spacy<3.7.0,>=3.6.0 in /usr/local/lib/python3.10/dist-packages (from pt-core-news-sm==3.6.0) (3.6.1)\n",
            "Requirement already satisfied: spacy-legacy<3.1.0,>=3.0.11 in /usr/local/lib/python3.10/dist-packages (from spacy<3.7.0,>=3.6.0->pt-core-news-sm==3.6.0) (3.0.12)\n",
            "Requirement already satisfied: spacy-loggers<2.0.0,>=1.0.0 in /usr/local/lib/python3.10/dist-packages (from spacy<3.7.0,>=3.6.0->pt-core-news-sm==3.6.0) (1.0.5)\n",
            "Requirement already satisfied: murmurhash<1.1.0,>=0.28.0 in /usr/local/lib/python3.10/dist-packages (from spacy<3.7.0,>=3.6.0->pt-core-news-sm==3.6.0) (1.0.10)\n",
            "Requirement already satisfied: cymem<2.1.0,>=2.0.2 in /usr/local/lib/python3.10/dist-packages (from spacy<3.7.0,>=3.6.0->pt-core-news-sm==3.6.0) (2.0.8)\n",
            "Requirement already satisfied: preshed<3.1.0,>=3.0.2 in /usr/local/lib/python3.10/dist-packages (from spacy<3.7.0,>=3.6.0->pt-core-news-sm==3.6.0) (3.0.9)\n",
            "Requirement already satisfied: thinc<8.2.0,>=8.1.8 in /usr/local/lib/python3.10/dist-packages (from spacy<3.7.0,>=3.6.0->pt-core-news-sm==3.6.0) (8.1.12)\n",
            "Requirement already satisfied: wasabi<1.2.0,>=0.9.1 in /usr/local/lib/python3.10/dist-packages (from spacy<3.7.0,>=3.6.0->pt-core-news-sm==3.6.0) (1.1.2)\n",
            "Requirement already satisfied: srsly<3.0.0,>=2.4.3 in /usr/local/lib/python3.10/dist-packages (from spacy<3.7.0,>=3.6.0->pt-core-news-sm==3.6.0) (2.4.8)\n",
            "Requirement already satisfied: catalogue<2.1.0,>=2.0.6 in /usr/local/lib/python3.10/dist-packages (from spacy<3.7.0,>=3.6.0->pt-core-news-sm==3.6.0) (2.0.10)\n",
            "Requirement already satisfied: typer<0.10.0,>=0.3.0 in /usr/local/lib/python3.10/dist-packages (from spacy<3.7.0,>=3.6.0->pt-core-news-sm==3.6.0) (0.9.0)\n",
            "Requirement already satisfied: pathy>=0.10.0 in /usr/local/lib/python3.10/dist-packages (from spacy<3.7.0,>=3.6.0->pt-core-news-sm==3.6.0) (0.10.3)\n",
            "Requirement already satisfied: smart-open<7.0.0,>=5.2.1 in /usr/local/lib/python3.10/dist-packages (from spacy<3.7.0,>=3.6.0->pt-core-news-sm==3.6.0) (6.4.0)\n",
            "Requirement already satisfied: tqdm<5.0.0,>=4.38.0 in /usr/local/lib/python3.10/dist-packages (from spacy<3.7.0,>=3.6.0->pt-core-news-sm==3.6.0) (4.66.1)\n",
            "Requirement already satisfied: numpy>=1.15.0 in /usr/local/lib/python3.10/dist-packages (from spacy<3.7.0,>=3.6.0->pt-core-news-sm==3.6.0) (1.23.5)\n",
            "Requirement already satisfied: requests<3.0.0,>=2.13.0 in /usr/local/lib/python3.10/dist-packages (from spacy<3.7.0,>=3.6.0->pt-core-news-sm==3.6.0) (2.31.0)\n",
            "Requirement already satisfied: pydantic!=1.8,!=1.8.1,<3.0.0,>=1.7.4 in /usr/local/lib/python3.10/dist-packages (from spacy<3.7.0,>=3.6.0->pt-core-news-sm==3.6.0) (1.10.13)\n",
            "Requirement already satisfied: jinja2 in /usr/local/lib/python3.10/dist-packages (from spacy<3.7.0,>=3.6.0->pt-core-news-sm==3.6.0) (3.1.2)\n",
            "Requirement already satisfied: setuptools in /usr/local/lib/python3.10/dist-packages (from spacy<3.7.0,>=3.6.0->pt-core-news-sm==3.6.0) (67.7.2)\n",
            "Requirement already satisfied: packaging>=20.0 in /usr/local/lib/python3.10/dist-packages (from spacy<3.7.0,>=3.6.0->pt-core-news-sm==3.6.0) (23.2)\n",
            "Requirement already satisfied: langcodes<4.0.0,>=3.2.0 in /usr/local/lib/python3.10/dist-packages (from spacy<3.7.0,>=3.6.0->pt-core-news-sm==3.6.0) (3.3.0)\n",
            "Requirement already satisfied: typing-extensions>=4.2.0 in /usr/local/lib/python3.10/dist-packages (from pydantic!=1.8,!=1.8.1,<3.0.0,>=1.7.4->spacy<3.7.0,>=3.6.0->pt-core-news-sm==3.6.0) (4.5.0)\n",
            "Requirement already satisfied: charset-normalizer<4,>=2 in /usr/local/lib/python3.10/dist-packages (from requests<3.0.0,>=2.13.0->spacy<3.7.0,>=3.6.0->pt-core-news-sm==3.6.0) (3.3.2)\n",
            "Requirement already satisfied: idna<4,>=2.5 in /usr/local/lib/python3.10/dist-packages (from requests<3.0.0,>=2.13.0->spacy<3.7.0,>=3.6.0->pt-core-news-sm==3.6.0) (3.6)\n",
            "Requirement already satisfied: urllib3<3,>=1.21.1 in /usr/local/lib/python3.10/dist-packages (from requests<3.0.0,>=2.13.0->spacy<3.7.0,>=3.6.0->pt-core-news-sm==3.6.0) (2.0.7)\n",
            "Requirement already satisfied: certifi>=2017.4.17 in /usr/local/lib/python3.10/dist-packages (from requests<3.0.0,>=2.13.0->spacy<3.7.0,>=3.6.0->pt-core-news-sm==3.6.0) (2023.11.17)\n",
            "Requirement already satisfied: blis<0.8.0,>=0.7.8 in /usr/local/lib/python3.10/dist-packages (from thinc<8.2.0,>=8.1.8->spacy<3.7.0,>=3.6.0->pt-core-news-sm==3.6.0) (0.7.11)\n",
            "Requirement already satisfied: confection<1.0.0,>=0.0.1 in /usr/local/lib/python3.10/dist-packages (from thinc<8.2.0,>=8.1.8->spacy<3.7.0,>=3.6.0->pt-core-news-sm==3.6.0) (0.1.4)\n",
            "Requirement already satisfied: click<9.0.0,>=7.1.1 in /usr/local/lib/python3.10/dist-packages (from typer<0.10.0,>=0.3.0->spacy<3.7.0,>=3.6.0->pt-core-news-sm==3.6.0) (8.1.7)\n",
            "Requirement already satisfied: MarkupSafe>=2.0 in /usr/local/lib/python3.10/dist-packages (from jinja2->spacy<3.7.0,>=3.6.0->pt-core-news-sm==3.6.0) (2.1.3)\n",
            "Installing collected packages: pt-core-news-sm\n",
            "Successfully installed pt-core-news-sm-3.6.0\n",
            "\u001b[33mWARNING: Running pip as the 'root' user can result in broken permissions and conflicting behaviour with the system package manager. It is recommended to use a virtual environment instead: https://pip.pypa.io/warnings/venv\u001b[0m\u001b[33m\n",
            "\u001b[0m\u001b[38;5;2m✔ Download and installation successful\u001b[0m\n",
            "You can now load the package via spacy.load('pt_core_news_sm')\n"
          ]
        }
      ],
      "source": [
        "!python -m pip install --upgrade pip\n",
        "!pip install seqeval\n",
        "!pip install -U sklearn_crfsuite\n",
        "!pip install scikit-learn==1.3.2\n",
        "\n",
        "!python -m spacy download pt_core_news_sm"
      ]
    },
    {
      "cell_type": "code",
      "source": [
        "import os\n",
        "import numpy as np\n",
        "\n",
        "from sklearn_crfsuite import CRF\n",
        "from seqeval.metrics import classification_report"
      ],
      "metadata": {
        "id": "48UaJarT7rhN"
      },
      "execution_count": 2,
      "outputs": []
    },
    {
      "cell_type": "code",
      "source": [
        "!wget https://raw.githubusercontent.com/messias077/ner_pt/main/data/corpora/le_ner/train.conll\n",
        "!wget https://raw.githubusercontent.com/messias077/ner_pt/main/data/corpora/le_ner/test.conll"
      ],
      "metadata": {
        "id": "hPP-n9xN76Jz",
        "colab": {
          "base_uri": "https://localhost:8080/"
        },
        "outputId": "04e97c27-7c03-402d-c888-93063492cc0c"
      },
      "execution_count": 3,
      "outputs": [
        {
          "output_type": "stream",
          "name": "stdout",
          "text": [
            "--2023-12-06 22:44:28--  https://raw.githubusercontent.com/messias077/ner_pt/main/data/corpora/le_ner/train.conll\n",
            "Resolving raw.githubusercontent.com (raw.githubusercontent.com)... 185.199.108.133, 185.199.109.133, 185.199.110.133, ...\n",
            "Connecting to raw.githubusercontent.com (raw.githubusercontent.com)|185.199.108.133|:443... connected.\n",
            "HTTP request sent, awaiting response... 200 OK\n",
            "Length: 2142199 (2.0M) [text/plain]\n",
            "Saving to: ‘train.conll’\n",
            "\n",
            "train.conll         100%[===================>]   2.04M  --.-KB/s    in 0.08s   \n",
            "\n",
            "2023-12-06 22:44:28 (24.6 MB/s) - ‘train.conll’ saved [2142199/2142199]\n",
            "\n",
            "--2023-12-06 22:44:28--  https://raw.githubusercontent.com/messias077/ner_pt/main/data/corpora/le_ner/test.conll\n",
            "Resolving raw.githubusercontent.com (raw.githubusercontent.com)... 185.199.108.133, 185.199.109.133, 185.199.110.133, ...\n",
            "Connecting to raw.githubusercontent.com (raw.githubusercontent.com)|185.199.108.133|:443... connected.\n",
            "HTTP request sent, awaiting response... 200 OK\n",
            "Length: 438441 (428K) [text/plain]\n",
            "Saving to: ‘test.conll’\n",
            "\n",
            "test.conll          100%[===================>] 428.17K  --.-KB/s    in 0.05s   \n",
            "\n",
            "2023-12-06 22:44:28 (8.56 MB/s) - ‘test.conll’ saved [438441/438441]\n",
            "\n"
          ]
        }
      ]
    },
    {
      "cell_type": "markdown",
      "source": [
        "## Função para leitura da base de dados no padrão BIO"
      ],
      "metadata": {
        "id": "pK8x3LXd8BJU"
      }
    },
    {
      "cell_type": "code",
      "source": [
        "def read_corpus_file(corpus_file, delimiter='\\t', ner_column=1):\n",
        "    with open(corpus_file, encoding='utf-8') as file:\n",
        "        lines = file.readlines()\n",
        "    data = []\n",
        "    words = []\n",
        "    tags = []\n",
        "    for line in lines:\n",
        "        line = line.replace('\\n', '')\n",
        "        if line != '':\n",
        "            if delimiter in line:\n",
        "                fragments = line.split(delimiter)\n",
        "                words.append(fragments[0])\n",
        "                tags.append(fragments[ner_column])\n",
        "        else:\n",
        "            if len(words) > 1:\n",
        "                data.append((words, tags))\n",
        "            words = []\n",
        "            tags = []\n",
        "    return data"
      ],
      "metadata": {
        "id": "1r7G62h77-pS"
      },
      "execution_count": 4,
      "outputs": []
    },
    {
      "cell_type": "code",
      "source": [
        "corpus_name = 'le_ner'\n",
        "# corpus_name = 'ulysses_ner' # Acrescentar a base de dados da tarefa\n",
        "\n",
        "report_dir = 'report/'\n",
        "\n",
        "train_file = None\n",
        "test_file = None\n",
        "\n",
        "id_ner = 1\n",
        "delimiter = '\\t'\n",
        "\n",
        "if corpus_name == 'le_ner':\n",
        "  train_file = '/content/train.conll'\n",
        "  test_file = '/content/test.conll'\n",
        "  delimiter = ' '\n",
        "else:\n",
        "  pass # Implementar para o corpus da Tarefa\n",
        "\n",
        "print(f'\\nCorpus: {corpus_name}')\n",
        "\n",
        "report_dir = os.path.join(report_dir, corpus_name)\n",
        "\n",
        "os.makedirs(report_dir, exist_ok=True)\n",
        "\n",
        "train_data = read_corpus_file(train_file, delimiter=delimiter, ner_column=id_ner)\n",
        "test_data = read_corpus_file(test_file, delimiter=delimiter, ner_column=id_ner)\n",
        "\n",
        "print(f'\\nTrain data: {len(train_data)}')\n",
        "print(f'Test data: {len(test_data)}')"
      ],
      "metadata": {
        "id": "JgJM7-9z8GdK",
        "colab": {
          "base_uri": "https://localhost:8080/"
        },
        "outputId": "33c6e4e1-22f6-416c-de50-2c74e8677e6f"
      },
      "execution_count": 6,
      "outputs": [
        {
          "output_type": "stream",
          "name": "stdout",
          "text": [
            "\n",
            "Corpus: le_ner\n",
            "\n",
            "Train data: 7821\n",
            "Test data: 1389\n"
          ]
        }
      ]
    },
    {
      "cell_type": "code",
      "source": [
        "train_data[0]"
      ],
      "metadata": {
        "colab": {
          "base_uri": "https://localhost:8080/"
        },
        "id": "tCN7qbIBWx0h",
        "outputId": "e85624f9-5df8-4bcd-bb78-6c3e6eaae27e"
      },
      "execution_count": 7,
      "outputs": [
        {
          "output_type": "execute_result",
          "data": {
            "text/plain": [
              "(['EMENTA',\n",
              "  ':',\n",
              "  'APELAÇÃO',\n",
              "  'CÍVEL',\n",
              "  '-',\n",
              "  'AÇÃO',\n",
              "  'DE',\n",
              "  'INDENIZAÇÃO',\n",
              "  'POR',\n",
              "  'DANOS',\n",
              "  'MORAIS',\n",
              "  '-',\n",
              "  'PRELIMINAR',\n",
              "  '-',\n",
              "  'ARGUIDA',\n",
              "  'PELO',\n",
              "  'MINISTÉRIO',\n",
              "  'PÚBLICO',\n",
              "  'EM',\n",
              "  'GRAU',\n",
              "  'RECURSAL',\n",
              "  '-',\n",
              "  'NULIDADE',\n",
              "  '-',\n",
              "  'AUSÊNCIA',\n",
              "  'DE',\n",
              "  'INTERVENÇÃO',\n",
              "  'DO',\n",
              "  'PARQUET',\n",
              "  'NA',\n",
              "  'INSTÂNCIA',\n",
              "  'A',\n",
              "  'QUO',\n",
              "  '-',\n",
              "  'PRESENÇA',\n",
              "  'DE',\n",
              "  'INCAPAZ',\n",
              "  '-',\n",
              "  'PREJUÍZO',\n",
              "  'EXISTENTE',\n",
              "  '-',\n",
              "  'PRELIMINAR',\n",
              "  'ACOLHIDA',\n",
              "  '-',\n",
              "  'NULIDADE',\n",
              "  'RECONHECIDA',\n",
              "  '.'],\n",
              " ['O',\n",
              "  'O',\n",
              "  'O',\n",
              "  'O',\n",
              "  'O',\n",
              "  'O',\n",
              "  'O',\n",
              "  'O',\n",
              "  'O',\n",
              "  'O',\n",
              "  'O',\n",
              "  'O',\n",
              "  'O',\n",
              "  'O',\n",
              "  'O',\n",
              "  'O',\n",
              "  'B-ORGANIZACAO',\n",
              "  'I-ORGANIZACAO',\n",
              "  'O',\n",
              "  'O',\n",
              "  'O',\n",
              "  'O',\n",
              "  'O',\n",
              "  'O',\n",
              "  'O',\n",
              "  'O',\n",
              "  'O',\n",
              "  'O',\n",
              "  'O',\n",
              "  'O',\n",
              "  'O',\n",
              "  'O',\n",
              "  'O',\n",
              "  'O',\n",
              "  'O',\n",
              "  'O',\n",
              "  'O',\n",
              "  'O',\n",
              "  'O',\n",
              "  'O',\n",
              "  'O',\n",
              "  'O',\n",
              "  'O',\n",
              "  'O',\n",
              "  'O',\n",
              "  'O',\n",
              "  'O'])"
            ]
          },
          "metadata": {},
          "execution_count": 7
        }
      ]
    },
    {
      "cell_type": "markdown",
      "source": [
        "## Função que executa o pré-processamento do corpus usando a ferramenta Spacy"
      ],
      "metadata": {
        "id": "7ValkLyP8OXK"
      }
    },
    {
      "cell_type": "code",
      "source": [
        "import spacy\n",
        "\n",
        "def data_preprocessing(data):\n",
        "    nlp = spacy.load(name='pt_core_news_sm',\n",
        "                     disable=['parser', 'ner', 'lemmatizer', 'textcat'])\n",
        "    preprocessed_data = []\n",
        "    for d in data:\n",
        "        sentence = ' '.join(d[0])\n",
        "        doc = nlp(sentence)\n",
        "        pos_tags = [t.pos_ for t in doc]\n",
        "        preprocessed_data.append((d[0], pos_tags, d[1]))\n",
        "    return preprocessed_data"
      ],
      "metadata": {
        "id": "rAKyUmPa8K7q"
      },
      "execution_count": 8,
      "outputs": []
    },
    {
      "cell_type": "code",
      "source": [
        "\n",
        "train_data = data_preprocessing(train_data)\n",
        "\n",
        "test_data = data_preprocessing(test_data)"
      ],
      "metadata": {
        "id": "NZMHKGET8Vgp"
      },
      "execution_count": 9,
      "outputs": []
    },
    {
      "cell_type": "code",
      "source": [
        "train_data[0]"
      ],
      "metadata": {
        "colab": {
          "base_uri": "https://localhost:8080/"
        },
        "id": "F-_-XTf2YelH",
        "outputId": "013f623d-d810-46a4-97e4-67b66ec6e7c5"
      },
      "execution_count": 10,
      "outputs": [
        {
          "output_type": "execute_result",
          "data": {
            "text/plain": [
              "(['EMENTA',\n",
              "  ':',\n",
              "  'APELAÇÃO',\n",
              "  'CÍVEL',\n",
              "  '-',\n",
              "  'AÇÃO',\n",
              "  'DE',\n",
              "  'INDENIZAÇÃO',\n",
              "  'POR',\n",
              "  'DANOS',\n",
              "  'MORAIS',\n",
              "  '-',\n",
              "  'PRELIMINAR',\n",
              "  '-',\n",
              "  'ARGUIDA',\n",
              "  'PELO',\n",
              "  'MINISTÉRIO',\n",
              "  'PÚBLICO',\n",
              "  'EM',\n",
              "  'GRAU',\n",
              "  'RECURSAL',\n",
              "  '-',\n",
              "  'NULIDADE',\n",
              "  '-',\n",
              "  'AUSÊNCIA',\n",
              "  'DE',\n",
              "  'INTERVENÇÃO',\n",
              "  'DO',\n",
              "  'PARQUET',\n",
              "  'NA',\n",
              "  'INSTÂNCIA',\n",
              "  'A',\n",
              "  'QUO',\n",
              "  '-',\n",
              "  'PRESENÇA',\n",
              "  'DE',\n",
              "  'INCAPAZ',\n",
              "  '-',\n",
              "  'PREJUÍZO',\n",
              "  'EXISTENTE',\n",
              "  '-',\n",
              "  'PRELIMINAR',\n",
              "  'ACOLHIDA',\n",
              "  '-',\n",
              "  'NULIDADE',\n",
              "  'RECONHECIDA',\n",
              "  '.'],\n",
              " ['PROPN',\n",
              "  'PUNCT',\n",
              "  'PROPN',\n",
              "  'PROPN',\n",
              "  'PUNCT',\n",
              "  'PROPN',\n",
              "  'ADP',\n",
              "  'PROPN',\n",
              "  'ADP',\n",
              "  'PROPN',\n",
              "  'PROPN',\n",
              "  'PUNCT',\n",
              "  'PROPN',\n",
              "  'PUNCT',\n",
              "  'VERB',\n",
              "  'ADP',\n",
              "  'PROPN',\n",
              "  'PROPN',\n",
              "  'ADP',\n",
              "  'PROPN',\n",
              "  'PROPN',\n",
              "  'PUNCT',\n",
              "  'PROPN',\n",
              "  'PUNCT',\n",
              "  'X',\n",
              "  'ADP',\n",
              "  'PROPN',\n",
              "  'ADP',\n",
              "  'PROPN',\n",
              "  'ADP',\n",
              "  'NOUN',\n",
              "  'DET',\n",
              "  'PROPN',\n",
              "  'PUNCT',\n",
              "  'PROPN',\n",
              "  'ADP',\n",
              "  'PROPN',\n",
              "  'PUNCT',\n",
              "  'PROPN',\n",
              "  'PROPN',\n",
              "  'PUNCT',\n",
              "  'PROPN',\n",
              "  'PROPN',\n",
              "  'PUNCT',\n",
              "  'PROPN',\n",
              "  'NOUN',\n",
              "  'PUNCT'],\n",
              " ['O',\n",
              "  'O',\n",
              "  'O',\n",
              "  'O',\n",
              "  'O',\n",
              "  'O',\n",
              "  'O',\n",
              "  'O',\n",
              "  'O',\n",
              "  'O',\n",
              "  'O',\n",
              "  'O',\n",
              "  'O',\n",
              "  'O',\n",
              "  'O',\n",
              "  'O',\n",
              "  'B-ORGANIZACAO',\n",
              "  'I-ORGANIZACAO',\n",
              "  'O',\n",
              "  'O',\n",
              "  'O',\n",
              "  'O',\n",
              "  'O',\n",
              "  'O',\n",
              "  'O',\n",
              "  'O',\n",
              "  'O',\n",
              "  'O',\n",
              "  'O',\n",
              "  'O',\n",
              "  'O',\n",
              "  'O',\n",
              "  'O',\n",
              "  'O',\n",
              "  'O',\n",
              "  'O',\n",
              "  'O',\n",
              "  'O',\n",
              "  'O',\n",
              "  'O',\n",
              "  'O',\n",
              "  'O',\n",
              "  'O',\n",
              "  'O',\n",
              "  'O',\n",
              "  'O',\n",
              "  'O'])"
            ]
          },
          "metadata": {},
          "execution_count": 10
        }
      ]
    },
    {
      "cell_type": "markdown",
      "source": [
        "## Funções usadas para extrair as features dos tokens e de seus vizinhos."
      ],
      "metadata": {
        "id": "5hcAEkI08Yo0"
      }
    },
    {
      "cell_type": "code",
      "source": [
        "def extract_sent_features(sentence):\n",
        "    return [extract_features(sentence, i) for i in range(len(sentence))]\n",
        "\n",
        "\n",
        "def extract_labels(sentence):\n",
        "    return [label for _, _, label in sentence]\n",
        "\n",
        "\n",
        "def extract_features(sentence, i):\n",
        "    word = sentence[i][0]\n",
        "    postag = sentence[i][1]\n",
        "    features = {\n",
        "        'bias': 1.0,\n",
        "        'word.lower()': word.lower(),\n",
        "        'word[-3:]': word[-3:],\n",
        "        'word[-2:]': word[-2:],\n",
        "        'word.isupper()': word.isupper(),\n",
        "        'word.istitle()': word.istitle(),\n",
        "        'word.isdigit()': word.isdigit(),\n",
        "        'postag': postag,\n",
        "        'postag[:2]': postag[:2],\n",
        "        'word.islower()': word.islower(),\n",
        "        'word[0].isupper()': word[0].isupper(),\n",
        "        'word[0].islower()': word[0].islower(),\n",
        "        'not word[0].isalnum()': not word[0].isalnum(),\n",
        "        'not word.isalnum()': not word.isalnum(),\n",
        "        'word.isalpha()': word.isalpha()\n",
        "    }\n",
        "    if i > 0:\n",
        "        word1 = sentence[i - 1][0]\n",
        "        postag1 = sentence[i - 1][1]\n",
        "        features.update({\n",
        "            '-1:word.lower()': word1.lower(),\n",
        "            '-1:word.istitle()': word1.istitle(),\n",
        "            '-1:word.isupper()': word1.isupper(),\n",
        "            '-1:postag': postag1,\n",
        "            '-1:postag[:2]': postag1[:2],\n",
        "            '-1:word.islower()': word1.islower()\n",
        "        })\n",
        "    else:\n",
        "        features['BOS'] = True\n",
        "    if i > 1:\n",
        "        word1 = sentence[i - 2][0]\n",
        "        postag1 = sentence[i - 2][1]\n",
        "        features.update({\n",
        "            '-2:word.lower()': word1.lower(),\n",
        "            '-2:word.istitle()': word1.istitle(),\n",
        "            '-2:word.isupper()': word1.isupper(),\n",
        "            '-2:postag': postag1,\n",
        "            '-2:postag[:2]': postag1[:2],\n",
        "            '-2:word.islower()': word1.islower()\n",
        "        })\n",
        "    if i < len(sentence) - 1:\n",
        "        word1 = sentence[i + 1][0]\n",
        "        postag1 = sentence[i + 1][1]\n",
        "        features.update({\n",
        "            '+1:word.lower()': word1.lower(),\n",
        "            '+1:word.istitle()': word1.istitle(),\n",
        "            '+1:word.isupper()': word1.isupper(),\n",
        "            '+1:postag': postag1,\n",
        "            '+1:postag[:2]': postag1[:2],\n",
        "            '+1:word.islower()': word1.islower()\n",
        "        })\n",
        "    else:\n",
        "        features['EOS'] = True\n",
        "    if i < len(sentence) - 2:\n",
        "        word1 = sentence[i + 2][0]\n",
        "        postag1 = sentence[i + 2][1]\n",
        "        features.update({\n",
        "            '+2:word.lower()': word1.lower(),\n",
        "            '+2:word.istitle()': word1.istitle(),\n",
        "            '+2:word.isupper()': word1.isupper(),\n",
        "            '+2:postag': postag1,\n",
        "            '+2:postag[:2]': postag1[:2],\n",
        "            '+2:word.islower()': word1.islower()\n",
        "        })\n",
        "    return features\n",
        "\n",
        "\n",
        "def convert_data(data):\n",
        "    sentences = []\n",
        "    for d in data:\n",
        "        sentences.append(list(zip(d[0], d[1], d[2])))\n",
        "    x_data = [extract_sent_features(s) for s in sentences]\n",
        "    y_data = [extract_labels(s) for s in sentences]\n",
        "    return x_data, y_data"
      ],
      "metadata": {
        "id": "vRvHiHzO8gj7"
      },
      "execution_count": 11,
      "outputs": []
    },
    {
      "cell_type": "code",
      "source": [
        "X_train, y_train = convert_data(train_data)\n",
        "\n",
        "X_test, y_test = convert_data(test_data)"
      ],
      "metadata": {
        "id": "iGcxsxO78kYj"
      },
      "execution_count": 12,
      "outputs": []
    },
    {
      "cell_type": "code",
      "source": [
        "print(f'\\nExample features: {X_train[0]}')\n",
        "\n",
        "print(f'\\nLabel: {y_train[0]}')"
      ],
      "metadata": {
        "id": "cKwDtpC48nmS",
        "colab": {
          "base_uri": "https://localhost:8080/"
        },
        "outputId": "d382b341-f812-4ae0-d1bf-bfa87431cb0d"
      },
      "execution_count": 13,
      "outputs": [
        {
          "output_type": "stream",
          "name": "stdout",
          "text": [
            "\n",
            "Example features: [{'bias': 1.0, 'word.lower()': 'ementa', 'word[-3:]': 'NTA', 'word[-2:]': 'TA', 'word.isupper()': True, 'word.istitle()': False, 'word.isdigit()': False, 'postag': 'PROPN', 'postag[:2]': 'PR', 'word.islower()': False, 'word[0].isupper()': True, 'word[0].islower()': False, 'not word[0].isalnum()': False, 'not word.isalnum()': False, 'word.isalpha()': True, 'BOS': True, '+1:word.lower()': ':', '+1:word.istitle()': False, '+1:word.isupper()': False, '+1:postag': 'PUNCT', '+1:postag[:2]': 'PU', '+1:word.islower()': False, '+2:word.lower()': 'apelação', '+2:word.istitle()': False, '+2:word.isupper()': True, '+2:postag': 'PROPN', '+2:postag[:2]': 'PR', '+2:word.islower()': False}, {'bias': 1.0, 'word.lower()': ':', 'word[-3:]': ':', 'word[-2:]': ':', 'word.isupper()': False, 'word.istitle()': False, 'word.isdigit()': False, 'postag': 'PUNCT', 'postag[:2]': 'PU', 'word.islower()': False, 'word[0].isupper()': False, 'word[0].islower()': False, 'not word[0].isalnum()': True, 'not word.isalnum()': True, 'word.isalpha()': False, '-1:word.lower()': 'ementa', '-1:word.istitle()': False, '-1:word.isupper()': True, '-1:postag': 'PROPN', '-1:postag[:2]': 'PR', '-1:word.islower()': False, '+1:word.lower()': 'apelação', '+1:word.istitle()': False, '+1:word.isupper()': True, '+1:postag': 'PROPN', '+1:postag[:2]': 'PR', '+1:word.islower()': False, '+2:word.lower()': 'cível', '+2:word.istitle()': False, '+2:word.isupper()': True, '+2:postag': 'PROPN', '+2:postag[:2]': 'PR', '+2:word.islower()': False}, {'bias': 1.0, 'word.lower()': 'apelação', 'word[-3:]': 'ÇÃO', 'word[-2:]': 'ÃO', 'word.isupper()': True, 'word.istitle()': False, 'word.isdigit()': False, 'postag': 'PROPN', 'postag[:2]': 'PR', 'word.islower()': False, 'word[0].isupper()': True, 'word[0].islower()': False, 'not word[0].isalnum()': False, 'not word.isalnum()': False, 'word.isalpha()': True, '-1:word.lower()': ':', '-1:word.istitle()': False, '-1:word.isupper()': False, '-1:postag': 'PUNCT', '-1:postag[:2]': 'PU', '-1:word.islower()': False, '-2:word.lower()': 'ementa', '-2:word.istitle()': False, '-2:word.isupper()': True, '-2:postag': 'PROPN', '-2:postag[:2]': 'PR', '-2:word.islower()': False, '+1:word.lower()': 'cível', '+1:word.istitle()': False, '+1:word.isupper()': True, '+1:postag': 'PROPN', '+1:postag[:2]': 'PR', '+1:word.islower()': False, '+2:word.lower()': '-', '+2:word.istitle()': False, '+2:word.isupper()': False, '+2:postag': 'PUNCT', '+2:postag[:2]': 'PU', '+2:word.islower()': False}, {'bias': 1.0, 'word.lower()': 'cível', 'word[-3:]': 'VEL', 'word[-2:]': 'EL', 'word.isupper()': True, 'word.istitle()': False, 'word.isdigit()': False, 'postag': 'PROPN', 'postag[:2]': 'PR', 'word.islower()': False, 'word[0].isupper()': True, 'word[0].islower()': False, 'not word[0].isalnum()': False, 'not word.isalnum()': False, 'word.isalpha()': True, '-1:word.lower()': 'apelação', '-1:word.istitle()': False, '-1:word.isupper()': True, '-1:postag': 'PROPN', '-1:postag[:2]': 'PR', '-1:word.islower()': False, '-2:word.lower()': ':', '-2:word.istitle()': False, '-2:word.isupper()': False, '-2:postag': 'PUNCT', '-2:postag[:2]': 'PU', '-2:word.islower()': False, '+1:word.lower()': '-', '+1:word.istitle()': False, '+1:word.isupper()': False, '+1:postag': 'PUNCT', '+1:postag[:2]': 'PU', '+1:word.islower()': False, '+2:word.lower()': 'ação', '+2:word.istitle()': False, '+2:word.isupper()': True, '+2:postag': 'PROPN', '+2:postag[:2]': 'PR', '+2:word.islower()': False}, {'bias': 1.0, 'word.lower()': '-', 'word[-3:]': '-', 'word[-2:]': '-', 'word.isupper()': False, 'word.istitle()': False, 'word.isdigit()': False, 'postag': 'PUNCT', 'postag[:2]': 'PU', 'word.islower()': False, 'word[0].isupper()': False, 'word[0].islower()': False, 'not word[0].isalnum()': True, 'not word.isalnum()': True, 'word.isalpha()': False, '-1:word.lower()': 'cível', '-1:word.istitle()': False, '-1:word.isupper()': True, '-1:postag': 'PROPN', '-1:postag[:2]': 'PR', '-1:word.islower()': False, '-2:word.lower()': 'apelação', '-2:word.istitle()': False, '-2:word.isupper()': True, '-2:postag': 'PROPN', '-2:postag[:2]': 'PR', '-2:word.islower()': False, '+1:word.lower()': 'ação', '+1:word.istitle()': False, '+1:word.isupper()': True, '+1:postag': 'PROPN', '+1:postag[:2]': 'PR', '+1:word.islower()': False, '+2:word.lower()': 'de', '+2:word.istitle()': False, '+2:word.isupper()': True, '+2:postag': 'ADP', '+2:postag[:2]': 'AD', '+2:word.islower()': False}, {'bias': 1.0, 'word.lower()': 'ação', 'word[-3:]': 'ÇÃO', 'word[-2:]': 'ÃO', 'word.isupper()': True, 'word.istitle()': False, 'word.isdigit()': False, 'postag': 'PROPN', 'postag[:2]': 'PR', 'word.islower()': False, 'word[0].isupper()': True, 'word[0].islower()': False, 'not word[0].isalnum()': False, 'not word.isalnum()': False, 'word.isalpha()': True, '-1:word.lower()': '-', '-1:word.istitle()': False, '-1:word.isupper()': False, '-1:postag': 'PUNCT', '-1:postag[:2]': 'PU', '-1:word.islower()': False, '-2:word.lower()': 'cível', '-2:word.istitle()': False, '-2:word.isupper()': True, '-2:postag': 'PROPN', '-2:postag[:2]': 'PR', '-2:word.islower()': False, '+1:word.lower()': 'de', '+1:word.istitle()': False, '+1:word.isupper()': True, '+1:postag': 'ADP', '+1:postag[:2]': 'AD', '+1:word.islower()': False, '+2:word.lower()': 'indenização', '+2:word.istitle()': False, '+2:word.isupper()': True, '+2:postag': 'PROPN', '+2:postag[:2]': 'PR', '+2:word.islower()': False}, {'bias': 1.0, 'word.lower()': 'de', 'word[-3:]': 'DE', 'word[-2:]': 'DE', 'word.isupper()': True, 'word.istitle()': False, 'word.isdigit()': False, 'postag': 'ADP', 'postag[:2]': 'AD', 'word.islower()': False, 'word[0].isupper()': True, 'word[0].islower()': False, 'not word[0].isalnum()': False, 'not word.isalnum()': False, 'word.isalpha()': True, '-1:word.lower()': 'ação', '-1:word.istitle()': False, '-1:word.isupper()': True, '-1:postag': 'PROPN', '-1:postag[:2]': 'PR', '-1:word.islower()': False, '-2:word.lower()': '-', '-2:word.istitle()': False, '-2:word.isupper()': False, '-2:postag': 'PUNCT', '-2:postag[:2]': 'PU', '-2:word.islower()': False, '+1:word.lower()': 'indenização', '+1:word.istitle()': False, '+1:word.isupper()': True, '+1:postag': 'PROPN', '+1:postag[:2]': 'PR', '+1:word.islower()': False, '+2:word.lower()': 'por', '+2:word.istitle()': False, '+2:word.isupper()': True, '+2:postag': 'ADP', '+2:postag[:2]': 'AD', '+2:word.islower()': False}, {'bias': 1.0, 'word.lower()': 'indenização', 'word[-3:]': 'ÇÃO', 'word[-2:]': 'ÃO', 'word.isupper()': True, 'word.istitle()': False, 'word.isdigit()': False, 'postag': 'PROPN', 'postag[:2]': 'PR', 'word.islower()': False, 'word[0].isupper()': True, 'word[0].islower()': False, 'not word[0].isalnum()': False, 'not word.isalnum()': False, 'word.isalpha()': True, '-1:word.lower()': 'de', '-1:word.istitle()': False, '-1:word.isupper()': True, '-1:postag': 'ADP', '-1:postag[:2]': 'AD', '-1:word.islower()': False, '-2:word.lower()': 'ação', '-2:word.istitle()': False, '-2:word.isupper()': True, '-2:postag': 'PROPN', '-2:postag[:2]': 'PR', '-2:word.islower()': False, '+1:word.lower()': 'por', '+1:word.istitle()': False, '+1:word.isupper()': True, '+1:postag': 'ADP', '+1:postag[:2]': 'AD', '+1:word.islower()': False, '+2:word.lower()': 'danos', '+2:word.istitle()': False, '+2:word.isupper()': True, '+2:postag': 'PROPN', '+2:postag[:2]': 'PR', '+2:word.islower()': False}, {'bias': 1.0, 'word.lower()': 'por', 'word[-3:]': 'POR', 'word[-2:]': 'OR', 'word.isupper()': True, 'word.istitle()': False, 'word.isdigit()': False, 'postag': 'ADP', 'postag[:2]': 'AD', 'word.islower()': False, 'word[0].isupper()': True, 'word[0].islower()': False, 'not word[0].isalnum()': False, 'not word.isalnum()': False, 'word.isalpha()': True, '-1:word.lower()': 'indenização', '-1:word.istitle()': False, '-1:word.isupper()': True, '-1:postag': 'PROPN', '-1:postag[:2]': 'PR', '-1:word.islower()': False, '-2:word.lower()': 'de', '-2:word.istitle()': False, '-2:word.isupper()': True, '-2:postag': 'ADP', '-2:postag[:2]': 'AD', '-2:word.islower()': False, '+1:word.lower()': 'danos', '+1:word.istitle()': False, '+1:word.isupper()': True, '+1:postag': 'PROPN', '+1:postag[:2]': 'PR', '+1:word.islower()': False, '+2:word.lower()': 'morais', '+2:word.istitle()': False, '+2:word.isupper()': True, '+2:postag': 'PROPN', '+2:postag[:2]': 'PR', '+2:word.islower()': False}, {'bias': 1.0, 'word.lower()': 'danos', 'word[-3:]': 'NOS', 'word[-2:]': 'OS', 'word.isupper()': True, 'word.istitle()': False, 'word.isdigit()': False, 'postag': 'PROPN', 'postag[:2]': 'PR', 'word.islower()': False, 'word[0].isupper()': True, 'word[0].islower()': False, 'not word[0].isalnum()': False, 'not word.isalnum()': False, 'word.isalpha()': True, '-1:word.lower()': 'por', '-1:word.istitle()': False, '-1:word.isupper()': True, '-1:postag': 'ADP', '-1:postag[:2]': 'AD', '-1:word.islower()': False, '-2:word.lower()': 'indenização', '-2:word.istitle()': False, '-2:word.isupper()': True, '-2:postag': 'PROPN', '-2:postag[:2]': 'PR', '-2:word.islower()': False, '+1:word.lower()': 'morais', '+1:word.istitle()': False, '+1:word.isupper()': True, '+1:postag': 'PROPN', '+1:postag[:2]': 'PR', '+1:word.islower()': False, '+2:word.lower()': '-', '+2:word.istitle()': False, '+2:word.isupper()': False, '+2:postag': 'PUNCT', '+2:postag[:2]': 'PU', '+2:word.islower()': False}, {'bias': 1.0, 'word.lower()': 'morais', 'word[-3:]': 'AIS', 'word[-2:]': 'IS', 'word.isupper()': True, 'word.istitle()': False, 'word.isdigit()': False, 'postag': 'PROPN', 'postag[:2]': 'PR', 'word.islower()': False, 'word[0].isupper()': True, 'word[0].islower()': False, 'not word[0].isalnum()': False, 'not word.isalnum()': False, 'word.isalpha()': True, '-1:word.lower()': 'danos', '-1:word.istitle()': False, '-1:word.isupper()': True, '-1:postag': 'PROPN', '-1:postag[:2]': 'PR', '-1:word.islower()': False, '-2:word.lower()': 'por', '-2:word.istitle()': False, '-2:word.isupper()': True, '-2:postag': 'ADP', '-2:postag[:2]': 'AD', '-2:word.islower()': False, '+1:word.lower()': '-', '+1:word.istitle()': False, '+1:word.isupper()': False, '+1:postag': 'PUNCT', '+1:postag[:2]': 'PU', '+1:word.islower()': False, '+2:word.lower()': 'preliminar', '+2:word.istitle()': False, '+2:word.isupper()': True, '+2:postag': 'PROPN', '+2:postag[:2]': 'PR', '+2:word.islower()': False}, {'bias': 1.0, 'word.lower()': '-', 'word[-3:]': '-', 'word[-2:]': '-', 'word.isupper()': False, 'word.istitle()': False, 'word.isdigit()': False, 'postag': 'PUNCT', 'postag[:2]': 'PU', 'word.islower()': False, 'word[0].isupper()': False, 'word[0].islower()': False, 'not word[0].isalnum()': True, 'not word.isalnum()': True, 'word.isalpha()': False, '-1:word.lower()': 'morais', '-1:word.istitle()': False, '-1:word.isupper()': True, '-1:postag': 'PROPN', '-1:postag[:2]': 'PR', '-1:word.islower()': False, '-2:word.lower()': 'danos', '-2:word.istitle()': False, '-2:word.isupper()': True, '-2:postag': 'PROPN', '-2:postag[:2]': 'PR', '-2:word.islower()': False, '+1:word.lower()': 'preliminar', '+1:word.istitle()': False, '+1:word.isupper()': True, '+1:postag': 'PROPN', '+1:postag[:2]': 'PR', '+1:word.islower()': False, '+2:word.lower()': '-', '+2:word.istitle()': False, '+2:word.isupper()': False, '+2:postag': 'PUNCT', '+2:postag[:2]': 'PU', '+2:word.islower()': False}, {'bias': 1.0, 'word.lower()': 'preliminar', 'word[-3:]': 'NAR', 'word[-2:]': 'AR', 'word.isupper()': True, 'word.istitle()': False, 'word.isdigit()': False, 'postag': 'PROPN', 'postag[:2]': 'PR', 'word.islower()': False, 'word[0].isupper()': True, 'word[0].islower()': False, 'not word[0].isalnum()': False, 'not word.isalnum()': False, 'word.isalpha()': True, '-1:word.lower()': '-', '-1:word.istitle()': False, '-1:word.isupper()': False, '-1:postag': 'PUNCT', '-1:postag[:2]': 'PU', '-1:word.islower()': False, '-2:word.lower()': 'morais', '-2:word.istitle()': False, '-2:word.isupper()': True, '-2:postag': 'PROPN', '-2:postag[:2]': 'PR', '-2:word.islower()': False, '+1:word.lower()': '-', '+1:word.istitle()': False, '+1:word.isupper()': False, '+1:postag': 'PUNCT', '+1:postag[:2]': 'PU', '+1:word.islower()': False, '+2:word.lower()': 'arguida', '+2:word.istitle()': False, '+2:word.isupper()': True, '+2:postag': 'VERB', '+2:postag[:2]': 'VE', '+2:word.islower()': False}, {'bias': 1.0, 'word.lower()': '-', 'word[-3:]': '-', 'word[-2:]': '-', 'word.isupper()': False, 'word.istitle()': False, 'word.isdigit()': False, 'postag': 'PUNCT', 'postag[:2]': 'PU', 'word.islower()': False, 'word[0].isupper()': False, 'word[0].islower()': False, 'not word[0].isalnum()': True, 'not word.isalnum()': True, 'word.isalpha()': False, '-1:word.lower()': 'preliminar', '-1:word.istitle()': False, '-1:word.isupper()': True, '-1:postag': 'PROPN', '-1:postag[:2]': 'PR', '-1:word.islower()': False, '-2:word.lower()': '-', '-2:word.istitle()': False, '-2:word.isupper()': False, '-2:postag': 'PUNCT', '-2:postag[:2]': 'PU', '-2:word.islower()': False, '+1:word.lower()': 'arguida', '+1:word.istitle()': False, '+1:word.isupper()': True, '+1:postag': 'VERB', '+1:postag[:2]': 'VE', '+1:word.islower()': False, '+2:word.lower()': 'pelo', '+2:word.istitle()': False, '+2:word.isupper()': True, '+2:postag': 'ADP', '+2:postag[:2]': 'AD', '+2:word.islower()': False}, {'bias': 1.0, 'word.lower()': 'arguida', 'word[-3:]': 'IDA', 'word[-2:]': 'DA', 'word.isupper()': True, 'word.istitle()': False, 'word.isdigit()': False, 'postag': 'VERB', 'postag[:2]': 'VE', 'word.islower()': False, 'word[0].isupper()': True, 'word[0].islower()': False, 'not word[0].isalnum()': False, 'not word.isalnum()': False, 'word.isalpha()': True, '-1:word.lower()': '-', '-1:word.istitle()': False, '-1:word.isupper()': False, '-1:postag': 'PUNCT', '-1:postag[:2]': 'PU', '-1:word.islower()': False, '-2:word.lower()': 'preliminar', '-2:word.istitle()': False, '-2:word.isupper()': True, '-2:postag': 'PROPN', '-2:postag[:2]': 'PR', '-2:word.islower()': False, '+1:word.lower()': 'pelo', '+1:word.istitle()': False, '+1:word.isupper()': True, '+1:postag': 'ADP', '+1:postag[:2]': 'AD', '+1:word.islower()': False, '+2:word.lower()': 'ministério', '+2:word.istitle()': False, '+2:word.isupper()': True, '+2:postag': 'PROPN', '+2:postag[:2]': 'PR', '+2:word.islower()': False}, {'bias': 1.0, 'word.lower()': 'pelo', 'word[-3:]': 'ELO', 'word[-2:]': 'LO', 'word.isupper()': True, 'word.istitle()': False, 'word.isdigit()': False, 'postag': 'ADP', 'postag[:2]': 'AD', 'word.islower()': False, 'word[0].isupper()': True, 'word[0].islower()': False, 'not word[0].isalnum()': False, 'not word.isalnum()': False, 'word.isalpha()': True, '-1:word.lower()': 'arguida', '-1:word.istitle()': False, '-1:word.isupper()': True, '-1:postag': 'VERB', '-1:postag[:2]': 'VE', '-1:word.islower()': False, '-2:word.lower()': '-', '-2:word.istitle()': False, '-2:word.isupper()': False, '-2:postag': 'PUNCT', '-2:postag[:2]': 'PU', '-2:word.islower()': False, '+1:word.lower()': 'ministério', '+1:word.istitle()': False, '+1:word.isupper()': True, '+1:postag': 'PROPN', '+1:postag[:2]': 'PR', '+1:word.islower()': False, '+2:word.lower()': 'público', '+2:word.istitle()': False, '+2:word.isupper()': True, '+2:postag': 'PROPN', '+2:postag[:2]': 'PR', '+2:word.islower()': False}, {'bias': 1.0, 'word.lower()': 'ministério', 'word[-3:]': 'RIO', 'word[-2:]': 'IO', 'word.isupper()': True, 'word.istitle()': False, 'word.isdigit()': False, 'postag': 'PROPN', 'postag[:2]': 'PR', 'word.islower()': False, 'word[0].isupper()': True, 'word[0].islower()': False, 'not word[0].isalnum()': False, 'not word.isalnum()': False, 'word.isalpha()': True, '-1:word.lower()': 'pelo', '-1:word.istitle()': False, '-1:word.isupper()': True, '-1:postag': 'ADP', '-1:postag[:2]': 'AD', '-1:word.islower()': False, '-2:word.lower()': 'arguida', '-2:word.istitle()': False, '-2:word.isupper()': True, '-2:postag': 'VERB', '-2:postag[:2]': 'VE', '-2:word.islower()': False, '+1:word.lower()': 'público', '+1:word.istitle()': False, '+1:word.isupper()': True, '+1:postag': 'PROPN', '+1:postag[:2]': 'PR', '+1:word.islower()': False, '+2:word.lower()': 'em', '+2:word.istitle()': False, '+2:word.isupper()': True, '+2:postag': 'ADP', '+2:postag[:2]': 'AD', '+2:word.islower()': False}, {'bias': 1.0, 'word.lower()': 'público', 'word[-3:]': 'ICO', 'word[-2:]': 'CO', 'word.isupper()': True, 'word.istitle()': False, 'word.isdigit()': False, 'postag': 'PROPN', 'postag[:2]': 'PR', 'word.islower()': False, 'word[0].isupper()': True, 'word[0].islower()': False, 'not word[0].isalnum()': False, 'not word.isalnum()': False, 'word.isalpha()': True, '-1:word.lower()': 'ministério', '-1:word.istitle()': False, '-1:word.isupper()': True, '-1:postag': 'PROPN', '-1:postag[:2]': 'PR', '-1:word.islower()': False, '-2:word.lower()': 'pelo', '-2:word.istitle()': False, '-2:word.isupper()': True, '-2:postag': 'ADP', '-2:postag[:2]': 'AD', '-2:word.islower()': False, '+1:word.lower()': 'em', '+1:word.istitle()': False, '+1:word.isupper()': True, '+1:postag': 'ADP', '+1:postag[:2]': 'AD', '+1:word.islower()': False, '+2:word.lower()': 'grau', '+2:word.istitle()': False, '+2:word.isupper()': True, '+2:postag': 'PROPN', '+2:postag[:2]': 'PR', '+2:word.islower()': False}, {'bias': 1.0, 'word.lower()': 'em', 'word[-3:]': 'EM', 'word[-2:]': 'EM', 'word.isupper()': True, 'word.istitle()': False, 'word.isdigit()': False, 'postag': 'ADP', 'postag[:2]': 'AD', 'word.islower()': False, 'word[0].isupper()': True, 'word[0].islower()': False, 'not word[0].isalnum()': False, 'not word.isalnum()': False, 'word.isalpha()': True, '-1:word.lower()': 'público', '-1:word.istitle()': False, '-1:word.isupper()': True, '-1:postag': 'PROPN', '-1:postag[:2]': 'PR', '-1:word.islower()': False, '-2:word.lower()': 'ministério', '-2:word.istitle()': False, '-2:word.isupper()': True, '-2:postag': 'PROPN', '-2:postag[:2]': 'PR', '-2:word.islower()': False, '+1:word.lower()': 'grau', '+1:word.istitle()': False, '+1:word.isupper()': True, '+1:postag': 'PROPN', '+1:postag[:2]': 'PR', '+1:word.islower()': False, '+2:word.lower()': 'recursal', '+2:word.istitle()': False, '+2:word.isupper()': True, '+2:postag': 'PROPN', '+2:postag[:2]': 'PR', '+2:word.islower()': False}, {'bias': 1.0, 'word.lower()': 'grau', 'word[-3:]': 'RAU', 'word[-2:]': 'AU', 'word.isupper()': True, 'word.istitle()': False, 'word.isdigit()': False, 'postag': 'PROPN', 'postag[:2]': 'PR', 'word.islower()': False, 'word[0].isupper()': True, 'word[0].islower()': False, 'not word[0].isalnum()': False, 'not word.isalnum()': False, 'word.isalpha()': True, '-1:word.lower()': 'em', '-1:word.istitle()': False, '-1:word.isupper()': True, '-1:postag': 'ADP', '-1:postag[:2]': 'AD', '-1:word.islower()': False, '-2:word.lower()': 'público', '-2:word.istitle()': False, '-2:word.isupper()': True, '-2:postag': 'PROPN', '-2:postag[:2]': 'PR', '-2:word.islower()': False, '+1:word.lower()': 'recursal', '+1:word.istitle()': False, '+1:word.isupper()': True, '+1:postag': 'PROPN', '+1:postag[:2]': 'PR', '+1:word.islower()': False, '+2:word.lower()': '-', '+2:word.istitle()': False, '+2:word.isupper()': False, '+2:postag': 'PUNCT', '+2:postag[:2]': 'PU', '+2:word.islower()': False}, {'bias': 1.0, 'word.lower()': 'recursal', 'word[-3:]': 'SAL', 'word[-2:]': 'AL', 'word.isupper()': True, 'word.istitle()': False, 'word.isdigit()': False, 'postag': 'PROPN', 'postag[:2]': 'PR', 'word.islower()': False, 'word[0].isupper()': True, 'word[0].islower()': False, 'not word[0].isalnum()': False, 'not word.isalnum()': False, 'word.isalpha()': True, '-1:word.lower()': 'grau', '-1:word.istitle()': False, '-1:word.isupper()': True, '-1:postag': 'PROPN', '-1:postag[:2]': 'PR', '-1:word.islower()': False, '-2:word.lower()': 'em', '-2:word.istitle()': False, '-2:word.isupper()': True, '-2:postag': 'ADP', '-2:postag[:2]': 'AD', '-2:word.islower()': False, '+1:word.lower()': '-', '+1:word.istitle()': False, '+1:word.isupper()': False, '+1:postag': 'PUNCT', '+1:postag[:2]': 'PU', '+1:word.islower()': False, '+2:word.lower()': 'nulidade', '+2:word.istitle()': False, '+2:word.isupper()': True, '+2:postag': 'PROPN', '+2:postag[:2]': 'PR', '+2:word.islower()': False}, {'bias': 1.0, 'word.lower()': '-', 'word[-3:]': '-', 'word[-2:]': '-', 'word.isupper()': False, 'word.istitle()': False, 'word.isdigit()': False, 'postag': 'PUNCT', 'postag[:2]': 'PU', 'word.islower()': False, 'word[0].isupper()': False, 'word[0].islower()': False, 'not word[0].isalnum()': True, 'not word.isalnum()': True, 'word.isalpha()': False, '-1:word.lower()': 'recursal', '-1:word.istitle()': False, '-1:word.isupper()': True, '-1:postag': 'PROPN', '-1:postag[:2]': 'PR', '-1:word.islower()': False, '-2:word.lower()': 'grau', '-2:word.istitle()': False, '-2:word.isupper()': True, '-2:postag': 'PROPN', '-2:postag[:2]': 'PR', '-2:word.islower()': False, '+1:word.lower()': 'nulidade', '+1:word.istitle()': False, '+1:word.isupper()': True, '+1:postag': 'PROPN', '+1:postag[:2]': 'PR', '+1:word.islower()': False, '+2:word.lower()': '-', '+2:word.istitle()': False, '+2:word.isupper()': False, '+2:postag': 'PUNCT', '+2:postag[:2]': 'PU', '+2:word.islower()': False}, {'bias': 1.0, 'word.lower()': 'nulidade', 'word[-3:]': 'ADE', 'word[-2:]': 'DE', 'word.isupper()': True, 'word.istitle()': False, 'word.isdigit()': False, 'postag': 'PROPN', 'postag[:2]': 'PR', 'word.islower()': False, 'word[0].isupper()': True, 'word[0].islower()': False, 'not word[0].isalnum()': False, 'not word.isalnum()': False, 'word.isalpha()': True, '-1:word.lower()': '-', '-1:word.istitle()': False, '-1:word.isupper()': False, '-1:postag': 'PUNCT', '-1:postag[:2]': 'PU', '-1:word.islower()': False, '-2:word.lower()': 'recursal', '-2:word.istitle()': False, '-2:word.isupper()': True, '-2:postag': 'PROPN', '-2:postag[:2]': 'PR', '-2:word.islower()': False, '+1:word.lower()': '-', '+1:word.istitle()': False, '+1:word.isupper()': False, '+1:postag': 'PUNCT', '+1:postag[:2]': 'PU', '+1:word.islower()': False, '+2:word.lower()': 'ausência', '+2:word.istitle()': False, '+2:word.isupper()': True, '+2:postag': 'X', '+2:postag[:2]': 'X', '+2:word.islower()': False}, {'bias': 1.0, 'word.lower()': '-', 'word[-3:]': '-', 'word[-2:]': '-', 'word.isupper()': False, 'word.istitle()': False, 'word.isdigit()': False, 'postag': 'PUNCT', 'postag[:2]': 'PU', 'word.islower()': False, 'word[0].isupper()': False, 'word[0].islower()': False, 'not word[0].isalnum()': True, 'not word.isalnum()': True, 'word.isalpha()': False, '-1:word.lower()': 'nulidade', '-1:word.istitle()': False, '-1:word.isupper()': True, '-1:postag': 'PROPN', '-1:postag[:2]': 'PR', '-1:word.islower()': False, '-2:word.lower()': '-', '-2:word.istitle()': False, '-2:word.isupper()': False, '-2:postag': 'PUNCT', '-2:postag[:2]': 'PU', '-2:word.islower()': False, '+1:word.lower()': 'ausência', '+1:word.istitle()': False, '+1:word.isupper()': True, '+1:postag': 'X', '+1:postag[:2]': 'X', '+1:word.islower()': False, '+2:word.lower()': 'de', '+2:word.istitle()': False, '+2:word.isupper()': True, '+2:postag': 'ADP', '+2:postag[:2]': 'AD', '+2:word.islower()': False}, {'bias': 1.0, 'word.lower()': 'ausência', 'word[-3:]': 'CIA', 'word[-2:]': 'IA', 'word.isupper()': True, 'word.istitle()': False, 'word.isdigit()': False, 'postag': 'X', 'postag[:2]': 'X', 'word.islower()': False, 'word[0].isupper()': True, 'word[0].islower()': False, 'not word[0].isalnum()': False, 'not word.isalnum()': False, 'word.isalpha()': True, '-1:word.lower()': '-', '-1:word.istitle()': False, '-1:word.isupper()': False, '-1:postag': 'PUNCT', '-1:postag[:2]': 'PU', '-1:word.islower()': False, '-2:word.lower()': 'nulidade', '-2:word.istitle()': False, '-2:word.isupper()': True, '-2:postag': 'PROPN', '-2:postag[:2]': 'PR', '-2:word.islower()': False, '+1:word.lower()': 'de', '+1:word.istitle()': False, '+1:word.isupper()': True, '+1:postag': 'ADP', '+1:postag[:2]': 'AD', '+1:word.islower()': False, '+2:word.lower()': 'intervenção', '+2:word.istitle()': False, '+2:word.isupper()': True, '+2:postag': 'PROPN', '+2:postag[:2]': 'PR', '+2:word.islower()': False}, {'bias': 1.0, 'word.lower()': 'de', 'word[-3:]': 'DE', 'word[-2:]': 'DE', 'word.isupper()': True, 'word.istitle()': False, 'word.isdigit()': False, 'postag': 'ADP', 'postag[:2]': 'AD', 'word.islower()': False, 'word[0].isupper()': True, 'word[0].islower()': False, 'not word[0].isalnum()': False, 'not word.isalnum()': False, 'word.isalpha()': True, '-1:word.lower()': 'ausência', '-1:word.istitle()': False, '-1:word.isupper()': True, '-1:postag': 'X', '-1:postag[:2]': 'X', '-1:word.islower()': False, '-2:word.lower()': '-', '-2:word.istitle()': False, '-2:word.isupper()': False, '-2:postag': 'PUNCT', '-2:postag[:2]': 'PU', '-2:word.islower()': False, '+1:word.lower()': 'intervenção', '+1:word.istitle()': False, '+1:word.isupper()': True, '+1:postag': 'PROPN', '+1:postag[:2]': 'PR', '+1:word.islower()': False, '+2:word.lower()': 'do', '+2:word.istitle()': False, '+2:word.isupper()': True, '+2:postag': 'ADP', '+2:postag[:2]': 'AD', '+2:word.islower()': False}, {'bias': 1.0, 'word.lower()': 'intervenção', 'word[-3:]': 'ÇÃO', 'word[-2:]': 'ÃO', 'word.isupper()': True, 'word.istitle()': False, 'word.isdigit()': False, 'postag': 'PROPN', 'postag[:2]': 'PR', 'word.islower()': False, 'word[0].isupper()': True, 'word[0].islower()': False, 'not word[0].isalnum()': False, 'not word.isalnum()': False, 'word.isalpha()': True, '-1:word.lower()': 'de', '-1:word.istitle()': False, '-1:word.isupper()': True, '-1:postag': 'ADP', '-1:postag[:2]': 'AD', '-1:word.islower()': False, '-2:word.lower()': 'ausência', '-2:word.istitle()': False, '-2:word.isupper()': True, '-2:postag': 'X', '-2:postag[:2]': 'X', '-2:word.islower()': False, '+1:word.lower()': 'do', '+1:word.istitle()': False, '+1:word.isupper()': True, '+1:postag': 'ADP', '+1:postag[:2]': 'AD', '+1:word.islower()': False, '+2:word.lower()': 'parquet', '+2:word.istitle()': False, '+2:word.isupper()': True, '+2:postag': 'PROPN', '+2:postag[:2]': 'PR', '+2:word.islower()': False}, {'bias': 1.0, 'word.lower()': 'do', 'word[-3:]': 'DO', 'word[-2:]': 'DO', 'word.isupper()': True, 'word.istitle()': False, 'word.isdigit()': False, 'postag': 'ADP', 'postag[:2]': 'AD', 'word.islower()': False, 'word[0].isupper()': True, 'word[0].islower()': False, 'not word[0].isalnum()': False, 'not word.isalnum()': False, 'word.isalpha()': True, '-1:word.lower()': 'intervenção', '-1:word.istitle()': False, '-1:word.isupper()': True, '-1:postag': 'PROPN', '-1:postag[:2]': 'PR', '-1:word.islower()': False, '-2:word.lower()': 'de', '-2:word.istitle()': False, '-2:word.isupper()': True, '-2:postag': 'ADP', '-2:postag[:2]': 'AD', '-2:word.islower()': False, '+1:word.lower()': 'parquet', '+1:word.istitle()': False, '+1:word.isupper()': True, '+1:postag': 'PROPN', '+1:postag[:2]': 'PR', '+1:word.islower()': False, '+2:word.lower()': 'na', '+2:word.istitle()': False, '+2:word.isupper()': True, '+2:postag': 'ADP', '+2:postag[:2]': 'AD', '+2:word.islower()': False}, {'bias': 1.0, 'word.lower()': 'parquet', 'word[-3:]': 'UET', 'word[-2:]': 'ET', 'word.isupper()': True, 'word.istitle()': False, 'word.isdigit()': False, 'postag': 'PROPN', 'postag[:2]': 'PR', 'word.islower()': False, 'word[0].isupper()': True, 'word[0].islower()': False, 'not word[0].isalnum()': False, 'not word.isalnum()': False, 'word.isalpha()': True, '-1:word.lower()': 'do', '-1:word.istitle()': False, '-1:word.isupper()': True, '-1:postag': 'ADP', '-1:postag[:2]': 'AD', '-1:word.islower()': False, '-2:word.lower()': 'intervenção', '-2:word.istitle()': False, '-2:word.isupper()': True, '-2:postag': 'PROPN', '-2:postag[:2]': 'PR', '-2:word.islower()': False, '+1:word.lower()': 'na', '+1:word.istitle()': False, '+1:word.isupper()': True, '+1:postag': 'ADP', '+1:postag[:2]': 'AD', '+1:word.islower()': False, '+2:word.lower()': 'instância', '+2:word.istitle()': False, '+2:word.isupper()': True, '+2:postag': 'NOUN', '+2:postag[:2]': 'NO', '+2:word.islower()': False}, {'bias': 1.0, 'word.lower()': 'na', 'word[-3:]': 'NA', 'word[-2:]': 'NA', 'word.isupper()': True, 'word.istitle()': False, 'word.isdigit()': False, 'postag': 'ADP', 'postag[:2]': 'AD', 'word.islower()': False, 'word[0].isupper()': True, 'word[0].islower()': False, 'not word[0].isalnum()': False, 'not word.isalnum()': False, 'word.isalpha()': True, '-1:word.lower()': 'parquet', '-1:word.istitle()': False, '-1:word.isupper()': True, '-1:postag': 'PROPN', '-1:postag[:2]': 'PR', '-1:word.islower()': False, '-2:word.lower()': 'do', '-2:word.istitle()': False, '-2:word.isupper()': True, '-2:postag': 'ADP', '-2:postag[:2]': 'AD', '-2:word.islower()': False, '+1:word.lower()': 'instância', '+1:word.istitle()': False, '+1:word.isupper()': True, '+1:postag': 'NOUN', '+1:postag[:2]': 'NO', '+1:word.islower()': False, '+2:word.lower()': 'a', '+2:word.istitle()': True, '+2:word.isupper()': True, '+2:postag': 'DET', '+2:postag[:2]': 'DE', '+2:word.islower()': False}, {'bias': 1.0, 'word.lower()': 'instância', 'word[-3:]': 'CIA', 'word[-2:]': 'IA', 'word.isupper()': True, 'word.istitle()': False, 'word.isdigit()': False, 'postag': 'NOUN', 'postag[:2]': 'NO', 'word.islower()': False, 'word[0].isupper()': True, 'word[0].islower()': False, 'not word[0].isalnum()': False, 'not word.isalnum()': False, 'word.isalpha()': True, '-1:word.lower()': 'na', '-1:word.istitle()': False, '-1:word.isupper()': True, '-1:postag': 'ADP', '-1:postag[:2]': 'AD', '-1:word.islower()': False, '-2:word.lower()': 'parquet', '-2:word.istitle()': False, '-2:word.isupper()': True, '-2:postag': 'PROPN', '-2:postag[:2]': 'PR', '-2:word.islower()': False, '+1:word.lower()': 'a', '+1:word.istitle()': True, '+1:word.isupper()': True, '+1:postag': 'DET', '+1:postag[:2]': 'DE', '+1:word.islower()': False, '+2:word.lower()': 'quo', '+2:word.istitle()': False, '+2:word.isupper()': True, '+2:postag': 'PROPN', '+2:postag[:2]': 'PR', '+2:word.islower()': False}, {'bias': 1.0, 'word.lower()': 'a', 'word[-3:]': 'A', 'word[-2:]': 'A', 'word.isupper()': True, 'word.istitle()': True, 'word.isdigit()': False, 'postag': 'DET', 'postag[:2]': 'DE', 'word.islower()': False, 'word[0].isupper()': True, 'word[0].islower()': False, 'not word[0].isalnum()': False, 'not word.isalnum()': False, 'word.isalpha()': True, '-1:word.lower()': 'instância', '-1:word.istitle()': False, '-1:word.isupper()': True, '-1:postag': 'NOUN', '-1:postag[:2]': 'NO', '-1:word.islower()': False, '-2:word.lower()': 'na', '-2:word.istitle()': False, '-2:word.isupper()': True, '-2:postag': 'ADP', '-2:postag[:2]': 'AD', '-2:word.islower()': False, '+1:word.lower()': 'quo', '+1:word.istitle()': False, '+1:word.isupper()': True, '+1:postag': 'PROPN', '+1:postag[:2]': 'PR', '+1:word.islower()': False, '+2:word.lower()': '-', '+2:word.istitle()': False, '+2:word.isupper()': False, '+2:postag': 'PUNCT', '+2:postag[:2]': 'PU', '+2:word.islower()': False}, {'bias': 1.0, 'word.lower()': 'quo', 'word[-3:]': 'QUO', 'word[-2:]': 'UO', 'word.isupper()': True, 'word.istitle()': False, 'word.isdigit()': False, 'postag': 'PROPN', 'postag[:2]': 'PR', 'word.islower()': False, 'word[0].isupper()': True, 'word[0].islower()': False, 'not word[0].isalnum()': False, 'not word.isalnum()': False, 'word.isalpha()': True, '-1:word.lower()': 'a', '-1:word.istitle()': True, '-1:word.isupper()': True, '-1:postag': 'DET', '-1:postag[:2]': 'DE', '-1:word.islower()': False, '-2:word.lower()': 'instância', '-2:word.istitle()': False, '-2:word.isupper()': True, '-2:postag': 'NOUN', '-2:postag[:2]': 'NO', '-2:word.islower()': False, '+1:word.lower()': '-', '+1:word.istitle()': False, '+1:word.isupper()': False, '+1:postag': 'PUNCT', '+1:postag[:2]': 'PU', '+1:word.islower()': False, '+2:word.lower()': 'presença', '+2:word.istitle()': False, '+2:word.isupper()': True, '+2:postag': 'PROPN', '+2:postag[:2]': 'PR', '+2:word.islower()': False}, {'bias': 1.0, 'word.lower()': '-', 'word[-3:]': '-', 'word[-2:]': '-', 'word.isupper()': False, 'word.istitle()': False, 'word.isdigit()': False, 'postag': 'PUNCT', 'postag[:2]': 'PU', 'word.islower()': False, 'word[0].isupper()': False, 'word[0].islower()': False, 'not word[0].isalnum()': True, 'not word.isalnum()': True, 'word.isalpha()': False, '-1:word.lower()': 'quo', '-1:word.istitle()': False, '-1:word.isupper()': True, '-1:postag': 'PROPN', '-1:postag[:2]': 'PR', '-1:word.islower()': False, '-2:word.lower()': 'a', '-2:word.istitle()': True, '-2:word.isupper()': True, '-2:postag': 'DET', '-2:postag[:2]': 'DE', '-2:word.islower()': False, '+1:word.lower()': 'presença', '+1:word.istitle()': False, '+1:word.isupper()': True, '+1:postag': 'PROPN', '+1:postag[:2]': 'PR', '+1:word.islower()': False, '+2:word.lower()': 'de', '+2:word.istitle()': False, '+2:word.isupper()': True, '+2:postag': 'ADP', '+2:postag[:2]': 'AD', '+2:word.islower()': False}, {'bias': 1.0, 'word.lower()': 'presença', 'word[-3:]': 'NÇA', 'word[-2:]': 'ÇA', 'word.isupper()': True, 'word.istitle()': False, 'word.isdigit()': False, 'postag': 'PROPN', 'postag[:2]': 'PR', 'word.islower()': False, 'word[0].isupper()': True, 'word[0].islower()': False, 'not word[0].isalnum()': False, 'not word.isalnum()': False, 'word.isalpha()': True, '-1:word.lower()': '-', '-1:word.istitle()': False, '-1:word.isupper()': False, '-1:postag': 'PUNCT', '-1:postag[:2]': 'PU', '-1:word.islower()': False, '-2:word.lower()': 'quo', '-2:word.istitle()': False, '-2:word.isupper()': True, '-2:postag': 'PROPN', '-2:postag[:2]': 'PR', '-2:word.islower()': False, '+1:word.lower()': 'de', '+1:word.istitle()': False, '+1:word.isupper()': True, '+1:postag': 'ADP', '+1:postag[:2]': 'AD', '+1:word.islower()': False, '+2:word.lower()': 'incapaz', '+2:word.istitle()': False, '+2:word.isupper()': True, '+2:postag': 'PROPN', '+2:postag[:2]': 'PR', '+2:word.islower()': False}, {'bias': 1.0, 'word.lower()': 'de', 'word[-3:]': 'DE', 'word[-2:]': 'DE', 'word.isupper()': True, 'word.istitle()': False, 'word.isdigit()': False, 'postag': 'ADP', 'postag[:2]': 'AD', 'word.islower()': False, 'word[0].isupper()': True, 'word[0].islower()': False, 'not word[0].isalnum()': False, 'not word.isalnum()': False, 'word.isalpha()': True, '-1:word.lower()': 'presença', '-1:word.istitle()': False, '-1:word.isupper()': True, '-1:postag': 'PROPN', '-1:postag[:2]': 'PR', '-1:word.islower()': False, '-2:word.lower()': '-', '-2:word.istitle()': False, '-2:word.isupper()': False, '-2:postag': 'PUNCT', '-2:postag[:2]': 'PU', '-2:word.islower()': False, '+1:word.lower()': 'incapaz', '+1:word.istitle()': False, '+1:word.isupper()': True, '+1:postag': 'PROPN', '+1:postag[:2]': 'PR', '+1:word.islower()': False, '+2:word.lower()': '-', '+2:word.istitle()': False, '+2:word.isupper()': False, '+2:postag': 'PUNCT', '+2:postag[:2]': 'PU', '+2:word.islower()': False}, {'bias': 1.0, 'word.lower()': 'incapaz', 'word[-3:]': 'PAZ', 'word[-2:]': 'AZ', 'word.isupper()': True, 'word.istitle()': False, 'word.isdigit()': False, 'postag': 'PROPN', 'postag[:2]': 'PR', 'word.islower()': False, 'word[0].isupper()': True, 'word[0].islower()': False, 'not word[0].isalnum()': False, 'not word.isalnum()': False, 'word.isalpha()': True, '-1:word.lower()': 'de', '-1:word.istitle()': False, '-1:word.isupper()': True, '-1:postag': 'ADP', '-1:postag[:2]': 'AD', '-1:word.islower()': False, '-2:word.lower()': 'presença', '-2:word.istitle()': False, '-2:word.isupper()': True, '-2:postag': 'PROPN', '-2:postag[:2]': 'PR', '-2:word.islower()': False, '+1:word.lower()': '-', '+1:word.istitle()': False, '+1:word.isupper()': False, '+1:postag': 'PUNCT', '+1:postag[:2]': 'PU', '+1:word.islower()': False, '+2:word.lower()': 'prejuízo', '+2:word.istitle()': False, '+2:word.isupper()': True, '+2:postag': 'PROPN', '+2:postag[:2]': 'PR', '+2:word.islower()': False}, {'bias': 1.0, 'word.lower()': '-', 'word[-3:]': '-', 'word[-2:]': '-', 'word.isupper()': False, 'word.istitle()': False, 'word.isdigit()': False, 'postag': 'PUNCT', 'postag[:2]': 'PU', 'word.islower()': False, 'word[0].isupper()': False, 'word[0].islower()': False, 'not word[0].isalnum()': True, 'not word.isalnum()': True, 'word.isalpha()': False, '-1:word.lower()': 'incapaz', '-1:word.istitle()': False, '-1:word.isupper()': True, '-1:postag': 'PROPN', '-1:postag[:2]': 'PR', '-1:word.islower()': False, '-2:word.lower()': 'de', '-2:word.istitle()': False, '-2:word.isupper()': True, '-2:postag': 'ADP', '-2:postag[:2]': 'AD', '-2:word.islower()': False, '+1:word.lower()': 'prejuízo', '+1:word.istitle()': False, '+1:word.isupper()': True, '+1:postag': 'PROPN', '+1:postag[:2]': 'PR', '+1:word.islower()': False, '+2:word.lower()': 'existente', '+2:word.istitle()': False, '+2:word.isupper()': True, '+2:postag': 'PROPN', '+2:postag[:2]': 'PR', '+2:word.islower()': False}, {'bias': 1.0, 'word.lower()': 'prejuízo', 'word[-3:]': 'ÍZO', 'word[-2:]': 'ZO', 'word.isupper()': True, 'word.istitle()': False, 'word.isdigit()': False, 'postag': 'PROPN', 'postag[:2]': 'PR', 'word.islower()': False, 'word[0].isupper()': True, 'word[0].islower()': False, 'not word[0].isalnum()': False, 'not word.isalnum()': False, 'word.isalpha()': True, '-1:word.lower()': '-', '-1:word.istitle()': False, '-1:word.isupper()': False, '-1:postag': 'PUNCT', '-1:postag[:2]': 'PU', '-1:word.islower()': False, '-2:word.lower()': 'incapaz', '-2:word.istitle()': False, '-2:word.isupper()': True, '-2:postag': 'PROPN', '-2:postag[:2]': 'PR', '-2:word.islower()': False, '+1:word.lower()': 'existente', '+1:word.istitle()': False, '+1:word.isupper()': True, '+1:postag': 'PROPN', '+1:postag[:2]': 'PR', '+1:word.islower()': False, '+2:word.lower()': '-', '+2:word.istitle()': False, '+2:word.isupper()': False, '+2:postag': 'PUNCT', '+2:postag[:2]': 'PU', '+2:word.islower()': False}, {'bias': 1.0, 'word.lower()': 'existente', 'word[-3:]': 'NTE', 'word[-2:]': 'TE', 'word.isupper()': True, 'word.istitle()': False, 'word.isdigit()': False, 'postag': 'PROPN', 'postag[:2]': 'PR', 'word.islower()': False, 'word[0].isupper()': True, 'word[0].islower()': False, 'not word[0].isalnum()': False, 'not word.isalnum()': False, 'word.isalpha()': True, '-1:word.lower()': 'prejuízo', '-1:word.istitle()': False, '-1:word.isupper()': True, '-1:postag': 'PROPN', '-1:postag[:2]': 'PR', '-1:word.islower()': False, '-2:word.lower()': '-', '-2:word.istitle()': False, '-2:word.isupper()': False, '-2:postag': 'PUNCT', '-2:postag[:2]': 'PU', '-2:word.islower()': False, '+1:word.lower()': '-', '+1:word.istitle()': False, '+1:word.isupper()': False, '+1:postag': 'PUNCT', '+1:postag[:2]': 'PU', '+1:word.islower()': False, '+2:word.lower()': 'preliminar', '+2:word.istitle()': False, '+2:word.isupper()': True, '+2:postag': 'PROPN', '+2:postag[:2]': 'PR', '+2:word.islower()': False}, {'bias': 1.0, 'word.lower()': '-', 'word[-3:]': '-', 'word[-2:]': '-', 'word.isupper()': False, 'word.istitle()': False, 'word.isdigit()': False, 'postag': 'PUNCT', 'postag[:2]': 'PU', 'word.islower()': False, 'word[0].isupper()': False, 'word[0].islower()': False, 'not word[0].isalnum()': True, 'not word.isalnum()': True, 'word.isalpha()': False, '-1:word.lower()': 'existente', '-1:word.istitle()': False, '-1:word.isupper()': True, '-1:postag': 'PROPN', '-1:postag[:2]': 'PR', '-1:word.islower()': False, '-2:word.lower()': 'prejuízo', '-2:word.istitle()': False, '-2:word.isupper()': True, '-2:postag': 'PROPN', '-2:postag[:2]': 'PR', '-2:word.islower()': False, '+1:word.lower()': 'preliminar', '+1:word.istitle()': False, '+1:word.isupper()': True, '+1:postag': 'PROPN', '+1:postag[:2]': 'PR', '+1:word.islower()': False, '+2:word.lower()': 'acolhida', '+2:word.istitle()': False, '+2:word.isupper()': True, '+2:postag': 'PROPN', '+2:postag[:2]': 'PR', '+2:word.islower()': False}, {'bias': 1.0, 'word.lower()': 'preliminar', 'word[-3:]': 'NAR', 'word[-2:]': 'AR', 'word.isupper()': True, 'word.istitle()': False, 'word.isdigit()': False, 'postag': 'PROPN', 'postag[:2]': 'PR', 'word.islower()': False, 'word[0].isupper()': True, 'word[0].islower()': False, 'not word[0].isalnum()': False, 'not word.isalnum()': False, 'word.isalpha()': True, '-1:word.lower()': '-', '-1:word.istitle()': False, '-1:word.isupper()': False, '-1:postag': 'PUNCT', '-1:postag[:2]': 'PU', '-1:word.islower()': False, '-2:word.lower()': 'existente', '-2:word.istitle()': False, '-2:word.isupper()': True, '-2:postag': 'PROPN', '-2:postag[:2]': 'PR', '-2:word.islower()': False, '+1:word.lower()': 'acolhida', '+1:word.istitle()': False, '+1:word.isupper()': True, '+1:postag': 'PROPN', '+1:postag[:2]': 'PR', '+1:word.islower()': False, '+2:word.lower()': '-', '+2:word.istitle()': False, '+2:word.isupper()': False, '+2:postag': 'PUNCT', '+2:postag[:2]': 'PU', '+2:word.islower()': False}, {'bias': 1.0, 'word.lower()': 'acolhida', 'word[-3:]': 'IDA', 'word[-2:]': 'DA', 'word.isupper()': True, 'word.istitle()': False, 'word.isdigit()': False, 'postag': 'PROPN', 'postag[:2]': 'PR', 'word.islower()': False, 'word[0].isupper()': True, 'word[0].islower()': False, 'not word[0].isalnum()': False, 'not word.isalnum()': False, 'word.isalpha()': True, '-1:word.lower()': 'preliminar', '-1:word.istitle()': False, '-1:word.isupper()': True, '-1:postag': 'PROPN', '-1:postag[:2]': 'PR', '-1:word.islower()': False, '-2:word.lower()': '-', '-2:word.istitle()': False, '-2:word.isupper()': False, '-2:postag': 'PUNCT', '-2:postag[:2]': 'PU', '-2:word.islower()': False, '+1:word.lower()': '-', '+1:word.istitle()': False, '+1:word.isupper()': False, '+1:postag': 'PUNCT', '+1:postag[:2]': 'PU', '+1:word.islower()': False, '+2:word.lower()': 'nulidade', '+2:word.istitle()': False, '+2:word.isupper()': True, '+2:postag': 'PROPN', '+2:postag[:2]': 'PR', '+2:word.islower()': False}, {'bias': 1.0, 'word.lower()': '-', 'word[-3:]': '-', 'word[-2:]': '-', 'word.isupper()': False, 'word.istitle()': False, 'word.isdigit()': False, 'postag': 'PUNCT', 'postag[:2]': 'PU', 'word.islower()': False, 'word[0].isupper()': False, 'word[0].islower()': False, 'not word[0].isalnum()': True, 'not word.isalnum()': True, 'word.isalpha()': False, '-1:word.lower()': 'acolhida', '-1:word.istitle()': False, '-1:word.isupper()': True, '-1:postag': 'PROPN', '-1:postag[:2]': 'PR', '-1:word.islower()': False, '-2:word.lower()': 'preliminar', '-2:word.istitle()': False, '-2:word.isupper()': True, '-2:postag': 'PROPN', '-2:postag[:2]': 'PR', '-2:word.islower()': False, '+1:word.lower()': 'nulidade', '+1:word.istitle()': False, '+1:word.isupper()': True, '+1:postag': 'PROPN', '+1:postag[:2]': 'PR', '+1:word.islower()': False, '+2:word.lower()': 'reconhecida', '+2:word.istitle()': False, '+2:word.isupper()': True, '+2:postag': 'NOUN', '+2:postag[:2]': 'NO', '+2:word.islower()': False}, {'bias': 1.0, 'word.lower()': 'nulidade', 'word[-3:]': 'ADE', 'word[-2:]': 'DE', 'word.isupper()': True, 'word.istitle()': False, 'word.isdigit()': False, 'postag': 'PROPN', 'postag[:2]': 'PR', 'word.islower()': False, 'word[0].isupper()': True, 'word[0].islower()': False, 'not word[0].isalnum()': False, 'not word.isalnum()': False, 'word.isalpha()': True, '-1:word.lower()': '-', '-1:word.istitle()': False, '-1:word.isupper()': False, '-1:postag': 'PUNCT', '-1:postag[:2]': 'PU', '-1:word.islower()': False, '-2:word.lower()': 'acolhida', '-2:word.istitle()': False, '-2:word.isupper()': True, '-2:postag': 'PROPN', '-2:postag[:2]': 'PR', '-2:word.islower()': False, '+1:word.lower()': 'reconhecida', '+1:word.istitle()': False, '+1:word.isupper()': True, '+1:postag': 'NOUN', '+1:postag[:2]': 'NO', '+1:word.islower()': False, '+2:word.lower()': '.', '+2:word.istitle()': False, '+2:word.isupper()': False, '+2:postag': 'PUNCT', '+2:postag[:2]': 'PU', '+2:word.islower()': False}, {'bias': 1.0, 'word.lower()': 'reconhecida', 'word[-3:]': 'IDA', 'word[-2:]': 'DA', 'word.isupper()': True, 'word.istitle()': False, 'word.isdigit()': False, 'postag': 'NOUN', 'postag[:2]': 'NO', 'word.islower()': False, 'word[0].isupper()': True, 'word[0].islower()': False, 'not word[0].isalnum()': False, 'not word.isalnum()': False, 'word.isalpha()': True, '-1:word.lower()': 'nulidade', '-1:word.istitle()': False, '-1:word.isupper()': True, '-1:postag': 'PROPN', '-1:postag[:2]': 'PR', '-1:word.islower()': False, '-2:word.lower()': '-', '-2:word.istitle()': False, '-2:word.isupper()': False, '-2:postag': 'PUNCT', '-2:postag[:2]': 'PU', '-2:word.islower()': False, '+1:word.lower()': '.', '+1:word.istitle()': False, '+1:word.isupper()': False, '+1:postag': 'PUNCT', '+1:postag[:2]': 'PU', '+1:word.islower()': False}, {'bias': 1.0, 'word.lower()': '.', 'word[-3:]': '.', 'word[-2:]': '.', 'word.isupper()': False, 'word.istitle()': False, 'word.isdigit()': False, 'postag': 'PUNCT', 'postag[:2]': 'PU', 'word.islower()': False, 'word[0].isupper()': False, 'word[0].islower()': False, 'not word[0].isalnum()': True, 'not word.isalnum()': True, 'word.isalpha()': False, '-1:word.lower()': 'reconhecida', '-1:word.istitle()': False, '-1:word.isupper()': True, '-1:postag': 'NOUN', '-1:postag[:2]': 'NO', '-1:word.islower()': False, '-2:word.lower()': 'nulidade', '-2:word.istitle()': False, '-2:word.isupper()': True, '-2:postag': 'PROPN', '-2:postag[:2]': 'PR', '-2:word.islower()': False, 'EOS': True}]\n",
            "\n",
            "Label: ['O', 'O', 'O', 'O', 'O', 'O', 'O', 'O', 'O', 'O', 'O', 'O', 'O', 'O', 'O', 'O', 'B-ORGANIZACAO', 'I-ORGANIZACAO', 'O', 'O', 'O', 'O', 'O', 'O', 'O', 'O', 'O', 'O', 'O', 'O', 'O', 'O', 'O', 'O', 'O', 'O', 'O', 'O', 'O', 'O', 'O', 'O', 'O', 'O', 'O', 'O', 'O']\n"
          ]
        }
      ]
    },
    {
      "cell_type": "code",
      "source": [
        "crf = CRF(max_iterations=50, c1=0.1, c2=0.1, all_possible_transitions=False)\n",
        "\n",
        "#  Testar com max_iterations=100 e all_possible_transitions=Tru"
      ],
      "metadata": {
        "id": "4hCHY0F08sr6"
      },
      "execution_count": 27,
      "outputs": []
    },
    {
      "cell_type": "code",
      "source": [
        "try:\n",
        "  crf.fit(X_train, y_train)\n",
        "except AttributeError:\n",
        "  pass"
      ],
      "metadata": {
        "id": "RQVqdK6l87wC"
      },
      "execution_count": 28,
      "outputs": []
    },
    {
      "cell_type": "code",
      "source": [
        "y_pred = crf.predict(X_test)"
      ],
      "metadata": {
        "id": "Tki78_4piD6S"
      },
      "execution_count": 29,
      "outputs": []
    },
    {
      "cell_type": "code",
      "source": [
        "report = classification_report(y_test, y_pred)\n",
        "\n",
        "print(report)"
      ],
      "metadata": {
        "colab": {
          "base_uri": "https://localhost:8080/"
        },
        "id": "69s-wUl9iVf3",
        "outputId": "f0b18e4a-1b3b-4ad7-f700-3f2e32e36faf"
      },
      "execution_count": 30,
      "outputs": [
        {
          "output_type": "stream",
          "name": "stdout",
          "text": [
            "                precision    recall  f1-score   support\n",
            "\n",
            "JURISPRUDENCIA       0.74      0.66      0.70       185\n",
            "    LEGISLACAO       0.81      0.76      0.79       378\n",
            "         LOCAL       0.70      0.64      0.67        47\n",
            "   ORGANIZACAO       0.91      0.78      0.84       501\n",
            "        PESSOA       0.89      0.75      0.82       233\n",
            "         TEMPO       0.96      0.78      0.86       192\n",
            "\n",
            "     micro avg       0.86      0.75      0.80      1536\n",
            "     macro avg       0.83      0.73      0.78      1536\n",
            "  weighted avg       0.86      0.75      0.80      1536\n",
            "\n"
          ]
        }
      ]
    }
  ]
}