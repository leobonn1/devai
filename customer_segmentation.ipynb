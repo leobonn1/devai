{
  "metadata": {
    "kernelspec": {
      "language": "python",
      "display_name": "Python 3",
      "name": "python3"
    },
    "language_info": {
      "pygments_lexer": "ipython3",
      "nbconvert_exporter": "python",
      "version": "3.6.4",
      "file_extension": ".py",
      "codemirror_mode": {
        "name": "ipython",
        "version": 3
      },
      "name": "python",
      "mimetype": "text/x-python"
    },
    "kaggle": {
      "accelerator": "none",
      "dataSources": [
        {
          "sourceId": 2549419,
          "sourceType": "datasetVersion",
          "datasetId": 1546318
        }
      ],
      "dockerImageVersionId": 30129,
      "isInternetEnabled": false,
      "language": "python",
      "sourceType": "notebook",
      "isGpuEnabled": false
    },
    "colab": {
      "provenance": [],
      "include_colab_link": true
    }
  },
  "nbformat_minor": 0,
  "nbformat": 4,
  "cells": [
    {
      "cell_type": "markdown",
      "metadata": {
        "id": "view-in-github",
        "colab_type": "text"
      },
      "source": [
        "<a href=\"https://colab.research.google.com/github/leobonn1/devai/blob/main/customer_segmentation.ipynb\" target=\"_parent\"><img src=\"https://colab.research.google.com/assets/colab-badge.svg\" alt=\"Open In Colab\"/></a>"
      ]
    },
    {
      "cell_type": "code",
      "source": [
        "# This Python 3 environment comes with many helpful analytics libraries installed\n",
        "# It is defined by the kaggle/python Docker image: https://github.com/kaggle/docker-python\n",
        "# For example, here's several helpful packages to load\n",
        "\n",
        "import numpy as np # linear algebra\n",
        "import pandas as pd # data processing, CSV file I/O (e.g. pd.read_csv)\n",
        "\n",
        "# Input data files are available in the read-only \"../input/\" directory\n",
        "# For example, running this (by clicking run or pressing Shift+Enter) will list all files under the input directory\n",
        "\n",
        "import os\n",
        "for dirname, _, filenames in os.walk('/kaggle/input'):\n",
        "    for filename in filenames:\n",
        "        print(os.path.join(dirname, filename))\n",
        "\n",
        "# You can write up to 20GB to the current directory (/kaggle/working/) that gets preserved as output when you create a version using \"Save & Run All\"\n",
        "# You can also write temporary files to /kaggle/temp/, but they won't be saved outside of the current session"
      ],
      "metadata": {
        "_kg_hide-input": true,
        "_kg_hide-output": true,
        "execution": {
          "iopub.status.busy": "2021-10-08T04:12:13.749647Z",
          "iopub.execute_input": "2021-10-08T04:12:13.749923Z",
          "iopub.status.idle": "2021-10-08T04:12:13.780354Z",
          "shell.execute_reply.started": "2021-10-08T04:12:13.749841Z",
          "shell.execute_reply": "2021-10-08T04:12:13.779191Z"
        },
        "trusted": true,
        "id": "0KS2IRsZrQnV"
      },
      "execution_count": 1,
      "outputs": []
    },
    {
      "cell_type": "markdown",
      "source": [
        "# <p style=\"background-color:#682F2F;font-family:newtimeroman;color:#FFF9ED;font-size:150%;text-align:center;border-radius:10px 10px;\">Customer Segmentation</p>\n",
        "\n",
        "In this project, I will be performing an unsupervised clustering of data on the customer's records from a groceries firm's database. Customer segmentation is the practice of separating customers into groups that reflect similarities among customers in each cluster. I will divide customers into segments to optimize the significance of each customer to the business. To modify products according to distinct needs and behaviours of the customers. It also helps the business to cater to the concerns of different types of customers.\n",
        "\n",
        "\n",
        "   <a id='top'></a>\n",
        "<div class=\"list-group\" id=\"list-tab\" role=\"tablist\">\n",
        "<p style=\"background-color:#682F2F;font-family:newtimeroman;color:#FFF9ED;font-size:150%;text-align:center;border-radius:10px 10px;\">TABLE OF CONTENTS</p>   \n",
        "    \n",
        "* [1. IMPORTING LIBRARIES](#1)\n",
        "    \n",
        "* [2. LOADING DATA](#2)\n",
        "    \n",
        "* [3. DATA CLEANING](#3)\n",
        "    \n",
        "* [4. DATA PREPROCESSING](#4)   \n",
        "    \n",
        "* [5. DIMENSIONALITY REDUCTION](#5)\n",
        "      \n",
        "* [6. CLUSTERING](#6)\n",
        "    \n",
        "* [7. EVALUATING MODELS](#7)\n",
        "    \n",
        "* [8. PROFILING](#8)\n",
        "    \n",
        "* [9. CONCLUSION](#9)\n",
        "    \n",
        "* [10. END](#10)\n"
      ],
      "metadata": {
        "id": "YFTCn2TorQnq"
      }
    },
    {
      "cell_type": "markdown",
      "source": [
        "<a id=\"1\"></a>\n",
        "# <p style=\"background-color:#682F2F;font-family:newtimeroman;color:#FFF9ED;font-size:150%;text-align:center;border-radius:10px 10px;\">IMPORTING LIBRARIES</p>"
      ],
      "metadata": {
        "id": "o-HTLVWDrQn1"
      }
    },
    {
      "cell_type": "code",
      "source": [
        "#Importing the Libraries\n",
        "import numpy as np\n",
        "import pandas as pd\n",
        "import datetime\n",
        "import matplotlib\n",
        "import matplotlib.pyplot as plt\n",
        "from matplotlib import colors\n",
        "import seaborn as sns\n",
        "from sklearn.preprocessing import LabelEncoder\n",
        "from sklearn.preprocessing import StandardScaler\n",
        "from sklearn.decomposition import PCA\n",
        "from yellowbrick.cluster import KElbowVisualizer\n",
        "from sklearn.cluster import KMeans\n",
        "import matplotlib.pyplot as plt, numpy as np\n",
        "from mpl_toolkits.mplot3d import Axes3D\n",
        "from sklearn.cluster import AgglomerativeClustering\n",
        "from matplotlib.colors import ListedColormap\n",
        "from sklearn import metrics\n",
        "import warnings\n",
        "import sys\n",
        "if not sys.warnoptions:\n",
        "    warnings.simplefilter(\"ignore\")\n",
        "np.random.seed(42)"
      ],
      "metadata": {
        "execution": {
          "iopub.status.busy": "2021-10-08T04:12:13.782145Z",
          "iopub.execute_input": "2021-10-08T04:12:13.782486Z",
          "iopub.status.idle": "2021-10-08T04:12:15.112632Z",
          "shell.execute_reply.started": "2021-10-08T04:12:13.782444Z",
          "shell.execute_reply": "2021-10-08T04:12:15.111782Z"
        },
        "trusted": true,
        "id": "wEO-Fc_orQn4"
      },
      "execution_count": 2,
      "outputs": []
    },
    {
      "cell_type": "markdown",
      "source": [
        "<a id=\"2\"></a>\n",
        "# <p style=\"background-color:#682F2F;font-family:newtimeroman;color:#FFF9ED;font-size:150%;text-align:center;border-radius:10px 10px;\">LOADING DATA</p>"
      ],
      "metadata": {
        "id": "UdWzSmX7rQn6"
      }
    },
    {
      "cell_type": "code",
      "source": [
        "#Loading the dataset\n",
        "data = pd.read_csv(\"marketing_campaign.csv\", sep=\";\")\n",
        "print(\"Number of datapoints:\", len(data))\n",
        "data.head()"
      ],
      "metadata": {
        "execution": {
          "iopub.status.busy": "2021-10-08T04:12:15.113716Z",
          "iopub.execute_input": "2021-10-08T04:12:15.114343Z",
          "iopub.status.idle": "2021-10-08T04:12:15.171567Z",
          "shell.execute_reply.started": "2021-10-08T04:12:15.114297Z",
          "shell.execute_reply": "2021-10-08T04:12:15.170683Z"
        },
        "trusted": true,
        "colab": {
          "base_uri": "https://localhost:8080/",
          "height": 273
        },
        "id": "bY3JgYIMrQn8",
        "outputId": "c8b0d86c-92dd-4fd9-daa0-4f2a74a51a0f"
      },
      "execution_count": 10,
      "outputs": [
        {
          "output_type": "stream",
          "name": "stdout",
          "text": [
            "Number of datapoints: 2240\n"
          ]
        },
        {
          "output_type": "execute_result",
          "data": {
            "text/plain": [
              "     ID  Year_Birth   Education Marital_Status   Income  Kidhome  Teenhome  \\\n",
              "0  5524        1957  Graduation         Single  58138.0        0         0   \n",
              "1  2174        1954  Graduation         Single  46344.0        1         1   \n",
              "2  4141        1965  Graduation       Together  71613.0        0         0   \n",
              "3  6182        1984  Graduation       Together  26646.0        1         0   \n",
              "4  5324        1981         PhD        Married  58293.0        1         0   \n",
              "\n",
              "  Dt_Customer  Recency  MntWines  ...  NumWebVisitsMonth  AcceptedCmp3  \\\n",
              "0  2012-09-04       58       635  ...                  7             0   \n",
              "1  2014-03-08       38        11  ...                  5             0   \n",
              "2  2013-08-21       26       426  ...                  4             0   \n",
              "3  2014-02-10       26        11  ...                  6             0   \n",
              "4  2014-01-19       94       173  ...                  5             0   \n",
              "\n",
              "   AcceptedCmp4  AcceptedCmp5  AcceptedCmp1  AcceptedCmp2  Complain  \\\n",
              "0             0             0             0             0         0   \n",
              "1             0             0             0             0         0   \n",
              "2             0             0             0             0         0   \n",
              "3             0             0             0             0         0   \n",
              "4             0             0             0             0         0   \n",
              "\n",
              "   Z_CostContact  Z_Revenue  Response  \n",
              "0              3         11         1  \n",
              "1              3         11         0  \n",
              "2              3         11         0  \n",
              "3              3         11         0  \n",
              "4              3         11         0  \n",
              "\n",
              "[5 rows x 29 columns]"
            ],
            "text/html": [
              "\n",
              "  <div id=\"df-cd40efc0-e2fe-4a95-a2ec-ce9a3e4befa0\" class=\"colab-df-container\">\n",
              "    <div>\n",
              "<style scoped>\n",
              "    .dataframe tbody tr th:only-of-type {\n",
              "        vertical-align: middle;\n",
              "    }\n",
              "\n",
              "    .dataframe tbody tr th {\n",
              "        vertical-align: top;\n",
              "    }\n",
              "\n",
              "    .dataframe thead th {\n",
              "        text-align: right;\n",
              "    }\n",
              "</style>\n",
              "<table border=\"1\" class=\"dataframe\">\n",
              "  <thead>\n",
              "    <tr style=\"text-align: right;\">\n",
              "      <th></th>\n",
              "      <th>ID</th>\n",
              "      <th>Year_Birth</th>\n",
              "      <th>Education</th>\n",
              "      <th>Marital_Status</th>\n",
              "      <th>Income</th>\n",
              "      <th>Kidhome</th>\n",
              "      <th>Teenhome</th>\n",
              "      <th>Dt_Customer</th>\n",
              "      <th>Recency</th>\n",
              "      <th>MntWines</th>\n",
              "      <th>...</th>\n",
              "      <th>NumWebVisitsMonth</th>\n",
              "      <th>AcceptedCmp3</th>\n",
              "      <th>AcceptedCmp4</th>\n",
              "      <th>AcceptedCmp5</th>\n",
              "      <th>AcceptedCmp1</th>\n",
              "      <th>AcceptedCmp2</th>\n",
              "      <th>Complain</th>\n",
              "      <th>Z_CostContact</th>\n",
              "      <th>Z_Revenue</th>\n",
              "      <th>Response</th>\n",
              "    </tr>\n",
              "  </thead>\n",
              "  <tbody>\n",
              "    <tr>\n",
              "      <th>0</th>\n",
              "      <td>5524</td>\n",
              "      <td>1957</td>\n",
              "      <td>Graduation</td>\n",
              "      <td>Single</td>\n",
              "      <td>58138.0</td>\n",
              "      <td>0</td>\n",
              "      <td>0</td>\n",
              "      <td>2012-09-04</td>\n",
              "      <td>58</td>\n",
              "      <td>635</td>\n",
              "      <td>...</td>\n",
              "      <td>7</td>\n",
              "      <td>0</td>\n",
              "      <td>0</td>\n",
              "      <td>0</td>\n",
              "      <td>0</td>\n",
              "      <td>0</td>\n",
              "      <td>0</td>\n",
              "      <td>3</td>\n",
              "      <td>11</td>\n",
              "      <td>1</td>\n",
              "    </tr>\n",
              "    <tr>\n",
              "      <th>1</th>\n",
              "      <td>2174</td>\n",
              "      <td>1954</td>\n",
              "      <td>Graduation</td>\n",
              "      <td>Single</td>\n",
              "      <td>46344.0</td>\n",
              "      <td>1</td>\n",
              "      <td>1</td>\n",
              "      <td>2014-03-08</td>\n",
              "      <td>38</td>\n",
              "      <td>11</td>\n",
              "      <td>...</td>\n",
              "      <td>5</td>\n",
              "      <td>0</td>\n",
              "      <td>0</td>\n",
              "      <td>0</td>\n",
              "      <td>0</td>\n",
              "      <td>0</td>\n",
              "      <td>0</td>\n",
              "      <td>3</td>\n",
              "      <td>11</td>\n",
              "      <td>0</td>\n",
              "    </tr>\n",
              "    <tr>\n",
              "      <th>2</th>\n",
              "      <td>4141</td>\n",
              "      <td>1965</td>\n",
              "      <td>Graduation</td>\n",
              "      <td>Together</td>\n",
              "      <td>71613.0</td>\n",
              "      <td>0</td>\n",
              "      <td>0</td>\n",
              "      <td>2013-08-21</td>\n",
              "      <td>26</td>\n",
              "      <td>426</td>\n",
              "      <td>...</td>\n",
              "      <td>4</td>\n",
              "      <td>0</td>\n",
              "      <td>0</td>\n",
              "      <td>0</td>\n",
              "      <td>0</td>\n",
              "      <td>0</td>\n",
              "      <td>0</td>\n",
              "      <td>3</td>\n",
              "      <td>11</td>\n",
              "      <td>0</td>\n",
              "    </tr>\n",
              "    <tr>\n",
              "      <th>3</th>\n",
              "      <td>6182</td>\n",
              "      <td>1984</td>\n",
              "      <td>Graduation</td>\n",
              "      <td>Together</td>\n",
              "      <td>26646.0</td>\n",
              "      <td>1</td>\n",
              "      <td>0</td>\n",
              "      <td>2014-02-10</td>\n",
              "      <td>26</td>\n",
              "      <td>11</td>\n",
              "      <td>...</td>\n",
              "      <td>6</td>\n",
              "      <td>0</td>\n",
              "      <td>0</td>\n",
              "      <td>0</td>\n",
              "      <td>0</td>\n",
              "      <td>0</td>\n",
              "      <td>0</td>\n",
              "      <td>3</td>\n",
              "      <td>11</td>\n",
              "      <td>0</td>\n",
              "    </tr>\n",
              "    <tr>\n",
              "      <th>4</th>\n",
              "      <td>5324</td>\n",
              "      <td>1981</td>\n",
              "      <td>PhD</td>\n",
              "      <td>Married</td>\n",
              "      <td>58293.0</td>\n",
              "      <td>1</td>\n",
              "      <td>0</td>\n",
              "      <td>2014-01-19</td>\n",
              "      <td>94</td>\n",
              "      <td>173</td>\n",
              "      <td>...</td>\n",
              "      <td>5</td>\n",
              "      <td>0</td>\n",
              "      <td>0</td>\n",
              "      <td>0</td>\n",
              "      <td>0</td>\n",
              "      <td>0</td>\n",
              "      <td>0</td>\n",
              "      <td>3</td>\n",
              "      <td>11</td>\n",
              "      <td>0</td>\n",
              "    </tr>\n",
              "  </tbody>\n",
              "</table>\n",
              "<p>5 rows × 29 columns</p>\n",
              "</div>\n",
              "    <div class=\"colab-df-buttons\">\n",
              "\n",
              "  <div class=\"colab-df-container\">\n",
              "    <button class=\"colab-df-convert\" onclick=\"convertToInteractive('df-cd40efc0-e2fe-4a95-a2ec-ce9a3e4befa0')\"\n",
              "            title=\"Convert this dataframe to an interactive table.\"\n",
              "            style=\"display:none;\">\n",
              "\n",
              "  <svg xmlns=\"http://www.w3.org/2000/svg\" height=\"24px\" viewBox=\"0 -960 960 960\">\n",
              "    <path d=\"M120-120v-720h720v720H120Zm60-500h600v-160H180v160Zm220 220h160v-160H400v160Zm0 220h160v-160H400v160ZM180-400h160v-160H180v160Zm440 0h160v-160H620v160ZM180-180h160v-160H180v160Zm440 0h160v-160H620v160Z\"/>\n",
              "  </svg>\n",
              "    </button>\n",
              "\n",
              "  <style>\n",
              "    .colab-df-container {\n",
              "      display:flex;\n",
              "      gap: 12px;\n",
              "    }\n",
              "\n",
              "    .colab-df-convert {\n",
              "      background-color: #E8F0FE;\n",
              "      border: none;\n",
              "      border-radius: 50%;\n",
              "      cursor: pointer;\n",
              "      display: none;\n",
              "      fill: #1967D2;\n",
              "      height: 32px;\n",
              "      padding: 0 0 0 0;\n",
              "      width: 32px;\n",
              "    }\n",
              "\n",
              "    .colab-df-convert:hover {\n",
              "      background-color: #E2EBFA;\n",
              "      box-shadow: 0px 1px 2px rgba(60, 64, 67, 0.3), 0px 1px 3px 1px rgba(60, 64, 67, 0.15);\n",
              "      fill: #174EA6;\n",
              "    }\n",
              "\n",
              "    .colab-df-buttons div {\n",
              "      margin-bottom: 4px;\n",
              "    }\n",
              "\n",
              "    [theme=dark] .colab-df-convert {\n",
              "      background-color: #3B4455;\n",
              "      fill: #D2E3FC;\n",
              "    }\n",
              "\n",
              "    [theme=dark] .colab-df-convert:hover {\n",
              "      background-color: #434B5C;\n",
              "      box-shadow: 0px 1px 3px 1px rgba(0, 0, 0, 0.15);\n",
              "      filter: drop-shadow(0px 1px 2px rgba(0, 0, 0, 0.3));\n",
              "      fill: #FFFFFF;\n",
              "    }\n",
              "  </style>\n",
              "\n",
              "    <script>\n",
              "      const buttonEl =\n",
              "        document.querySelector('#df-cd40efc0-e2fe-4a95-a2ec-ce9a3e4befa0 button.colab-df-convert');\n",
              "      buttonEl.style.display =\n",
              "        google.colab.kernel.accessAllowed ? 'block' : 'none';\n",
              "\n",
              "      async function convertToInteractive(key) {\n",
              "        const element = document.querySelector('#df-cd40efc0-e2fe-4a95-a2ec-ce9a3e4befa0');\n",
              "        const dataTable =\n",
              "          await google.colab.kernel.invokeFunction('convertToInteractive',\n",
              "                                                    [key], {});\n",
              "        if (!dataTable) return;\n",
              "\n",
              "        const docLinkHtml = 'Like what you see? Visit the ' +\n",
              "          '<a target=\"_blank\" href=https://colab.research.google.com/notebooks/data_table.ipynb>data table notebook</a>'\n",
              "          + ' to learn more about interactive tables.';\n",
              "        element.innerHTML = '';\n",
              "        dataTable['output_type'] = 'display_data';\n",
              "        await google.colab.output.renderOutput(dataTable, element);\n",
              "        const docLink = document.createElement('div');\n",
              "        docLink.innerHTML = docLinkHtml;\n",
              "        element.appendChild(docLink);\n",
              "      }\n",
              "    </script>\n",
              "  </div>\n",
              "\n",
              "\n",
              "<div id=\"df-dfdb1949-eef2-4ca0-a748-e68a5c486d19\">\n",
              "  <button class=\"colab-df-quickchart\" onclick=\"quickchart('df-dfdb1949-eef2-4ca0-a748-e68a5c486d19')\"\n",
              "            title=\"Suggest charts\"\n",
              "            style=\"display:none;\">\n",
              "\n",
              "<svg xmlns=\"http://www.w3.org/2000/svg\" height=\"24px\"viewBox=\"0 0 24 24\"\n",
              "     width=\"24px\">\n",
              "    <g>\n",
              "        <path d=\"M19 3H5c-1.1 0-2 .9-2 2v14c0 1.1.9 2 2 2h14c1.1 0 2-.9 2-2V5c0-1.1-.9-2-2-2zM9 17H7v-7h2v7zm4 0h-2V7h2v10zm4 0h-2v-4h2v4z\"/>\n",
              "    </g>\n",
              "</svg>\n",
              "  </button>\n",
              "\n",
              "<style>\n",
              "  .colab-df-quickchart {\n",
              "      --bg-color: #E8F0FE;\n",
              "      --fill-color: #1967D2;\n",
              "      --hover-bg-color: #E2EBFA;\n",
              "      --hover-fill-color: #174EA6;\n",
              "      --disabled-fill-color: #AAA;\n",
              "      --disabled-bg-color: #DDD;\n",
              "  }\n",
              "\n",
              "  [theme=dark] .colab-df-quickchart {\n",
              "      --bg-color: #3B4455;\n",
              "      --fill-color: #D2E3FC;\n",
              "      --hover-bg-color: #434B5C;\n",
              "      --hover-fill-color: #FFFFFF;\n",
              "      --disabled-bg-color: #3B4455;\n",
              "      --disabled-fill-color: #666;\n",
              "  }\n",
              "\n",
              "  .colab-df-quickchart {\n",
              "    background-color: var(--bg-color);\n",
              "    border: none;\n",
              "    border-radius: 50%;\n",
              "    cursor: pointer;\n",
              "    display: none;\n",
              "    fill: var(--fill-color);\n",
              "    height: 32px;\n",
              "    padding: 0;\n",
              "    width: 32px;\n",
              "  }\n",
              "\n",
              "  .colab-df-quickchart:hover {\n",
              "    background-color: var(--hover-bg-color);\n",
              "    box-shadow: 0 1px 2px rgba(60, 64, 67, 0.3), 0 1px 3px 1px rgba(60, 64, 67, 0.15);\n",
              "    fill: var(--button-hover-fill-color);\n",
              "  }\n",
              "\n",
              "  .colab-df-quickchart-complete:disabled,\n",
              "  .colab-df-quickchart-complete:disabled:hover {\n",
              "    background-color: var(--disabled-bg-color);\n",
              "    fill: var(--disabled-fill-color);\n",
              "    box-shadow: none;\n",
              "  }\n",
              "\n",
              "  .colab-df-spinner {\n",
              "    border: 2px solid var(--fill-color);\n",
              "    border-color: transparent;\n",
              "    border-bottom-color: var(--fill-color);\n",
              "    animation:\n",
              "      spin 1s steps(1) infinite;\n",
              "  }\n",
              "\n",
              "  @keyframes spin {\n",
              "    0% {\n",
              "      border-color: transparent;\n",
              "      border-bottom-color: var(--fill-color);\n",
              "      border-left-color: var(--fill-color);\n",
              "    }\n",
              "    20% {\n",
              "      border-color: transparent;\n",
              "      border-left-color: var(--fill-color);\n",
              "      border-top-color: var(--fill-color);\n",
              "    }\n",
              "    30% {\n",
              "      border-color: transparent;\n",
              "      border-left-color: var(--fill-color);\n",
              "      border-top-color: var(--fill-color);\n",
              "      border-right-color: var(--fill-color);\n",
              "    }\n",
              "    40% {\n",
              "      border-color: transparent;\n",
              "      border-right-color: var(--fill-color);\n",
              "      border-top-color: var(--fill-color);\n",
              "    }\n",
              "    60% {\n",
              "      border-color: transparent;\n",
              "      border-right-color: var(--fill-color);\n",
              "    }\n",
              "    80% {\n",
              "      border-color: transparent;\n",
              "      border-right-color: var(--fill-color);\n",
              "      border-bottom-color: var(--fill-color);\n",
              "    }\n",
              "    90% {\n",
              "      border-color: transparent;\n",
              "      border-bottom-color: var(--fill-color);\n",
              "    }\n",
              "  }\n",
              "</style>\n",
              "\n",
              "  <script>\n",
              "    async function quickchart(key) {\n",
              "      const quickchartButtonEl =\n",
              "        document.querySelector('#' + key + ' button');\n",
              "      quickchartButtonEl.disabled = true;  // To prevent multiple clicks.\n",
              "      quickchartButtonEl.classList.add('colab-df-spinner');\n",
              "      try {\n",
              "        const charts = await google.colab.kernel.invokeFunction(\n",
              "            'suggestCharts', [key], {});\n",
              "      } catch (error) {\n",
              "        console.error('Error during call to suggestCharts:', error);\n",
              "      }\n",
              "      quickchartButtonEl.classList.remove('colab-df-spinner');\n",
              "      quickchartButtonEl.classList.add('colab-df-quickchart-complete');\n",
              "    }\n",
              "    (() => {\n",
              "      let quickchartButtonEl =\n",
              "        document.querySelector('#df-dfdb1949-eef2-4ca0-a748-e68a5c486d19 button');\n",
              "      quickchartButtonEl.style.display =\n",
              "        google.colab.kernel.accessAllowed ? 'block' : 'none';\n",
              "    })();\n",
              "  </script>\n",
              "</div>\n",
              "\n",
              "    </div>\n",
              "  </div>\n"
            ],
            "application/vnd.google.colaboratory.intrinsic+json": {
              "type": "dataframe",
              "variable_name": "data"
            }
          },
          "metadata": {},
          "execution_count": 10
        }
      ]
    },
    {
      "cell_type": "code",
      "source": [
        "from google.colab import drive\n",
        "drive.mount('/content/drive')"
      ],
      "metadata": {
        "id": "W1cT67RnwVD1"
      },
      "execution_count": null,
      "outputs": []
    },
    {
      "cell_type": "markdown",
      "source": [
        "<img src=\"https://github.com/KarnikaKapoor/Files/blob/main/Colorful%20Handwritten%20About%20Me%20Blank%20Education%20Presentation.png?raw=true\">\n",
        "\n",
        "For more information on the attributes visit [here](https://www.kaggle.com/imakash3011/customer-personality-analysis).\n",
        "\n",
        "<a id=\"3\"></a>\n",
        "# <p style=\"background-color:#682F2F;font-family:newtimeroman;color:#FFF9ED;font-size:150%;text-align:center;border-radius:10px 10px;\">DATA CLEANING</p>\n",
        "\n",
        "\n",
        "**In this section**\n",
        "* Data Cleaning\n",
        "* Feature Engineering\n",
        "\n",
        "In order to, get a full grasp of what steps should I be taking to clean the dataset.\n",
        "Let us have a look at the information in data.\n"
      ],
      "metadata": {
        "id": "Bzby8zltrQn-"
      }
    },
    {
      "cell_type": "code",
      "source": [
        "#Information on features\n",
        "data.info()"
      ],
      "metadata": {
        "execution": {
          "iopub.status.busy": "2021-10-08T04:12:15.17321Z",
          "iopub.execute_input": "2021-10-08T04:12:15.173477Z",
          "iopub.status.idle": "2021-10-08T04:12:15.198247Z",
          "shell.execute_reply.started": "2021-10-08T04:12:15.173448Z",
          "shell.execute_reply": "2021-10-08T04:12:15.197443Z"
        },
        "trusted": true,
        "id": "2P-aEt38rQoA",
        "outputId": "b0ed4a9e-9f68-4e0b-93a2-ace87e583085",
        "colab": {
          "base_uri": "https://localhost:8080/"
        }
      },
      "execution_count": 5,
      "outputs": [
        {
          "output_type": "stream",
          "name": "stdout",
          "text": [
            "<class 'pandas.core.frame.DataFrame'>\n",
            "RangeIndex: 2240 entries, 0 to 2239\n",
            "Data columns (total 1 columns):\n",
            " #   Column                                                                                                                                                                                                                                                                                                                                                                    Non-Null Count  Dtype \n",
            "---  ------                                                                                                                                                                                                                                                                                                                                                                    --------------  ----- \n",
            " 0   ID;Year_Birth;Education;Marital_Status;Income;Kidhome;Teenhome;Dt_Customer;Recency;MntWines;MntFruits;MntMeatProducts;MntFishProducts;MntSweetProducts;MntGoldProds;NumDealsPurchases;NumWebPurchases;NumCatalogPurchases;NumStorePurchases;NumWebVisitsMonth;AcceptedCmp3;AcceptedCmp4;AcceptedCmp5;AcceptedCmp1;AcceptedCmp2;Complain;Z_CostContact;Z_Revenue;Response  2240 non-null   object\n",
            "dtypes: object(1)\n",
            "memory usage: 17.6+ KB\n"
          ]
        }
      ]
    },
    {
      "cell_type": "markdown",
      "source": [
        "**From the above output, we can conclude and note that:**\n",
        "\n",
        "* There are missing values in income\n",
        "* Dt_Customer that indicates the date a customer joined the database is not parsed as DateTime\n",
        "* There are some categorical features in our data frame; as there are some features in dtype: object). So we will need to encode them into numeric forms later.\n",
        "\n",
        "First of all, for the missing values, I am simply going to drop the rows that have missing income values."
      ],
      "metadata": {
        "id": "eG6c6glxrQoC"
      }
    },
    {
      "cell_type": "code",
      "source": [
        "#To remove the NA values\n",
        "data = data.dropna()\n",
        "print(\"The total number of data-points after removing the rows with missing values are:\", len(data))"
      ],
      "metadata": {
        "execution": {
          "iopub.status.busy": "2021-10-08T04:12:15.199567Z",
          "iopub.execute_input": "2021-10-08T04:12:15.199874Z",
          "iopub.status.idle": "2021-10-08T04:12:15.209802Z",
          "shell.execute_reply.started": "2021-10-08T04:12:15.199835Z",
          "shell.execute_reply": "2021-10-08T04:12:15.208656Z"
        },
        "trusted": true,
        "id": "W9MmnqflrQoE",
        "outputId": "e1341534-ddb9-4e07-e68a-a36bbcd84eba",
        "colab": {
          "base_uri": "https://localhost:8080/"
        }
      },
      "execution_count": 11,
      "outputs": [
        {
          "output_type": "stream",
          "name": "stdout",
          "text": [
            "The total number of data-points after removing the rows with missing values are: 2216\n"
          ]
        }
      ]
    },
    {
      "cell_type": "markdown",
      "source": [
        "In the next step, I am going to create a feature out of **\"Dt_Customer\"** that indicates the number of days a customer is registered in the firm's database. However, in order to keep it simple, I am taking this value relative to the most recent customer in the record.\n",
        "\n",
        "Thus to get the values I must check the newest and oldest recorded dates."
      ],
      "metadata": {
        "id": "2Vulm4KArQoG"
      }
    },
    {
      "cell_type": "code",
      "source": [
        "data[\"Dt_Customer\"] = pd.to_datetime(data[\"Dt_Customer\"])\n",
        "dates = []\n",
        "for i in data[\"Dt_Customer\"]:\n",
        "    i = i.date()\n",
        "    dates.append(i)\n",
        "#Dates of the newest and oldest recorded customer\n",
        "print(\"The newest customer's enrolment date in therecords:\",max(dates))\n",
        "print(\"The oldest customer's enrolment date in the records:\",min(dates))\n"
      ],
      "metadata": {
        "execution": {
          "iopub.status.busy": "2021-10-08T04:12:15.211075Z",
          "iopub.execute_input": "2021-10-08T04:12:15.211499Z",
          "iopub.status.idle": "2021-10-08T04:12:15.229137Z",
          "shell.execute_reply.started": "2021-10-08T04:12:15.211459Z",
          "shell.execute_reply": "2021-10-08T04:12:15.228054Z"
        },
        "trusted": true,
        "id": "A7Rw-oMjrQoI",
        "outputId": "34d6da9f-3622-4e3e-c6c5-486f2facf43b",
        "colab": {
          "base_uri": "https://localhost:8080/"
        }
      },
      "execution_count": 12,
      "outputs": [
        {
          "output_type": "stream",
          "name": "stdout",
          "text": [
            "The newest customer's enrolment date in therecords: 2014-06-29\n",
            "The oldest customer's enrolment date in the records: 2012-07-30\n"
          ]
        }
      ]
    },
    {
      "cell_type": "markdown",
      "source": [
        "Creating a feature **(\"Customer_For\")** of the number of days the customers started to shop in the store relative to the last recorded date"
      ],
      "metadata": {
        "id": "VagtyYlqrQoJ"
      }
    },
    {
      "cell_type": "code",
      "source": [
        "#Created a feature \"Customer_For\"\n",
        "days = []\n",
        "d1 = max(dates) #taking it to be the newest customer\n",
        "for i in dates:\n",
        "    delta = d1 - i\n",
        "    days.append(delta)\n",
        "data[\"Customer_For\"] = days\n",
        "data[\"Customer_For\"] = pd.to_numeric(data[\"Customer_For\"], errors=\"coerce\")"
      ],
      "metadata": {
        "execution": {
          "iopub.status.busy": "2021-10-08T04:12:15.230408Z",
          "iopub.execute_input": "2021-10-08T04:12:15.230638Z",
          "iopub.status.idle": "2021-10-08T04:12:15.250178Z",
          "shell.execute_reply.started": "2021-10-08T04:12:15.230607Z",
          "shell.execute_reply": "2021-10-08T04:12:15.249414Z"
        },
        "trusted": true,
        "id": "dCCKW3cirQoK"
      },
      "execution_count": null,
      "outputs": []
    },
    {
      "cell_type": "markdown",
      "source": [
        "Now we will be exploring the unique values in the categorical features to get a clear idea of the data.  "
      ],
      "metadata": {
        "id": "t1WEElV2rQoL"
      }
    },
    {
      "cell_type": "code",
      "source": [
        "print(\"Total categories in the feature Marital_Status:\\n\", data[\"Marital_Status\"].value_counts(), \"\\n\")\n",
        "print(\"Total categories in the feature Education:\\n\", data[\"Education\"].value_counts())"
      ],
      "metadata": {
        "execution": {
          "iopub.status.busy": "2021-10-08T04:12:15.251233Z",
          "iopub.execute_input": "2021-10-08T04:12:15.251554Z",
          "iopub.status.idle": "2021-10-08T04:12:15.265666Z",
          "shell.execute_reply.started": "2021-10-08T04:12:15.251514Z",
          "shell.execute_reply": "2021-10-08T04:12:15.264597Z"
        },
        "trusted": true,
        "id": "bP33oSNLrQoM"
      },
      "execution_count": null,
      "outputs": []
    },
    {
      "cell_type": "markdown",
      "source": [
        "**In the next bit, I will be performing the following steps to engineer some new features:**\n",
        "\n",
        "* Extract the **\"Age\"** of a customer by the **\"Year_Birth\"** indicating the birth year of the respective person.\n",
        "* Create another feature **\"Spent\"** indicating the total amount spent by the customer in various categories over the span of two years.\n",
        "* Create another feature **\"Living_With\"** out of **\"Marital_Status\"** to extract the living situation of couples.\n",
        "* Create a feature **\"Children\"** to indicate total children in a household that is, kids and teenagers.\n",
        "* To get further clarity of household, Creating feature indicating **\"Family_Size\"**\n",
        "* Create a feature **\"Is_Parent\"** to indicate parenthood status\n",
        "* Lastly, I will create three categories in the **\"Education\"** by simplifying its value counts.\n",
        "* Dropping some of the redundant features"
      ],
      "metadata": {
        "id": "j7yzYG-erQoO"
      }
    },
    {
      "cell_type": "code",
      "source": [
        "#Feature Engineering\n",
        "#Age of customer today\n",
        "data[\"Age\"] = 2021-data[\"Year_Birth\"]\n",
        "\n",
        "#Total spendings on various items\n",
        "data[\"Spent\"] = data[\"MntWines\"]+ data[\"MntFruits\"]+ data[\"MntMeatProducts\"]+ data[\"MntFishProducts\"]+ data[\"MntSweetProducts\"]+ data[\"MntGoldProds\"]\n",
        "\n",
        "#Deriving living situation by marital status\"Alone\"\n",
        "data[\"Living_With\"]=data[\"Marital_Status\"].replace({\"Married\":\"Partner\", \"Together\":\"Partner\", \"Absurd\":\"Alone\", \"Widow\":\"Alone\", \"YOLO\":\"Alone\", \"Divorced\":\"Alone\", \"Single\":\"Alone\",})\n",
        "\n",
        "#Feature indicating total children living in the household\n",
        "data[\"Children\"]=data[\"Kidhome\"]+data[\"Teenhome\"]\n",
        "\n",
        "#Feature for total members in the householde\n",
        "data[\"Family_Size\"] = data[\"Living_With\"].replace({\"Alone\": 1, \"Partner\":2})+ data[\"Children\"]\n",
        "\n",
        "#Feature pertaining parenthood\n",
        "data[\"Is_Parent\"] = np.where(data.Children> 0, 1, 0)\n",
        "\n",
        "#Segmenting education levels in three groups\n",
        "data[\"Education\"]=data[\"Education\"].replace({\"Basic\":\"Undergraduate\",\"2n Cycle\":\"Undergraduate\", \"Graduation\":\"Graduate\", \"Master\":\"Postgraduate\", \"PhD\":\"Postgraduate\"})\n",
        "\n",
        "#For clarity\n",
        "data=data.rename(columns={\"MntWines\": \"Wines\",\"MntFruits\":\"Fruits\",\"MntMeatProducts\":\"Meat\",\"MntFishProducts\":\"Fish\",\"MntSweetProducts\":\"Sweets\",\"MntGoldProds\":\"Gold\"})\n",
        "\n",
        "#Dropping some of the redundant features\n",
        "to_drop = [\"Marital_Status\", \"Dt_Customer\", \"Z_CostContact\", \"Z_Revenue\", \"Year_Birth\", \"ID\"]\n",
        "data = data.drop(to_drop, axis=1)"
      ],
      "metadata": {
        "execution": {
          "iopub.status.busy": "2021-10-08T04:12:15.268409Z",
          "iopub.execute_input": "2021-10-08T04:12:15.268669Z",
          "iopub.status.idle": "2021-10-08T04:12:15.399688Z",
          "shell.execute_reply.started": "2021-10-08T04:12:15.26864Z",
          "shell.execute_reply": "2021-10-08T04:12:15.398865Z"
        },
        "trusted": true,
        "id": "IuiKZ-xZrQoP"
      },
      "execution_count": null,
      "outputs": []
    },
    {
      "cell_type": "markdown",
      "source": [
        "Now that we have some new features let's have a look at the data's stats."
      ],
      "metadata": {
        "id": "4XLd1hPwrQoQ"
      }
    },
    {
      "cell_type": "code",
      "source": [
        "data.describe()"
      ],
      "metadata": {
        "execution": {
          "iopub.status.busy": "2021-10-08T04:12:15.400938Z",
          "iopub.execute_input": "2021-10-08T04:12:15.401232Z",
          "iopub.status.idle": "2021-10-08T04:12:15.478487Z",
          "shell.execute_reply.started": "2021-10-08T04:12:15.401193Z",
          "shell.execute_reply": "2021-10-08T04:12:15.477603Z"
        },
        "trusted": true,
        "id": "fFoBPKMxrQoR"
      },
      "execution_count": null,
      "outputs": []
    },
    {
      "cell_type": "markdown",
      "source": [
        "The above stats show some discrepancies in mean Income and Age and max Income and age.\n",
        "\n",
        "Do note that  max-age is 128 years, As I calculated the age that would be today (i.e. 2021) and the data is old.\n",
        "\n",
        "I must take a look at the broader view of the data.\n",
        "I will plot some of the selected features."
      ],
      "metadata": {
        "id": "vtTMp92XrQoS"
      }
    },
    {
      "cell_type": "code",
      "source": [
        "#To plot some selected features\n",
        "#Setting up colors prefrences\n",
        "sns.set(rc={\"axes.facecolor\":\"#FFF9ED\",\"figure.facecolor\":\"#FFF9ED\"})\n",
        "pallet = [\"#682F2F\", \"#9E726F\", \"#D6B2B1\", \"#B9C0C9\", \"#9F8A78\", \"#F3AB60\"]\n",
        "cmap = colors.ListedColormap([\"#682F2F\", \"#9E726F\", \"#D6B2B1\", \"#B9C0C9\", \"#9F8A78\", \"#F3AB60\"])\n",
        "#Plotting following features\n",
        "To_Plot = [ \"Income\", \"Recency\", \"Customer_For\", \"Age\", \"Spent\", \"Is_Parent\"]\n",
        "print(\"Reletive Plot Of Some Selected Features: A Data Subset\")\n",
        "plt.figure()\n",
        "sns.pairplot(data[To_Plot], hue= \"Is_Parent\",palette= ([\"#682F2F\",\"#F3AB60\"]))\n",
        "#Taking hue\n",
        "plt.show()"
      ],
      "metadata": {
        "execution": {
          "iopub.status.busy": "2021-10-08T04:12:15.479912Z",
          "iopub.execute_input": "2021-10-08T04:12:15.48015Z",
          "iopub.status.idle": "2021-10-08T04:12:24.092248Z",
          "shell.execute_reply.started": "2021-10-08T04:12:15.480124Z",
          "shell.execute_reply": "2021-10-08T04:12:24.091575Z"
        },
        "trusted": true,
        "id": "74XHu6KbrQoT"
      },
      "execution_count": null,
      "outputs": []
    },
    {
      "cell_type": "markdown",
      "source": [
        "Clearly, there are a few outliers in the Income and Age features.\n",
        "I will be deleting the outliers in the data."
      ],
      "metadata": {
        "id": "3CBw0OLLrQoU"
      }
    },
    {
      "cell_type": "code",
      "source": [
        "#Dropping the outliers by setting a cap on Age and income.\n",
        "data = data[(data[\"Age\"]<90)]\n",
        "data = data[(data[\"Income\"]<600000)]\n",
        "print(\"The total number of data-points after removing the outliers are:\", len(data))"
      ],
      "metadata": {
        "execution": {
          "iopub.status.busy": "2021-10-08T04:12:24.093559Z",
          "iopub.execute_input": "2021-10-08T04:12:24.093983Z",
          "iopub.status.idle": "2021-10-08T04:12:24.102146Z",
          "shell.execute_reply.started": "2021-10-08T04:12:24.093947Z",
          "shell.execute_reply": "2021-10-08T04:12:24.10103Z"
        },
        "trusted": true,
        "id": "kql9gEk6rQoV"
      },
      "execution_count": null,
      "outputs": []
    },
    {
      "cell_type": "markdown",
      "source": [
        "Next, let us look at the correlation amongst the features.\n",
        "(Excluding the categorical attributes at this point)"
      ],
      "metadata": {
        "id": "a5nBwLdXrQoW"
      }
    },
    {
      "cell_type": "code",
      "source": [
        "#correlation matrix\n",
        "corrmat= data.corr()\n",
        "plt.figure(figsize=(20,20))\n",
        "sns.heatmap(corrmat,annot=True, cmap=cmap, center=0)"
      ],
      "metadata": {
        "execution": {
          "iopub.status.busy": "2021-10-08T04:12:24.103513Z",
          "iopub.execute_input": "2021-10-08T04:12:24.103771Z",
          "iopub.status.idle": "2021-10-08T04:12:28.362244Z",
          "shell.execute_reply.started": "2021-10-08T04:12:24.103737Z",
          "shell.execute_reply": "2021-10-08T04:12:28.361309Z"
        },
        "trusted": true,
        "id": "0EDSkS_0rQoX"
      },
      "execution_count": null,
      "outputs": []
    },
    {
      "cell_type": "markdown",
      "source": [
        "The data is quite clean and the new features have been included. I will proceed to the next step. That is, preprocessing the data.\n",
        "\n",
        "<a id=\"4\"></a>\n",
        "# <p style=\"background-color:#682F2F;font-family:newtimeroman;color:#FFF9ED;font-size:150%;text-align:center;border-radius:10px 10px;\">DATA PREPROCESSING</p>\n",
        "\n",
        "In this section, I will be preprocessing the data to perform clustering operations.\n",
        "\n",
        "**The following steps are applied to preprocess the data:**\n",
        "\n",
        "* Label encoding the categorical features\n",
        "* Scaling the features using the standard scaler\n",
        "* Creating a subset dataframe for dimensionality reduction"
      ],
      "metadata": {
        "id": "FGa-n--erQoY"
      }
    },
    {
      "cell_type": "code",
      "source": [
        "#Get list of categorical variables\n",
        "s = (data.dtypes == 'object')\n",
        "object_cols = list(s[s].index)\n",
        "\n",
        "print(\"Categorical variables in the dataset:\", object_cols)"
      ],
      "metadata": {
        "execution": {
          "iopub.status.busy": "2021-10-08T04:12:28.363461Z",
          "iopub.execute_input": "2021-10-08T04:12:28.363675Z",
          "iopub.status.idle": "2021-10-08T04:12:28.369803Z",
          "shell.execute_reply.started": "2021-10-08T04:12:28.36365Z",
          "shell.execute_reply": "2021-10-08T04:12:28.368828Z"
        },
        "trusted": true,
        "id": "gC5wuaT9rQoZ"
      },
      "execution_count": null,
      "outputs": []
    },
    {
      "cell_type": "code",
      "source": [
        "#Label Encoding the object dtypes.\n",
        "LE=LabelEncoder()\n",
        "for i in object_cols:\n",
        "    data[i]=data[[i]].apply(LE.fit_transform)\n",
        "\n",
        "print(\"All features are now numerical\")"
      ],
      "metadata": {
        "execution": {
          "iopub.status.busy": "2021-10-08T04:12:28.371419Z",
          "iopub.execute_input": "2021-10-08T04:12:28.371692Z",
          "iopub.status.idle": "2021-10-08T04:12:28.390719Z",
          "shell.execute_reply.started": "2021-10-08T04:12:28.371665Z",
          "shell.execute_reply": "2021-10-08T04:12:28.389214Z"
        },
        "trusted": true,
        "id": "uNcIKLotrQoa"
      },
      "execution_count": null,
      "outputs": []
    },
    {
      "cell_type": "code",
      "source": [
        "#Creating a copy of data\n",
        "ds = data.copy()\n",
        "# creating a subset of dataframe by dropping the features on deals accepted and promotions\n",
        "cols_del = ['AcceptedCmp3', 'AcceptedCmp4', 'AcceptedCmp5', 'AcceptedCmp1','AcceptedCmp2', 'Complain', 'Response']\n",
        "ds = ds.drop(cols_del, axis=1)\n",
        "#Scaling\n",
        "scaler = StandardScaler()\n",
        "scaler.fit(ds)\n",
        "scaled_ds = pd.DataFrame(scaler.transform(ds),columns= ds.columns )\n",
        "print(\"All features are now scaled\")"
      ],
      "metadata": {
        "execution": {
          "iopub.status.busy": "2021-10-08T04:12:28.39217Z",
          "iopub.execute_input": "2021-10-08T04:12:28.392542Z",
          "iopub.status.idle": "2021-10-08T04:12:28.408294Z",
          "shell.execute_reply.started": "2021-10-08T04:12:28.392454Z",
          "shell.execute_reply": "2021-10-08T04:12:28.406909Z"
        },
        "trusted": true,
        "id": "mvfgCDLsrQob"
      },
      "execution_count": null,
      "outputs": []
    },
    {
      "cell_type": "code",
      "source": [
        "#Scaled data to be used for reducing the dimensionality\n",
        "print(\"Dataframe to be used for further modelling:\")\n",
        "scaled_ds.head()"
      ],
      "metadata": {
        "execution": {
          "iopub.status.busy": "2021-10-08T04:12:28.409695Z",
          "iopub.execute_input": "2021-10-08T04:12:28.40998Z",
          "iopub.status.idle": "2021-10-08T04:12:28.436795Z",
          "shell.execute_reply.started": "2021-10-08T04:12:28.409942Z",
          "shell.execute_reply": "2021-10-08T04:12:28.43589Z"
        },
        "trusted": true,
        "id": "8nkbHz4LrQoc"
      },
      "execution_count": null,
      "outputs": []
    },
    {
      "cell_type": "markdown",
      "source": [
        "<a id=\"5\"></a>\n",
        "# <p style=\"background-color:#682F2F;font-family:newtimeroman;color:#FFF9ED;font-size:150%;text-align:center;border-radius:10px 10px;\">DIMENSIONALITY REDUCTION</p>\n",
        "In this problem, there are many factors on the basis of which the final classification will be done. These factors are basically attributes or features. The higher the number of features, the harder it is to work with it. Many of these features are correlated, and hence redundant. This is why I will be performing dimensionality reduction on the selected features before putting them through a classifier.  \n",
        "*Dimensionality reduction is the process of reducing the number of random variables under consideration, by obtaining a set of principal variables.*\n",
        "\n",
        "**Principal component analysis (PCA)** is a technique for reducing the dimensionality of such datasets, increasing interpretability but at the same time minimizing information loss.\n",
        "\n",
        "**Steps in this section:**\n",
        "* Dimensionality reduction with PCA\n",
        "* Plotting the reduced dataframe\n",
        "\n",
        "**Dimensionality reduction with PCA**\n",
        "\n",
        "For this project, I will be reducing the dimensions to 3."
      ],
      "metadata": {
        "id": "QYgLKCIyrQod"
      }
    },
    {
      "cell_type": "code",
      "source": [
        "#Initiating PCA to reduce dimentions aka features to 3\n",
        "pca = PCA(n_components=3)\n",
        "pca.fit(scaled_ds)\n",
        "PCA_ds = pd.DataFrame(pca.transform(scaled_ds), columns=([\"col1\",\"col2\", \"col3\"]))\n",
        "PCA_ds.describe().T"
      ],
      "metadata": {
        "execution": {
          "iopub.status.busy": "2021-10-08T04:12:28.438067Z",
          "iopub.execute_input": "2021-10-08T04:12:28.438297Z",
          "iopub.status.idle": "2021-10-08T04:12:28.496516Z",
          "shell.execute_reply.started": "2021-10-08T04:12:28.438263Z",
          "shell.execute_reply": "2021-10-08T04:12:28.495475Z"
        },
        "trusted": true,
        "id": "ErfE59hjrQoi"
      },
      "execution_count": null,
      "outputs": []
    },
    {
      "cell_type": "code",
      "source": [
        "#A 3D Projection Of Data In The Reduced Dimension\n",
        "x =PCA_ds[\"col1\"]\n",
        "y =PCA_ds[\"col2\"]\n",
        "z =PCA_ds[\"col3\"]\n",
        "#To plot\n",
        "fig = plt.figure(figsize=(10,8))\n",
        "ax = fig.add_subplot(111, projection=\"3d\")\n",
        "ax.scatter(x,y,z, c=\"maroon\", marker=\"o\" )\n",
        "ax.set_title(\"A 3D Projection Of Data In The Reduced Dimension\")\n",
        "plt.show()"
      ],
      "metadata": {
        "execution": {
          "iopub.status.busy": "2021-10-08T04:12:28.498425Z",
          "iopub.execute_input": "2021-10-08T04:12:28.49906Z",
          "iopub.status.idle": "2021-10-08T04:12:28.809426Z",
          "shell.execute_reply.started": "2021-10-08T04:12:28.499006Z",
          "shell.execute_reply": "2021-10-08T04:12:28.808813Z"
        },
        "trusted": true,
        "id": "4b3-wFytrQoj"
      },
      "execution_count": null,
      "outputs": []
    },
    {
      "cell_type": "markdown",
      "source": [
        "<a id=\"6\"></a>\n",
        "# <p style=\"background-color:#682F2F;font-family:newtimeroman;color:#FFF9ED;font-size:150%;text-align:center;border-radius:10px 10px;\">CLUSTERING</p>\n",
        "\n",
        "Now that I have reduced the attributes to three dimensions, I will be performing clustering via Agglomerative clustering. Agglomerative clustering is a hierarchical clustering method.  It involves merging examples until the desired number of clusters is achieved.\n",
        "\n",
        "**Steps involved in the Clustering**\n",
        "* Elbow Method to determine the number of clusters to be formed\n",
        "* Clustering via Agglomerative Clustering\n",
        "* Examining the clusters formed via scatter plot"
      ],
      "metadata": {
        "id": "mH6PvK6_rQol"
      }
    },
    {
      "cell_type": "code",
      "source": [
        "# Quick examination of elbow method to find numbers of clusters to make.\n",
        "print('Elbow Method to determine the number of clusters to be formed:')\n",
        "Elbow_M = KElbowVisualizer(KMeans(), k=10)\n",
        "Elbow_M.fit(PCA_ds)\n",
        "Elbow_M.show()"
      ],
      "metadata": {
        "execution": {
          "iopub.status.busy": "2021-10-08T04:12:28.810697Z",
          "iopub.execute_input": "2021-10-08T04:12:28.811458Z",
          "iopub.status.idle": "2021-10-08T04:12:30.671151Z",
          "shell.execute_reply.started": "2021-10-08T04:12:28.811409Z",
          "shell.execute_reply": "2021-10-08T04:12:30.670434Z"
        },
        "trusted": true,
        "id": "C_tNocxlrQon"
      },
      "execution_count": null,
      "outputs": []
    },
    {
      "cell_type": "markdown",
      "source": [
        "The above cell indicates that four will be an optimal number of clusters for this data.\n",
        "Next, we will be fitting the Agglomerative Clustering Model to get the final clusters."
      ],
      "metadata": {
        "execution": {
          "iopub.execute_input": "2021-09-24T12:48:31.555898Z",
          "iopub.status.busy": "2021-09-24T12:48:31.555573Z",
          "iopub.status.idle": "2021-09-24T12:48:31.559969Z",
          "shell.execute_reply": "2021-09-24T12:48:31.559288Z",
          "shell.execute_reply.started": "2021-09-24T12:48:31.55586Z"
        },
        "id": "Ap6dL4-1rQoo"
      }
    },
    {
      "cell_type": "code",
      "source": [
        "#Initiating the Agglomerative Clustering model\n",
        "AC = AgglomerativeClustering(n_clusters=4)\n",
        "# fit model and predict clusters\n",
        "yhat_AC = AC.fit_predict(PCA_ds)\n",
        "PCA_ds[\"Clusters\"] = yhat_AC\n",
        "#Adding the Clusters feature to the orignal dataframe.\n",
        "data[\"Clusters\"]= yhat_AC"
      ],
      "metadata": {
        "execution": {
          "iopub.status.busy": "2021-10-08T04:12:30.672666Z",
          "iopub.execute_input": "2021-10-08T04:12:30.673126Z",
          "iopub.status.idle": "2021-10-08T04:12:30.827286Z",
          "shell.execute_reply.started": "2021-10-08T04:12:30.673084Z",
          "shell.execute_reply": "2021-10-08T04:12:30.826598Z"
        },
        "trusted": true,
        "id": "vMeOhoe5rQop"
      },
      "execution_count": null,
      "outputs": []
    },
    {
      "cell_type": "markdown",
      "source": [
        "To examine the clusters formed let's have a look at the 3-D distribution of the clusters."
      ],
      "metadata": {
        "id": "tmScILIDrQou"
      }
    },
    {
      "cell_type": "code",
      "source": [
        "#Plotting the clusters\n",
        "fig = plt.figure(figsize=(10,8))\n",
        "ax = plt.subplot(111, projection='3d', label=\"bla\")\n",
        "ax.scatter(x, y, z, s=40, c=PCA_ds[\"Clusters\"], marker='o', cmap = cmap )\n",
        "ax.set_title(\"The Plot Of The Clusters\")\n",
        "plt.show()"
      ],
      "metadata": {
        "execution": {
          "iopub.status.busy": "2021-10-08T04:12:30.82827Z",
          "iopub.execute_input": "2021-10-08T04:12:30.828955Z",
          "iopub.status.idle": "2021-10-08T04:12:31.154363Z",
          "shell.execute_reply.started": "2021-10-08T04:12:30.828912Z",
          "shell.execute_reply": "2021-10-08T04:12:31.153018Z"
        },
        "trusted": true,
        "id": "QtHlektbrQpg"
      },
      "execution_count": null,
      "outputs": []
    },
    {
      "cell_type": "markdown",
      "source": [
        "<a id=\"7\"></a>\n",
        "# <p style=\"background-color:#682F2F;font-family:newtimeroman;color:#FFF9ED;font-size:150%;text-align:center;border-radius:10px 10px;\">EVALUATING MODELS</p>\n",
        "\n",
        "Since this is an unsupervised clustering. We do not have a tagged feature to evaluate or score our model. The purpose of this section is to study the patterns in the clusters formed and determine the nature of the clusters' patterns.\n",
        "\n",
        "For that, we will be having a look at the data in light of clusters via exploratory data analysis and drawing conclusions.\n",
        "\n",
        "**Firstly, let us have a look at the group distribution of clustring**"
      ],
      "metadata": {
        "id": "q3jfZ8DtrQph"
      }
    },
    {
      "cell_type": "code",
      "source": [
        "#Plotting countplot of clusters\n",
        "pal = [\"#682F2F\",\"#B9C0C9\", \"#9F8A78\",\"#F3AB60\"]\n",
        "pl = sns.countplot(x=data[\"Clusters\"], palette= pal)\n",
        "pl.set_title(\"Distribution Of The Clusters\")\n",
        "plt.show()"
      ],
      "metadata": {
        "execution": {
          "iopub.status.busy": "2021-10-08T04:12:31.156307Z",
          "iopub.execute_input": "2021-10-08T04:12:31.157327Z",
          "iopub.status.idle": "2021-10-08T04:12:31.385307Z",
          "shell.execute_reply.started": "2021-10-08T04:12:31.157287Z",
          "shell.execute_reply": "2021-10-08T04:12:31.384283Z"
        },
        "trusted": true,
        "id": "cdKBmBuTrQpi"
      },
      "execution_count": null,
      "outputs": []
    },
    {
      "cell_type": "markdown",
      "source": [
        "\n"
      ],
      "metadata": {
        "id": "A5vSh7ZurQpj"
      }
    },
    {
      "cell_type": "markdown",
      "source": [
        "The clusters seem to be fairly distributed."
      ],
      "metadata": {
        "id": "5kDA6_WHrQpk"
      }
    },
    {
      "cell_type": "code",
      "source": [
        "pl = sns.scatterplot(data = data,x=data[\"Spent\"], y=data[\"Income\"],hue=data[\"Clusters\"], palette= pal)\n",
        "pl.set_title(\"Cluster's Profile Based On Income And Spending\")\n",
        "plt.legend()\n",
        "plt.show()"
      ],
      "metadata": {
        "execution": {
          "iopub.status.busy": "2021-10-08T04:12:31.389208Z",
          "iopub.execute_input": "2021-10-08T04:12:31.389468Z",
          "iopub.status.idle": "2021-10-08T04:12:31.818333Z",
          "shell.execute_reply.started": "2021-10-08T04:12:31.38944Z",
          "shell.execute_reply": "2021-10-08T04:12:31.817544Z"
        },
        "trusted": true,
        "id": "kgae4sEbrQpl"
      },
      "execution_count": null,
      "outputs": []
    },
    {
      "cell_type": "markdown",
      "source": [
        "**Income vs  spending plot shows the clusters pattern**\n",
        "* group 0: high spending & average income\n",
        "* group 1: high spending & high income\n",
        "* group 2: low spending & low income\n",
        "* group 3: high spending & low income  \n",
        "\n",
        "Next, I will be looking at the detailed distribution of clusters as per the various products in the data. Namely: Wines, Fruits, Meat, Fish, Sweets and Gold"
      ],
      "metadata": {
        "id": "LrVrW3z-rQpm"
      }
    },
    {
      "cell_type": "code",
      "source": [
        "plt.figure()\n",
        "pl=sns.swarmplot(x=data[\"Clusters\"], y=data[\"Spent\"], color= \"#CBEDDD\", alpha=0.5 )\n",
        "pl=sns.boxenplot(x=data[\"Clusters\"], y=data[\"Spent\"], palette=pal)\n",
        "plt.show()"
      ],
      "metadata": {
        "execution": {
          "iopub.status.busy": "2021-10-08T04:12:31.819474Z",
          "iopub.execute_input": "2021-10-08T04:12:31.819769Z",
          "iopub.status.idle": "2021-10-08T04:12:36.276548Z",
          "shell.execute_reply.started": "2021-10-08T04:12:31.81967Z",
          "shell.execute_reply": "2021-10-08T04:12:36.275576Z"
        },
        "trusted": true,
        "id": "SXdq7ZLyrQpn"
      },
      "execution_count": null,
      "outputs": []
    },
    {
      "cell_type": "markdown",
      "source": [
        "\n",
        "From the above plot, it can be clearly seen that cluster 1 is our biggest set of customers closely followed by cluster 0.\n",
        "We can explore what each cluster is spending on for the targeted marketing strategies.\n"
      ],
      "metadata": {
        "id": "-XF3QgLerQpo"
      }
    },
    {
      "cell_type": "markdown",
      "source": [
        "Let us next explore how did our campaigns do in the past."
      ],
      "metadata": {
        "id": "ZwZhW4bjrQpp"
      }
    },
    {
      "cell_type": "code",
      "source": [
        "#Creating a feature to get a sum of accepted promotions\n",
        "data[\"Total_Promos\"] = data[\"AcceptedCmp1\"]+ data[\"AcceptedCmp2\"]+ data[\"AcceptedCmp3\"]+ data[\"AcceptedCmp4\"]+ data[\"AcceptedCmp5\"]\n",
        "#Plotting count of total campaign accepted.\n",
        "plt.figure()\n",
        "pl = sns.countplot(x=data[\"Total_Promos\"],hue=data[\"Clusters\"], palette= pal)\n",
        "pl.set_title(\"Count Of Promotion Accepted\")\n",
        "pl.set_xlabel(\"Number Of Total Accepted Promotions\")\n",
        "plt.show()"
      ],
      "metadata": {
        "execution": {
          "iopub.status.busy": "2021-10-08T04:12:36.277774Z",
          "iopub.execute_input": "2021-10-08T04:12:36.278041Z",
          "iopub.status.idle": "2021-10-08T04:12:36.565937Z",
          "shell.execute_reply.started": "2021-10-08T04:12:36.27801Z",
          "shell.execute_reply": "2021-10-08T04:12:36.565035Z"
        },
        "trusted": true,
        "id": "gX5XgSSDrQpr"
      },
      "execution_count": null,
      "outputs": []
    },
    {
      "cell_type": "markdown",
      "source": [
        "There has not been an overwhelming response to the campaigns so far. Very few participants overall. Moreover, no one part take in all 5 of them. Perhaps better-targeted and well-planned campaigns are required to boost sales.\n"
      ],
      "metadata": {
        "id": "3sB9h3Y6rQps"
      }
    },
    {
      "cell_type": "code",
      "source": [
        "#Plotting the number of deals purchased\n",
        "plt.figure()\n",
        "pl=sns.boxenplot(y=data[\"NumDealsPurchases\"],x=data[\"Clusters\"], palette= pal)\n",
        "pl.set_title(\"Number of Deals Purchased\")\n",
        "plt.show()"
      ],
      "metadata": {
        "execution": {
          "iopub.status.busy": "2021-10-08T04:12:36.567009Z",
          "iopub.execute_input": "2021-10-08T04:12:36.567218Z",
          "iopub.status.idle": "2021-10-08T04:12:36.806254Z",
          "shell.execute_reply.started": "2021-10-08T04:12:36.567195Z",
          "shell.execute_reply": "2021-10-08T04:12:36.805457Z"
        },
        "trusted": true,
        "id": "duMq8Sj5rQpt"
      },
      "execution_count": null,
      "outputs": []
    },
    {
      "cell_type": "markdown",
      "source": [
        "Unlike campaigns, the deals offered did well. It has best outcome with cluster 0 and cluster 3.\n",
        "However, our star customers cluster 1 are not much into the deals.\n",
        "Nothing seems to attract cluster 2 overwhelmingly\n"
      ],
      "metadata": {
        "id": "apN35lOMrQpu"
      }
    },
    {
      "cell_type": "code",
      "source": [
        "#for more details on the purchasing style\n",
        "Places =[\"NumWebPurchases\", \"NumCatalogPurchases\", \"NumStorePurchases\",  \"NumWebVisitsMonth\"]\n",
        "\n",
        "for i in Places:\n",
        "    plt.figure()\n",
        "    sns.jointplot(x=data[i],y = data[\"Spent\"],hue=data[\"Clusters\"], palette= pal)\n",
        "    plt.show()"
      ],
      "metadata": {
        "_kg_hide-input": true,
        "_kg_hide-output": true,
        "execution": {
          "iopub.status.busy": "2021-10-08T04:12:36.807424Z",
          "iopub.execute_input": "2021-10-08T04:12:36.807729Z",
          "iopub.status.idle": "2021-10-08T04:12:39.973646Z",
          "shell.execute_reply.started": "2021-10-08T04:12:36.807697Z",
          "shell.execute_reply": "2021-10-08T04:12:39.972882Z"
        },
        "trusted": true,
        "id": "RHaBoDOMrQpv"
      },
      "execution_count": null,
      "outputs": []
    },
    {
      "cell_type": "markdown",
      "source": [
        "<a id=\"8\"></a>\n",
        "# <p style=\"background-color:#682F2F;font-family:newtimeroman;color:#FFF9ED;font-size:150%;text-align:center;border-radius:10px 10px;\">PROFILING</p>\n",
        "\n",
        "Now that we have formed the clusters and looked at their purchasing habits.\n",
        "Let us see who all are there in these clusters. For that, we will be profiling the clusters formed and come to a conclusion about who is our star customer and who needs more attention from the retail store's marketing team.\n",
        "\n",
        "To decide that I will be plotting some of the features that are indicative of the customer's personal traits in light of the cluster they are in.\n",
        "On the basis of the outcomes, I will be arriving at the conclusions."
      ],
      "metadata": {
        "id": "9AtNlXfGrQpw"
      }
    },
    {
      "cell_type": "code",
      "source": [
        "Personal = [ \"Kidhome\",\"Teenhome\",\"Customer_For\", \"Age\", \"Children\", \"Family_Size\", \"Is_Parent\", \"Education\",\"Living_With\"]\n",
        "\n",
        "for i in Personal:\n",
        "    plt.figure()\n",
        "    sns.jointplot(x=data[i], y=data[\"Spent\"], hue =data[\"Clusters\"], kind=\"kde\", palette=pal)\n",
        "    plt.show()\n"
      ],
      "metadata": {
        "execution": {
          "iopub.status.busy": "2021-10-08T04:12:39.974688Z",
          "iopub.execute_input": "2021-10-08T04:12:39.974932Z",
          "iopub.status.idle": "2021-10-08T04:13:05.313109Z",
          "shell.execute_reply.started": "2021-10-08T04:12:39.974905Z",
          "shell.execute_reply": "2021-10-08T04:13:05.312427Z"
        },
        "trusted": true,
        "id": "heWtRRi7rQpx"
      },
      "execution_count": null,
      "outputs": []
    },
    {
      "cell_type": "markdown",
      "source": [
        "**Points to be noted:**\n",
        "\n",
        "The following information can be deduced about the customers in different clusters.\n",
        "\n",
        "<img src=\"https://github.com/KarnikaKapoor/Files/blob/main/Colorful%20Handwritten%20About%20Me%20Blank%20Education%20Presentation%20(3).png?raw=true\">\n",
        "  "
      ],
      "metadata": {
        "id": "jm8L3_zNrQpy"
      }
    },
    {
      "cell_type": "markdown",
      "source": [
        "<a id=\"9\"></a>\n",
        "# <p style=\"background-color:#682F2F;font-family:newtimeroman;color:#FFF9ED;font-size:150%;text-align:center;border-radius:10px 10px;\">CONCLUSION</p>\n",
        "\n",
        "In this project, I performed unsupervised clustering.\n",
        "I did use dimensionality reduction followed by agglomerative clustering.\n",
        "I came up with 4 clusters and further used them in profiling customers in clusters according to their family structures and income/spending.\n",
        "This can be used in planning better marketing strategies.\n",
        "\n",
        "**<span style=\"color:#682F2F;\"> If you liked this Notebook, please do upvote.</span>**\n",
        "\n",
        "**<span style=\"color:#682F2F;\">If you have any questions, feel free to comment!</span>**\n",
        "\n",
        "**<span style=\"color:#682F2F;\"> Best Wishes!</span>**\n",
        "\n",
        "<a id=\"10\"></a>\n",
        "# <p style=\"background-color:#682F2F;font-family:newtimeroman;color:#FFF9ED;font-size:150%;text-align:center;border-radius:10px 10px;\">END</p>"
      ],
      "metadata": {
        "id": "7ePOGrnQrQpz"
      }
    }
  ]
}