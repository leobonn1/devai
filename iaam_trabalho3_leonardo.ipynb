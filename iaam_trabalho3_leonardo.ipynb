{
  "nbformat": 4,
  "nbformat_minor": 0,
  "metadata": {
    "colab": {
      "provenance": [],
      "include_colab_link": true
    },
    "kernelspec": {
      "name": "python3",
      "display_name": "Python 3"
    },
    "language_info": {
      "name": "python"
    }
  },
  "cells": [
    {
      "cell_type": "markdown",
      "metadata": {
        "id": "view-in-github",
        "colab_type": "text"
      },
      "source": [
        "<a href=\"https://colab.research.google.com/github/leobonn1/devai/blob/main/iaam_trabalho3_leonardo.ipynb\" target=\"_parent\"><img src=\"https://colab.research.google.com/assets/colab-badge.svg\" alt=\"Open In Colab\"/></a>"
      ]
    },
    {
      "cell_type": "markdown",
      "source": [
        "#Árvore de decisão para atributos contínuos"
      ],
      "metadata": {
        "id": "jHpkdqLfpNEP"
      }
    },
    {
      "cell_type": "markdown",
      "source": [
        "Observações:\n",
        "* Usei a base Wine do scikit-learn\n",
        "* O único pré-processamento feito foi o scaler, para normalizar as características\n",
        "* Deixei a implementação ZeroR com uso do método maisFrequente para poder comparar os resultados\n",
        "* Criei o método melhorValor1 com a alteração sugerida, o método melhorCaracteristica1 que chama melhorValor1 e o classificador Arvore1, que usa  melhorCaracteristica1\n"
      ],
      "metadata": {
        "id": "olM0EtrsaCNL"
      }
    },
    {
      "cell_type": "code",
      "source": [
        "#from sklearn.datasets import load_iris\n",
        "#dataset = load_iris()\n",
        "from sklearn.datasets import load_wine\n",
        "X, y = load_wine(return_X_y=True)"
      ],
      "metadata": {
        "id": "0QWreFlWaErs"
      },
      "execution_count": null,
      "outputs": []
    },
    {
      "cell_type": "code",
      "source": [
        "from sklearn.preprocessing import StandardScaler\n",
        "scaler = StandardScaler()\n",
        "X = scaler.fit_transform(X)"
      ],
      "metadata": {
        "id": "2N3KRVsYROWh"
      },
      "execution_count": 131,
      "outputs": []
    },
    {
      "cell_type": "code",
      "source": [
        "from sklearn.base import BaseEstimator, ClassifierMixin\n",
        "from collections import Counter\n",
        "import numpy as np\n",
        "from sklearn.model_selection import cross_validate\n",
        "\n",
        "def maisFrequente(y):\n",
        "  return Counter(y.flat).most_common(1)[0][0]\n",
        "\n",
        "class ZeroR(BaseEstimator, ClassifierMixin):\n",
        "  def fit(self, X, y):\n",
        "    self.resposta = maisFrequente(y)\n",
        "    return self\n",
        "  def predict(self, X, y=None):\n",
        "    y = np.empty((X.shape[0]))\n",
        "    y[:] = self.resposta\n",
        "    return y\n",
        "\n",
        "scores = cross_validate(ZeroR(), X, y)\n",
        "scores['test_score'], np.mean(scores['test_score'])"
      ],
      "metadata": {
        "colab": {
          "base_uri": "https://localhost:8080/"
        },
        "id": "VvwYMkEtuyPp",
        "outputId": "bdc407c6-dc5d-4468-9f38-ed29a6f65fab"
      },
      "execution_count": 133,
      "outputs": [
        {
          "output_type": "execute_result",
          "data": {
            "text/plain": [
              "(array([0.38888889, 0.38888889, 0.38888889, 0.4       , 0.42857143]),\n",
              " 0.3990476190476191)"
            ]
          },
          "metadata": {},
          "execution_count": 133
        }
      ]
    },
    {
      "cell_type": "code",
      "source": [
        "modelo = ZeroR()\n",
        "modelo.fit(X, y)\n",
        "modelo.resposta"
      ],
      "metadata": {
        "colab": {
          "base_uri": "https://localhost:8080/"
        },
        "id": "_W3c_vH-xCd5",
        "outputId": "2c5396a9-b3c3-4ef2-bfc7-9ade8e0f5791"
      },
      "execution_count": 160,
      "outputs": [
        {
          "output_type": "execute_result",
          "data": {
            "text/plain": [
              "1"
            ]
          },
          "metadata": {},
          "execution_count": 160
        }
      ]
    },
    {
      "cell_type": "code",
      "source": [
        "modelo = ZeroR()\n",
        "modelo.fit(X, y)\n",
        "ypred = modelo.predict(X)\n",
        "sum(y==ypred)/len(y)"
      ],
      "metadata": {
        "colab": {
          "base_uri": "https://localhost:8080/"
        },
        "id": "J9tBeXvBx1Rl",
        "outputId": "0904bbc6-981d-4ac3-e3b5-5817533baf31"
      },
      "execution_count": 161,
      "outputs": [
        {
          "output_type": "execute_result",
          "data": {
            "text/plain": [
              "0.398876404494382"
            ]
          },
          "metadata": {},
          "execution_count": 161
        }
      ]
    },
    {
      "cell_type": "code",
      "source": [
        "class Arvore(BaseEstimator, ClassifierMixin):\n",
        "  def fit(self, X, y):\n",
        "    self.caracteristica = 2\n",
        "    self.valor = np.mean(X[:,self.caracteristica])\n",
        "    maiores = X[:,self.caracteristica] > self.valor\n",
        "    if sum(maiores)>0 and sum(~maiores)>0:\n",
        "      self.maiores = Arvore()\n",
        "      self.maiores.fit(X[maiores,:], y[maiores])\n",
        "      self.menores = Arvore()\n",
        "      self.menores.fit(X[~maiores,:], y[~maiores])\n",
        "    else:\n",
        "      self.resposta = maisFrequente(y)\n",
        "    return self\n",
        "  def predict(self, X, y=None):\n",
        "    y = np.empty((X.shape[0]))\n",
        "    if hasattr(self, 'resposta'):\n",
        "      y[:] = self.resposta\n",
        "    else:\n",
        "      maiores = X[:,self.caracteristica] > self.valor\n",
        "      y[maiores] = self.maiores.predict(X[maiores,:])\n",
        "      y[~maiores] = self.menores.predict(X[~maiores,:])\n",
        "    return y\n",
        "\n",
        "modelo = Arvore()\n",
        "modelo.fit(X, y)\n",
        "ypred = modelo.predict(X)\n",
        "sum(y==ypred)/len(y)"
      ],
      "metadata": {
        "colab": {
          "base_uri": "https://localhost:8080/"
        },
        "id": "Su3Qz-UW-FKb",
        "outputId": "55348431-5171-4b04-8b50-a51e19d19bba"
      },
      "execution_count": 136,
      "outputs": [
        {
          "output_type": "execute_result",
          "data": {
            "text/plain": [
              "0.702247191011236"
            ]
          },
          "metadata": {},
          "execution_count": 136
        }
      ]
    },
    {
      "cell_type": "code",
      "source": [
        "scores = cross_validate(Arvore(), X, y)\n",
        "scores['test_score'], np.mean(scores['test_score'])"
      ],
      "metadata": {
        "colab": {
          "base_uri": "https://localhost:8080/"
        },
        "id": "7rBI_tK0_Pfd",
        "outputId": "88371618-ffc1-477f-e086-876ba439607f"
      },
      "execution_count": 137,
      "outputs": [
        {
          "output_type": "execute_result",
          "data": {
            "text/plain": [
              "(array([0.36111111, 0.47222222, 0.5       , 0.4       , 0.28571429]),\n",
              " 0.4038095238095238)"
            ]
          },
          "metadata": {},
          "execution_count": 137
        }
      ]
    },
    {
      "cell_type": "code",
      "source": [
        "def impureza(y): #Gini\n",
        "  labels = list(set(y))\n",
        "  labels.sort()\n",
        "  probabilidades = np.zeros((len(labels),))\n",
        "  for i, k in enumerate(labels):\n",
        "    probabilidades[i] = sum(y==k)/len(y)\n",
        "  result = 1 - sum(probabilidades ** 2)\n",
        "  return result\n",
        "\n",
        "impureza(y[:])"
      ],
      "metadata": {
        "colab": {
          "base_uri": "https://localhost:8080/"
        },
        "id": "ip3ex20v1qmV",
        "outputId": "137dd22a-9454-4080-9a05-c755638c0302"
      },
      "execution_count": 162,
      "outputs": [
        {
          "output_type": "execute_result",
          "data": {
            "text/plain": [
              "0.6583133442747129"
            ]
          },
          "metadata": {},
          "execution_count": 162
        }
      ]
    },
    {
      "cell_type": "code",
      "source": [
        "def impurezaValor(x, y, valor):\n",
        "  maiores = x > valor\n",
        "  impurezamaiores = impureza(y[maiores])\n",
        "  proporcaomaiores = sum(maiores)/len(y)\n",
        "  impurezamenores = impureza(y[~maiores])\n",
        "  proporcaomenores = sum(~maiores)/len(y)\n",
        "  impurezaTotal = proporcaomaiores*impurezamaiores + proporcaomenores*impurezamenores\n",
        "  return impurezaTotal, impurezamenores, impurezamaiores\n",
        "\n",
        "impurezaValor(X[:,2], y, 2.5)"
      ],
      "metadata": {
        "colab": {
          "base_uri": "https://localhost:8080/"
        },
        "id": "cqV-Eg7G20Y7",
        "outputId": "31e28c8a-c039-4342-aea1-2dabf4420776"
      },
      "execution_count": 163,
      "outputs": [
        {
          "output_type": "execute_result",
          "data": {
            "text/plain": [
              "(0.6570480081716037, 0.6588326446280992, 0.5)"
            ]
          },
          "metadata": {},
          "execution_count": 163
        }
      ]
    },
    {
      "cell_type": "code",
      "source": [
        "def melhorValor(x, y):\n",
        "  result = None\n",
        "  menorImpureza = float('inf')\n",
        "  xmax = np.max(x)\n",
        "  xmin = np.min(x)\n",
        "  while True:\n",
        "    valor = (xmin+xmax)/2\n",
        "    impTotal, impMenores, impMaiores = impurezaValor(x, y, valor)\n",
        "    if impTotal < menorImpureza:\n",
        "      menorImpureza = impTotal\n",
        "      result = valor\n",
        "      if impMaiores == 0 or impMenores == 0:\n",
        "        break\n",
        "      if impMaiores < impMenores:\n",
        "        xmin = valor\n",
        "      else:\n",
        "        xmax = valor\n",
        "    else:\n",
        "      break\n",
        "  return result, menorImpureza\n",
        "\n",
        "melhorValor(X[:,2], y)"
      ],
      "metadata": {
        "colab": {
          "base_uri": "https://localhost:8080/"
        },
        "id": "Yt8Zzg5tBeB5",
        "outputId": "dba7739f-57d1-4276-aa48-b851ea692661"
      },
      "execution_count": 164,
      "outputs": [
        {
          "output_type": "execute_result",
          "data": {
            "text/plain": [
              "(-0.26141848202328566, 0.6139307817100282)"
            ]
          },
          "metadata": {},
          "execution_count": 164
        }
      ]
    },
    {
      "cell_type": "code",
      "source": [
        "def melhorCaracteristica(X, y):\n",
        "  impurezas = []\n",
        "  valores = []\n",
        "  for caracteristica in range(X.shape[1]):\n",
        "    valor, imp = melhorValor(X[:,caracteristica], y)\n",
        "    impurezas.append(imp)\n",
        "    valores.append(valor)\n",
        "  # print(impurezas)\n",
        "  # print(valores)\n",
        "  impurezas = np.array(impurezas)\n",
        "  caracteristica = np.argmin(impurezas)\n",
        "  return impurezas[caracteristica], caracteristica, valores[caracteristica]\n",
        "\n",
        "melhorCaracteristica(X, y)"
      ],
      "metadata": {
        "colab": {
          "base_uri": "https://localhost:8080/"
        },
        "id": "7X8d7Zwg4IWN",
        "outputId": "181da0d9-bb90-4406-94b6-ef6e17699f4c"
      },
      "execution_count": 165,
      "outputs": [
        {
          "output_type": "execute_result",
          "data": {
            "text/plain": [
              "(0.43761750381193476, 12, 0.7391424652275728)"
            ]
          },
          "metadata": {},
          "execution_count": 165
        }
      ]
    },
    {
      "cell_type": "code",
      "source": [
        "class Arvore(BaseEstimator, ClassifierMixin):\n",
        "  def fit(self, X, y):\n",
        "    self.impureza, self.caracteristica, self.valor = melhorCaracteristica(X, y)\n",
        "    #print(f'{self.impureza}, {self.caracteristica}, {self.valor}')\n",
        "    maiores = X[:,self.caracteristica] > self.valor\n",
        "    if sum(maiores)>0 and sum(~maiores)>0:\n",
        "      self.maiores = Arvore()\n",
        "      self.maiores.fit(X[maiores,:], y[maiores])\n",
        "      self.menores = Arvore()\n",
        "      self.menores.fit(X[~maiores,:], y[~maiores])\n",
        "    else:\n",
        "      self.resposta = maisFrequente(y)\n",
        "    return self\n",
        "  def predict(self, X, y=None):\n",
        "    y = np.empty((X.shape[0]))\n",
        "    if hasattr(self, 'resposta'):\n",
        "      y[:] = self.resposta\n",
        "    else:\n",
        "      maiores = X[:,self.caracteristica] > self.valor\n",
        "      y[maiores] = self.maiores.predict(X[maiores,:])\n",
        "      y[~maiores] = self.menores.predict(X[~maiores,:])\n",
        "    return y\n",
        "\n",
        "modelo = Arvore()\n",
        "modelo.fit(X, y)\n",
        "ypred = modelo.predict(X)\n",
        "sum(y==ypred)/len(y)"
      ],
      "metadata": {
        "colab": {
          "base_uri": "https://localhost:8080/"
        },
        "id": "vBK-Msac9CyJ",
        "outputId": "dd0825d6-4e20-4edd-858b-bdbb136d3c33"
      },
      "execution_count": 166,
      "outputs": [
        {
          "output_type": "execute_result",
          "data": {
            "text/plain": [
              "1.0"
            ]
          },
          "metadata": {},
          "execution_count": 166
        }
      ]
    },
    {
      "cell_type": "code",
      "source": [
        "def melhorValor1(x, y):\n",
        "  result = None\n",
        "  menorImpureza = float('inf')\n",
        "\n",
        "  # trata caso especial de x com uma linha só\n",
        "  if x.shape[0] < 2:\n",
        "    return x[0], 0.0\n",
        "\n",
        "  x1 = np.sort(x)\n",
        "  for i in range(y.shape[0] - 1):\n",
        "    valor = (x1[i]+x1[i+1])/2\n",
        "    impTotal, impMenores, impMaiores = impurezaValor(x1, y, valor)\n",
        "    if impTotal < menorImpureza:\n",
        "      #print(f'valor: {valor}, menor: {menorImpureza}, nova: {impTotal}')\n",
        "      menorImpureza = impTotal\n",
        "      result = valor\n",
        "\n",
        "  return result, menorImpureza\n",
        "\n",
        "melhorValor1(X[:,2], y)"
      ],
      "metadata": {
        "colab": {
          "base_uri": "https://localhost:8080/"
        },
        "id": "10whxuJvAMc1",
        "outputId": "a7919539-f1f5-4523-9e2d-7bd01eeea593"
      },
      "execution_count": 173,
      "outputs": [
        {
          "output_type": "execute_result",
          "data": {
            "text/plain": [
              "(-0.35280200480440144, 0.3217826456425267)"
            ]
          },
          "metadata": {},
          "execution_count": 173
        }
      ]
    },
    {
      "cell_type": "code",
      "source": [
        "def melhorCaracteristica1(X, y):\n",
        "  impurezas = []\n",
        "  valores = []\n",
        "  for caracteristica in range(X.shape[1]):\n",
        "    valor, imp = melhorValor1(X[:,caracteristica], y)\n",
        "    impurezas.append(imp)\n",
        "    valores.append(valor)\n",
        "  #print(impurezas)\n",
        "  #print(valores)\n",
        "  impurezas = np.array(impurezas)\n",
        "  caracteristica = np.argmin(impurezas)\n",
        "  return impurezas[caracteristica], caracteristica, valores[caracteristica]\n",
        "\n",
        "melhorCaracteristica1(X, y)"
      ],
      "metadata": {
        "colab": {
          "base_uri": "https://localhost:8080/"
        },
        "id": "kI2dE2B1AWau",
        "outputId": "1a4911aa-9ab5-4f0a-d6b6-3404687f9ac6"
      },
      "execution_count": 174,
      "outputs": [
        {
          "output_type": "execute_result",
          "data": {
            "text/plain": [
              "(0.3217826456425267, 0, -0.6060431988510735)"
            ]
          },
          "metadata": {},
          "execution_count": 174
        }
      ]
    },
    {
      "cell_type": "code",
      "source": [
        "class Arvore1(BaseEstimator, ClassifierMixin):\n",
        "  def fit(self, X, y):\n",
        "    self.impureza, self.caracteristica, self.valor = melhorCaracteristica1(X, y)\n",
        "    #print(f'fit: {X.shape[0]}, {self.impureza}, {self.caracteristica}, {self.valor}')\n",
        "    maiores = X[:,self.caracteristica] > self.valor\n",
        "    if sum(maiores)>0 and sum(~maiores)>0:\n",
        "      self.maiores = Arvore1()\n",
        "      self.maiores.fit(X[maiores,:], y[maiores])\n",
        "      self.menores = Arvore1()\n",
        "      self.menores.fit(X[~maiores,:], y[~maiores])\n",
        "    else:\n",
        "      self.resposta = maisFrequente(y)\n",
        "    return self\n",
        "  def predict(self, X, y=None):\n",
        "    y = np.empty((X.shape[0]))\n",
        "    if hasattr(self, 'resposta'):\n",
        "      y[:] = self.resposta\n",
        "    else:\n",
        "      maiores = X[:,self.caracteristica] > self.valor\n",
        "      y[maiores] = self.maiores.predict(X[maiores,:])\n",
        "      y[~maiores] = self.menores.predict(X[~maiores,:])\n",
        "    return y\n",
        "\n",
        "modelo1 = Arvore1()\n",
        "modelo1.fit(X, y)\n",
        "ypred = modelo1.predict(X)\n",
        "sum(y==ypred)/len(y)"
      ],
      "metadata": {
        "colab": {
          "base_uri": "https://localhost:8080/"
        },
        "id": "fkD1ROct9rLS",
        "outputId": "d85952bc-dc8d-4ff2-fd8d-ed25f1275c21"
      },
      "execution_count": 175,
      "outputs": [
        {
          "output_type": "execute_result",
          "data": {
            "text/plain": [
              "1.0"
            ]
          },
          "metadata": {},
          "execution_count": 175
        }
      ]
    },
    {
      "cell_type": "code",
      "source": [
        "scores = cross_validate(Arvore(), X, y)\n",
        "scores['test_score'], np.mean(scores['test_score'])"
      ],
      "metadata": {
        "colab": {
          "base_uri": "https://localhost:8080/"
        },
        "id": "iZVg23RL7EYV",
        "outputId": "83478acb-9cdd-4bd1-d04c-97efc5a498c2"
      },
      "execution_count": 170,
      "outputs": [
        {
          "output_type": "execute_result",
          "data": {
            "text/plain": [
              "(array([0.77777778, 0.88888889, 0.80555556, 1.        , 0.97142857]),\n",
              " 0.8887301587301588)"
            ]
          },
          "metadata": {},
          "execution_count": 170
        }
      ]
    },
    {
      "cell_type": "code",
      "source": [
        "scores = cross_validate(Arvore1(), X, y)\n",
        "scores['test_score'], np.mean(scores['test_score'])"
      ],
      "metadata": {
        "colab": {
          "base_uri": "https://localhost:8080/"
        },
        "id": "OPJ7Gf6G94Wq",
        "outputId": "4b799429-71c0-4500-cc04-65dd1ea280a4"
      },
      "execution_count": 176,
      "outputs": [
        {
          "output_type": "execute_result",
          "data": {
            "text/plain": [
              "(array([0.66666667, 0.66666667, 0.77777778, 0.8       , 0.71428571]),\n",
              " 0.7250793650793652)"
            ]
          },
          "metadata": {},
          "execution_count": 176
        }
      ]
    },
    {
      "cell_type": "markdown",
      "source": [
        "A média de Scores ficou assim:\n",
        "- ZeroR (predição com maisFrequente): 0.4038095238095238\n",
        "- Arvore (melhorValor usando mean): 0.8887301587301588\n",
        "- Arvore1: (melhorValor alterado) 0.7250793650793652\n",
        "\n",
        "Portanto, a alteração piorou o resultado em relação à Arvore, apesar de ter melhorado em relação à Arvore com maisFrequente"
      ],
      "metadata": {
        "id": "yoEdrMs2W09O"
      }
    },
    {
      "cell_type": "code",
      "source": [
        "import timeit\n",
        "modelo = Arvore()\n",
        "result = timeit.timeit(stmt='modelo.fit(X,y)', globals=globals(), number=10)\n",
        "print(f'Tempo do fit (Arvore): {result}')"
      ],
      "metadata": {
        "colab": {
          "base_uri": "https://localhost:8080/"
        },
        "id": "MjC79gdVLU4h",
        "outputId": "1889bd8e-5fb2-4cab-fd85-33afb34b04e8"
      },
      "execution_count": 179,
      "outputs": [
        {
          "output_type": "stream",
          "name": "stdout",
          "text": [
            "Tempo do fit (Arvore): 1.9875661739988573\n"
          ]
        }
      ]
    },
    {
      "cell_type": "code",
      "source": [
        "import timeit\n",
        "modelo1 = Arvore1()\n",
        "result = timeit.timeit(stmt='modelo1.fit(X,y)', globals=globals(), number=10)\n",
        "print(f'Tempo do fit (Arvore1): {result}')"
      ],
      "metadata": {
        "colab": {
          "base_uri": "https://localhost:8080/"
        },
        "id": "5SdE2ekyLVVP",
        "outputId": "87ca840a-34f6-49d3-8c28-d11dc4210a17"
      },
      "execution_count": 181,
      "outputs": [
        {
          "output_type": "stream",
          "name": "stdout",
          "text": [
            "Tempo do fit (Arvore1): 23.297404504999577\n"
          ]
        }
      ]
    },
    {
      "cell_type": "markdown",
      "source": [
        "Comparação:\n",
        "* Tempo do fit (Arvore): 1.9612915109992173\n",
        "* Tempo do fit (Arvore1): 19.237037956001586\n",
        "Portanto, o tempo de execução piorou bastante em relação ao método original\n"
      ],
      "metadata": {
        "id": "zM621gUjcCRl"
      }
    },
    {
      "cell_type": "code",
      "source": [
        "import matplotlib.pyplot as plt\n",
        "\n",
        "def plotDecisao(modelo, X, y):\n",
        "  modelo.fit(X, y)\n",
        "  x0s = np.linspace(np.min(X[:,0])-0.2, np.max(X[:,0])+0.2, 100)\n",
        "  x1s = np.linspace(np.min(X[:,1])-0.2, np.max(X[:,1])+0.2, 100)\n",
        "  x0, x1 = np.meshgrid(x0s, x1s)\n",
        "  Xdec = np.c_[x0.ravel(), x1.ravel()]\n",
        "  ypred = modelo.predict(Xdec)\n",
        "  plt.contourf(x0, x1, ypred.reshape(x0.shape), alpha=0.25)\n",
        "  for k in set(y):\n",
        "    plt.plot(X[:,0][y==k], X[:,1][y==k], 'o')\n",
        "  plt.show()\n",
        "\n",
        "plotDecisao(Arvore(), X[:,11:13], y)"
      ],
      "metadata": {
        "colab": {
          "base_uri": "https://localhost:8080/",
          "height": 430
        },
        "id": "uIczF43wFLdO",
        "outputId": "18047928-6d56-48b2-806d-cd972cee08fc"
      },
      "execution_count": 182,
      "outputs": [
        {
          "output_type": "display_data",
          "data": {
            "text/plain": [
              "<Figure size 640x480 with 1 Axes>"
            ],
            "image/png": "[encoded data removed]"
          },
          "metadata": {}
        }
      ]
    },
    {
      "cell_type": "code",
      "source": [
        "plotDecisao(Arvore1(), X[:,11:13], y)"
      ],
      "metadata": {
        "colab": {
          "base_uri": "https://localhost:8080/",
          "height": 430
        },
        "id": "aEhhE7I5wuIM",
        "outputId": "ce5fd9e4-1e5b-42b5-f7ca-b476a2830393"
      },
      "execution_count": 183,
      "outputs": [
        {
          "output_type": "display_data",
          "data": {
            "text/plain": [
              "<Figure size 640x480 with 1 Axes>"
            ],
            "image/png": "[encoded data removed]"
          },
          "metadata": {}
        }
      ]
    },
    {
      "cell_type": "code",
      "source": [],
      "metadata": {
        "id": "A21Ps1wDUh0a"
      },
      "execution_count": null,
      "outputs": []
    }
  ]
}